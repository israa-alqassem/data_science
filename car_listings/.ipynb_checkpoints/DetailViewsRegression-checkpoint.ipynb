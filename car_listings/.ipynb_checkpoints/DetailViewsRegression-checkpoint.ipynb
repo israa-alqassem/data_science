{
 "cells": [
  {
   "cell_type": "code",
   "execution_count": 5,
   "metadata": {},
   "outputs": [],
   "source": [
    "import sys\n",
    "import csv\n",
    "import numpy as np\n",
    "import pandas as pd \n",
    "from collections import Counter\n",
    "import sklearn,matplotlib\n",
    "from sklearn import preprocessing\n",
    "from sklearn.preprocessing import OrdinalEncoder\n",
    "from sklearn.model_selection import train_test_split\n",
    "from sklearn import metrics\n",
    "from sklearn.datasets import make_regression\n",
    "from sklearn.feature_selection import SelectKBest\n",
    "from sklearn.feature_selection import f_regression\n",
    "from sklearn.feature_selection import mutual_info_regression\n",
    "from sklearn.metrics import mean_squared_error\n",
    "from matplotlib import pyplot"
   ]
  },
  {
   "cell_type": "code",
   "execution_count": 6,
   "metadata": {},
   "outputs": [
    {
     "name": "stdout",
     "output_type": "stream",
     "text": [
      "python 3.6.12 |Anaconda, Inc.| (default, Sep  8 2020, 17:50:39) \n",
      "[GCC Clang 10.0.0 ]\n",
      "numpy: 1.19.2\n",
      "pandas: 1.1.5\n",
      "sklearn: 0.23.2\n",
      "matplotlib: 3.3.2\n"
     ]
    }
   ],
   "source": [
    "print('python '+sys.version)\n",
    "print('numpy:',np.__version__)\n",
    "print('pandas:',pd.__version__)\n",
    "print('sklearn:',sklearn.__version__)\n",
    "print('matplotlib:',matplotlib.__version__)"
   ]
  },
  {
   "cell_type": "code",
   "execution_count": 1,
   "metadata": {},
   "outputs": [],
   "source": [
    "import warnings\n",
    "warnings.filterwarnings('ignore')"
   ]
  },
  {
   "cell_type": "markdown",
   "metadata": {},
   "source": [
    "### Load case study dataset"
   ]
  },
  {
   "cell_type": "code",
   "execution_count": 3,
   "metadata": {},
   "outputs": [
    {
     "name": "stdout",
     "output_type": "stream",
     "text": [
      "Dataset size:\n",
      "\t78321 rows x 12 columns\n",
      "Size after dropping rows with NA records:\n",
      "\t78297 rows x 12 columns\n"
     ]
    },
    {
     "data": {
      "text/html": [
       "<div>\n",
       "<style scoped>\n",
       "    .dataframe tbody tr th:only-of-type {\n",
       "        vertical-align: middle;\n",
       "    }\n",
       "\n",
       "    .dataframe tbody tr th {\n",
       "        vertical-align: top;\n",
       "    }\n",
       "\n",
       "    .dataframe thead th {\n",
       "        text-align: right;\n",
       "    }\n",
       "</style>\n",
       "<table border=\"1\" class=\"dataframe\">\n",
       "  <thead>\n",
       "    <tr style=\"text-align: right;\">\n",
       "      <th></th>\n",
       "      <th>article_id</th>\n",
       "      <th>product_tier</th>\n",
       "      <th>make_name</th>\n",
       "      <th>price</th>\n",
       "      <th>first_zip_digit</th>\n",
       "      <th>first_registration_year</th>\n",
       "      <th>created_date</th>\n",
       "      <th>deleted_date</th>\n",
       "      <th>search_views</th>\n",
       "      <th>detail_views</th>\n",
       "      <th>stock_days</th>\n",
       "      <th>ctr</th>\n",
       "    </tr>\n",
       "  </thead>\n",
       "  <tbody>\n",
       "    <tr>\n",
       "      <th>0</th>\n",
       "      <td>350625839</td>\n",
       "      <td>Basic</td>\n",
       "      <td>Mitsubishi</td>\n",
       "      <td>16750</td>\n",
       "      <td>5</td>\n",
       "      <td>2013</td>\n",
       "      <td>24.07.18</td>\n",
       "      <td>24.08.18</td>\n",
       "      <td>3091.0</td>\n",
       "      <td>123.0</td>\n",
       "      <td>30</td>\n",
       "      <td>0.03780329990294403</td>\n",
       "    </tr>\n",
       "    <tr>\n",
       "      <th>1</th>\n",
       "      <td>354412280</td>\n",
       "      <td>Basic</td>\n",
       "      <td>Mercedes-Benz</td>\n",
       "      <td>35950</td>\n",
       "      <td>4</td>\n",
       "      <td>2015</td>\n",
       "      <td>16.08.18</td>\n",
       "      <td>07.10.18</td>\n",
       "      <td>3283.0</td>\n",
       "      <td>223.0</td>\n",
       "      <td>52</td>\n",
       "      <td>0.06792567773378008</td>\n",
       "    </tr>\n",
       "    <tr>\n",
       "      <th>2</th>\n",
       "      <td>349572992</td>\n",
       "      <td>Basic</td>\n",
       "      <td>Mercedes-Benz</td>\n",
       "      <td>11950</td>\n",
       "      <td>3</td>\n",
       "      <td>1998</td>\n",
       "      <td>16.07.18</td>\n",
       "      <td>05.09.18</td>\n",
       "      <td>3247.0</td>\n",
       "      <td>265.0</td>\n",
       "      <td>51</td>\n",
       "      <td>0.0816137973514013</td>\n",
       "    </tr>\n",
       "    <tr>\n",
       "      <th>3</th>\n",
       "      <td>350266763</td>\n",
       "      <td>Basic</td>\n",
       "      <td>Ford</td>\n",
       "      <td>1750</td>\n",
       "      <td>6</td>\n",
       "      <td>2003</td>\n",
       "      <td>20.07.18</td>\n",
       "      <td>29.10.18</td>\n",
       "      <td>1856.0</td>\n",
       "      <td>26.0</td>\n",
       "      <td>101</td>\n",
       "      <td>0.014008620689655173</td>\n",
       "    </tr>\n",
       "    <tr>\n",
       "      <th>4</th>\n",
       "      <td>355688985</td>\n",
       "      <td>Basic</td>\n",
       "      <td>Mercedes-Benz</td>\n",
       "      <td>26500</td>\n",
       "      <td>3</td>\n",
       "      <td>2014</td>\n",
       "      <td>28.08.18</td>\n",
       "      <td>08.09.18</td>\n",
       "      <td>490.0</td>\n",
       "      <td>20.0</td>\n",
       "      <td>12</td>\n",
       "      <td>0.04081632653061224</td>\n",
       "    </tr>\n",
       "    <tr>\n",
       "      <th>5</th>\n",
       "      <td>361204569</td>\n",
       "      <td>Basic</td>\n",
       "      <td>Volkswagen</td>\n",
       "      <td>24890</td>\n",
       "      <td>6</td>\n",
       "      <td>2017</td>\n",
       "      <td>20.10.18</td>\n",
       "      <td>22.10.18</td>\n",
       "      <td>125.0</td>\n",
       "      <td>6.0</td>\n",
       "      <td>2</td>\n",
       "      <td>0.048</td>\n",
       "    </tr>\n",
       "    <tr>\n",
       "      <th>6</th>\n",
       "      <td>362784907</td>\n",
       "      <td>Basic</td>\n",
       "      <td>Fiat</td>\n",
       "      <td>2850</td>\n",
       "      <td>7</td>\n",
       "      <td>2008</td>\n",
       "      <td>08.11.18</td>\n",
       "      <td>09.11.18</td>\n",
       "      <td>172.0</td>\n",
       "      <td>4.0</td>\n",
       "      <td>1</td>\n",
       "      <td>0.022093023255813953</td>\n",
       "    </tr>\n",
       "    <tr>\n",
       "      <th>7</th>\n",
       "      <td>363942101</td>\n",
       "      <td>Basic</td>\n",
       "      <td>Renault</td>\n",
       "      <td>23740</td>\n",
       "      <td>2</td>\n",
       "      <td>2018</td>\n",
       "      <td>20.11.18</td>\n",
       "      <td>15.02.19</td>\n",
       "      <td>1499.0</td>\n",
       "      <td>99.0</td>\n",
       "      <td>87</td>\n",
       "      <td>0.06274182788525684</td>\n",
       "    </tr>\n",
       "    <tr>\n",
       "      <th>8</th>\n",
       "      <td>358875204</td>\n",
       "      <td>Basic</td>\n",
       "      <td>Renault</td>\n",
       "      <td>7850</td>\n",
       "      <td>6</td>\n",
       "      <td>2016</td>\n",
       "      <td>24.09.18</td>\n",
       "      <td>08.12.18</td>\n",
       "      <td>4329.0</td>\n",
       "      <td>133.0</td>\n",
       "      <td>75</td>\n",
       "      <td>0.030723030723030724</td>\n",
       "    </tr>\n",
       "    <tr>\n",
       "      <th>9</th>\n",
       "      <td>357547566</td>\n",
       "      <td>Basic</td>\n",
       "      <td>Mazda</td>\n",
       "      <td>13950</td>\n",
       "      <td>3</td>\n",
       "      <td>2016</td>\n",
       "      <td>08.09.18</td>\n",
       "      <td>10.10.18</td>\n",
       "      <td>2257.0</td>\n",
       "      <td>89.0</td>\n",
       "      <td>32</td>\n",
       "      <td>0.03943287549844927</td>\n",
       "    </tr>\n",
       "    <tr>\n",
       "      <th>10</th>\n",
       "      <td>354745488</td>\n",
       "      <td>Basic</td>\n",
       "      <td>Peugeot</td>\n",
       "      <td>12425</td>\n",
       "      <td>2</td>\n",
       "      <td>2017</td>\n",
       "      <td>20.08.18</td>\n",
       "      <td>19.11.18</td>\n",
       "      <td>639.0</td>\n",
       "      <td>6.0</td>\n",
       "      <td>92</td>\n",
       "      <td>0.00892018779342723</td>\n",
       "    </tr>\n",
       "  </tbody>\n",
       "</table>\n",
       "</div>"
      ],
      "text/plain": [
       "    article_id product_tier      make_name  price  first_zip_digit  \\\n",
       "0    350625839        Basic     Mitsubishi  16750                5   \n",
       "1    354412280        Basic  Mercedes-Benz  35950                4   \n",
       "2    349572992        Basic  Mercedes-Benz  11950                3   \n",
       "3    350266763        Basic           Ford   1750                6   \n",
       "4    355688985        Basic  Mercedes-Benz  26500                3   \n",
       "5    361204569        Basic     Volkswagen  24890                6   \n",
       "6    362784907        Basic           Fiat   2850                7   \n",
       "7    363942101        Basic        Renault  23740                2   \n",
       "8    358875204        Basic        Renault   7850                6   \n",
       "9    357547566        Basic          Mazda  13950                3   \n",
       "10   354745488        Basic        Peugeot  12425                2   \n",
       "\n",
       "    first_registration_year created_date deleted_date  search_views  \\\n",
       "0                      2013     24.07.18     24.08.18        3091.0   \n",
       "1                      2015     16.08.18     07.10.18        3283.0   \n",
       "2                      1998     16.07.18     05.09.18        3247.0   \n",
       "3                      2003     20.07.18     29.10.18        1856.0   \n",
       "4                      2014     28.08.18     08.09.18         490.0   \n",
       "5                      2017     20.10.18     22.10.18         125.0   \n",
       "6                      2008     08.11.18     09.11.18         172.0   \n",
       "7                      2018     20.11.18     15.02.19        1499.0   \n",
       "8                      2016     24.09.18     08.12.18        4329.0   \n",
       "9                      2016     08.09.18     10.10.18        2257.0   \n",
       "10                     2017     20.08.18     19.11.18         639.0   \n",
       "\n",
       "    detail_views  stock_days                   ctr  \n",
       "0          123.0          30   0.03780329990294403  \n",
       "1          223.0          52   0.06792567773378008  \n",
       "2          265.0          51    0.0816137973514013  \n",
       "3           26.0         101  0.014008620689655173  \n",
       "4           20.0          12   0.04081632653061224  \n",
       "5            6.0           2                 0.048  \n",
       "6            4.0           1  0.022093023255813953  \n",
       "7           99.0          87   0.06274182788525684  \n",
       "8          133.0          75  0.030723030723030724  \n",
       "9           89.0          32   0.03943287549844927  \n",
       "10           6.0          92   0.00892018779342723  "
      ]
     },
     "execution_count": 3,
     "metadata": {},
     "output_type": "execute_result"
    }
   ],
   "source": [
    "in_file = 'car_listing_data.csv'\n",
    "data = pd.read_csv(in_file,sep=';')\n",
    "print('Dataset size:\\n\\t%d rows x %d columns'%(data.shape[0],data.shape[1]))\n",
    "data = data.dropna()\n",
    "print('Size after dropping rows with NA records:\\n\\t%d rows x %d columns'%(data.shape[0],data.shape[1]))\n",
    "data.head(11)"
   ]
  },
  {
   "cell_type": "markdown",
   "metadata": {},
   "source": [
    "# <font color='blue'>Data preprocessing</font> "
   ]
  },
  {
   "cell_type": "markdown",
   "metadata": {},
   "source": [
    "### A. Split date feature columns each into 3 columns for day, month, and year\n"
   ]
  },
  {
   "cell_type": "code",
   "execution_count": 4,
   "metadata": {},
   "outputs": [
    {
     "name": "stdout",
     "output_type": "stream",
     "text": [
      "Distinct created days = [24, 16, 20, 28, 11, 9, 7, 8, 10]\n",
      "Distinct created months = [7, 8, 10, 11, 9, 4, 12]\n",
      "Distinct created years = [2018]\n",
      "Distinct deleted days = [24, 10, 9, 29, 22, 11, 15, 12, 19, 28, 8, 31, 17, 27, 26, 21, 1, 23, 13, 25, 18, 16, 20, 30, 14, 2, 3, 7, 4]\n",
      "Distinct deleted months = [8, 7, 5, 10, 9, 2, 11, 1, 3, 12, 4, 6]\n",
      "Distinct deleted years = [2018, 2019]\n"
     ]
    }
   ],
   "source": [
    "data[\"created_date\"] = pd.to_datetime(data[\"created_date\"])\n",
    "data[\"deleted_date\"] = pd.to_datetime(data[\"deleted_date\"])\n",
    "\n",
    "data[\"created_day\"] = data['created_date'].map(lambda x: x.day)\n",
    "data[\"created_month\"] = data['created_date'].map(lambda x: x.month)\n",
    "data[\"created_year\"] = data['created_date'].map(lambda x: x.year)\n",
    "\n",
    "print('Distinct created days =',list(Counter(data[\"created_day\"]).keys()))\n",
    "print('Distinct created months =',list(Counter(data[\"created_month\"]).keys()))\n",
    "print('Distinct created years =',list(Counter(data[\"created_year\"]).keys()))\n",
    "\n",
    "\n",
    "data[\"deleted_day\"] = data['deleted_date'].map(lambda x: x.day)\n",
    "data[\"deleted_month\"] = data['deleted_date'].map(lambda x: x.month)\n",
    "data[\"deleted_year\"] = data['deleted_date'].map(lambda x: x.year)\n",
    "\n",
    "#number of distinct days, months, and years\n",
    "print('Distinct deleted days =',list(Counter(data[\"deleted_day\"]).keys()))\n",
    "print('Distinct deleted months =',list(Counter(data[\"deleted_month\"]).keys()))\n",
    "print('Distinct deleted years =',list(Counter(data[\"deleted_year\"]).keys()))\n"
   ]
  },
  {
   "cell_type": "markdown",
   "metadata": {},
   "source": [
    "### D. Encode product manufacturer label name (make_name) to manufacturer id\n"
   ]
  },
  {
   "cell_type": "code",
   "execution_count": 5,
   "metadata": {},
   "outputs": [
    {
     "data": {
      "text/html": [
       "<div>\n",
       "<style scoped>\n",
       "    .dataframe tbody tr th:only-of-type {\n",
       "        vertical-align: middle;\n",
       "    }\n",
       "\n",
       "    .dataframe tbody tr th {\n",
       "        vertical-align: top;\n",
       "    }\n",
       "\n",
       "    .dataframe thead th {\n",
       "        text-align: right;\n",
       "    }\n",
       "</style>\n",
       "<table border=\"1\" class=\"dataframe\">\n",
       "  <thead>\n",
       "    <tr style=\"text-align: right;\">\n",
       "      <th></th>\n",
       "      <th>make_name</th>\n",
       "      <th>make_id</th>\n",
       "    </tr>\n",
       "  </thead>\n",
       "  <tbody>\n",
       "    <tr>\n",
       "      <th>0</th>\n",
       "      <td>Mitsubishi</td>\n",
       "      <td>62</td>\n",
       "    </tr>\n",
       "    <tr>\n",
       "      <th>1</th>\n",
       "      <td>Mercedes-Benz</td>\n",
       "      <td>60</td>\n",
       "    </tr>\n",
       "    <tr>\n",
       "      <th>2</th>\n",
       "      <td>Mercedes-Benz</td>\n",
       "      <td>60</td>\n",
       "    </tr>\n",
       "    <tr>\n",
       "      <th>3</th>\n",
       "      <td>Ford</td>\n",
       "      <td>33</td>\n",
       "    </tr>\n",
       "    <tr>\n",
       "      <th>4</th>\n",
       "      <td>Mercedes-Benz</td>\n",
       "      <td>60</td>\n",
       "    </tr>\n",
       "    <tr>\n",
       "      <th>5</th>\n",
       "      <td>Volkswagen</td>\n",
       "      <td>88</td>\n",
       "    </tr>\n",
       "    <tr>\n",
       "      <th>6</th>\n",
       "      <td>Fiat</td>\n",
       "      <td>32</td>\n",
       "    </tr>\n",
       "    <tr>\n",
       "      <th>7</th>\n",
       "      <td>Renault</td>\n",
       "      <td>73</td>\n",
       "    </tr>\n",
       "    <tr>\n",
       "      <th>8</th>\n",
       "      <td>Renault</td>\n",
       "      <td>73</td>\n",
       "    </tr>\n",
       "    <tr>\n",
       "      <th>9</th>\n",
       "      <td>Mazda</td>\n",
       "      <td>58</td>\n",
       "    </tr>\n",
       "    <tr>\n",
       "      <th>10</th>\n",
       "      <td>Peugeot</td>\n",
       "      <td>69</td>\n",
       "    </tr>\n",
       "  </tbody>\n",
       "</table>\n",
       "</div>"
      ],
      "text/plain": [
       "        make_name  make_id\n",
       "0      Mitsubishi       62\n",
       "1   Mercedes-Benz       60\n",
       "2   Mercedes-Benz       60\n",
       "3            Ford       33\n",
       "4   Mercedes-Benz       60\n",
       "5      Volkswagen       88\n",
       "6            Fiat       32\n",
       "7         Renault       73\n",
       "8         Renault       73\n",
       "9           Mazda       58\n",
       "10        Peugeot       69"
      ]
     },
     "execution_count": 5,
     "metadata": {},
     "output_type": "execute_result"
    }
   ],
   "source": [
    "data[\"make_name\"] = data[\"make_name\"].astype('category')\n",
    "le = preprocessing.LabelEncoder()\n",
    "le.fit(data['make_name'])\n",
    "data['make_id'] = le.transform(data['make_name'])\n",
    "data[[\"make_name\", \"make_id\"]].head(11)\n",
    "#print('Before encoding -> make_name catergories:',Counter(data['make_name']))\n",
    "#print('After enconding -> make_name_enc catergories:',Counter(data['make_name_enc']))"
   ]
  },
  {
   "cell_type": "markdown",
   "metadata": {},
   "source": [
    "### E. Conver CTR feature to float\n",
    "\n",
    "When trying to convert ctr column values to float, I got the error message (copied below).\n",
    "\n",
    "`data[\"ctr\"] = data[\"ctr\"].astype('float64')`\n",
    "\n",
    "<font color='red'>ValueError:</font> could not convert string to float: '27.624.309.392.265.100'\n",
    "\n",
    "\n",
    "I worked around this by recomputing the Click Through Rate based on the description provided in Data_Description.csv"
   ]
  },
  {
   "cell_type": "code",
   "execution_count": 6,
   "metadata": {},
   "outputs": [
    {
     "data": {
      "text/html": [
       "<div>\n",
       "<style scoped>\n",
       "    .dataframe tbody tr th:only-of-type {\n",
       "        vertical-align: middle;\n",
       "    }\n",
       "\n",
       "    .dataframe tbody tr th {\n",
       "        vertical-align: top;\n",
       "    }\n",
       "\n",
       "    .dataframe thead th {\n",
       "        text-align: right;\n",
       "    }\n",
       "</style>\n",
       "<table border=\"1\" class=\"dataframe\">\n",
       "  <thead>\n",
       "    <tr style=\"text-align: right;\">\n",
       "      <th></th>\n",
       "      <th>ctr</th>\n",
       "      <th>ctr_new</th>\n",
       "    </tr>\n",
       "  </thead>\n",
       "  <tbody>\n",
       "    <tr>\n",
       "      <th>0</th>\n",
       "      <td>0.03780329990294403</td>\n",
       "      <td>0.039793</td>\n",
       "    </tr>\n",
       "    <tr>\n",
       "      <th>1</th>\n",
       "      <td>0.06792567773378008</td>\n",
       "      <td>0.067926</td>\n",
       "    </tr>\n",
       "    <tr>\n",
       "      <th>2</th>\n",
       "      <td>0.0816137973514013</td>\n",
       "      <td>0.081614</td>\n",
       "    </tr>\n",
       "    <tr>\n",
       "      <th>3</th>\n",
       "      <td>0.014008620689655173</td>\n",
       "      <td>0.014009</td>\n",
       "    </tr>\n",
       "    <tr>\n",
       "      <th>4</th>\n",
       "      <td>0.04081632653061224</td>\n",
       "      <td>0.040816</td>\n",
       "    </tr>\n",
       "    <tr>\n",
       "      <th>5</th>\n",
       "      <td>0.048</td>\n",
       "      <td>0.048000</td>\n",
       "    </tr>\n",
       "    <tr>\n",
       "      <th>6</th>\n",
       "      <td>0.022093023255813953</td>\n",
       "      <td>0.023256</td>\n",
       "    </tr>\n",
       "    <tr>\n",
       "      <th>7</th>\n",
       "      <td>0.06274182788525684</td>\n",
       "      <td>0.066044</td>\n",
       "    </tr>\n",
       "    <tr>\n",
       "      <th>8</th>\n",
       "      <td>0.030723030723030724</td>\n",
       "      <td>0.030723</td>\n",
       "    </tr>\n",
       "    <tr>\n",
       "      <th>9</th>\n",
       "      <td>0.03943287549844927</td>\n",
       "      <td>0.039433</td>\n",
       "    </tr>\n",
       "    <tr>\n",
       "      <th>10</th>\n",
       "      <td>0.00892018779342723</td>\n",
       "      <td>0.009390</td>\n",
       "    </tr>\n",
       "  </tbody>\n",
       "</table>\n",
       "</div>"
      ],
      "text/plain": [
       "                     ctr   ctr_new\n",
       "0    0.03780329990294403  0.039793\n",
       "1    0.06792567773378008  0.067926\n",
       "2     0.0816137973514013  0.081614\n",
       "3   0.014008620689655173  0.014009\n",
       "4    0.04081632653061224  0.040816\n",
       "5                  0.048  0.048000\n",
       "6   0.022093023255813953  0.023256\n",
       "7    0.06274182788525684  0.066044\n",
       "8   0.030723030723030724  0.030723\n",
       "9    0.03943287549844927  0.039433\n",
       "10   0.00892018779342723  0.009390"
      ]
     },
     "execution_count": 6,
     "metadata": {},
     "output_type": "execute_result"
    }
   ],
   "source": [
    "#Click through rate calculated as the quotient of detail_views over search_views\n",
    "data[\"ctr_new\"] = data[\"detail_views\"]/data[\"search_views\"]\n",
    "data[[\"ctr\", \"ctr_new\"]].head(11)"
   ]
  },
  {
   "cell_type": "markdown",
   "metadata": {},
   "source": [
    "### F. Scale price feature values"
   ]
  },
  {
   "cell_type": "markdown",
   "metadata": {},
   "source": [
    "#### Price column takes a wide range of values, therefore I normalize it by subtracting the mean of the input feature then dividing by the standard deviation.\n",
    "\n"
   ]
  },
  {
   "cell_type": "code",
   "execution_count": 7,
   "metadata": {},
   "outputs": [
    {
     "name": "stdout",
     "output_type": "stream",
     "text": [
      "Price feature stats:\n",
      "\tMin price = 50\n",
      "\tMax price = 249888\n",
      "\tMean price = 15069.67\n",
      "\tStandard deviation = 16375.49\n"
     ]
    },
    {
     "data": {
      "text/html": [
       "<div>\n",
       "<style scoped>\n",
       "    .dataframe tbody tr th:only-of-type {\n",
       "        vertical-align: middle;\n",
       "    }\n",
       "\n",
       "    .dataframe tbody tr th {\n",
       "        vertical-align: top;\n",
       "    }\n",
       "\n",
       "    .dataframe thead th {\n",
       "        text-align: right;\n",
       "    }\n",
       "</style>\n",
       "<table border=\"1\" class=\"dataframe\">\n",
       "  <thead>\n",
       "    <tr style=\"text-align: right;\">\n",
       "      <th></th>\n",
       "      <th>price</th>\n",
       "      <th>adj_price</th>\n",
       "    </tr>\n",
       "  </thead>\n",
       "  <tbody>\n",
       "    <tr>\n",
       "      <th>0</th>\n",
       "      <td>16750</td>\n",
       "      <td>0.102612</td>\n",
       "    </tr>\n",
       "    <tr>\n",
       "      <th>1</th>\n",
       "      <td>35950</td>\n",
       "      <td>1.275096</td>\n",
       "    </tr>\n",
       "    <tr>\n",
       "      <th>2</th>\n",
       "      <td>11950</td>\n",
       "      <td>-0.190508</td>\n",
       "    </tr>\n",
       "    <tr>\n",
       "      <th>3</th>\n",
       "      <td>1750</td>\n",
       "      <td>-0.813390</td>\n",
       "    </tr>\n",
       "    <tr>\n",
       "      <th>4</th>\n",
       "      <td>26500</td>\n",
       "      <td>0.698014</td>\n",
       "    </tr>\n",
       "    <tr>\n",
       "      <th>5</th>\n",
       "      <td>24890</td>\n",
       "      <td>0.599697</td>\n",
       "    </tr>\n",
       "    <tr>\n",
       "      <th>6</th>\n",
       "      <td>2850</td>\n",
       "      <td>-0.746217</td>\n",
       "    </tr>\n",
       "    <tr>\n",
       "      <th>7</th>\n",
       "      <td>23740</td>\n",
       "      <td>0.529470</td>\n",
       "    </tr>\n",
       "    <tr>\n",
       "      <th>8</th>\n",
       "      <td>7850</td>\n",
       "      <td>-0.440883</td>\n",
       "    </tr>\n",
       "    <tr>\n",
       "      <th>9</th>\n",
       "      <td>13950</td>\n",
       "      <td>-0.068375</td>\n",
       "    </tr>\n",
       "    <tr>\n",
       "      <th>10</th>\n",
       "      <td>12425</td>\n",
       "      <td>-0.161502</td>\n",
       "    </tr>\n",
       "  </tbody>\n",
       "</table>\n",
       "</div>"
      ],
      "text/plain": [
       "    price  adj_price\n",
       "0   16750   0.102612\n",
       "1   35950   1.275096\n",
       "2   11950  -0.190508\n",
       "3    1750  -0.813390\n",
       "4   26500   0.698014\n",
       "5   24890   0.599697\n",
       "6    2850  -0.746217\n",
       "7   23740   0.529470\n",
       "8    7850  -0.440883\n",
       "9   13950  -0.068375\n",
       "10  12425  -0.161502"
      ]
     },
     "execution_count": 7,
     "metadata": {},
     "output_type": "execute_result"
    }
   ],
   "source": [
    "print('Price feature stats:')\n",
    "print('\\tMin price =',min(data[\"price\"]))\n",
    "print('\\tMax price =',max(data[\"price\"]))\n",
    "price_mean = np.mean(data[\"price\"])\n",
    "price_std = np.std(data[\"price\"])\n",
    "print(\"\\tMean price = %0.2f\"%price_mean)\n",
    "print(\"\\tStandard deviation = %.2f\"%price_std)\n",
    "\n",
    "# Normalize\n",
    "data[\"adj_price\"] = (data[\"price\"] - price_mean)/price_std\n",
    "data[[\"price\", \"adj_price\"]].head(11)"
   ]
  },
  {
   "cell_type": "markdown",
   "metadata": {},
   "source": [
    "### D. Encode product_tier label names to integer ids\n"
   ]
  },
  {
   "cell_type": "markdown",
   "metadata": {},
   "source": [
    "#### Product tier is a categorical feature {Basic,Premium, Plus} and can be encoded to Int values {0, 1, 2}. Another option is one-hote-encoding."
   ]
  },
  {
   "cell_type": "code",
   "execution_count": 8,
   "metadata": {},
   "outputs": [
    {
     "name": "stdout",
     "output_type": "stream",
     "text": [
      "Before encoding -> product_tier catergories: Counter({'Basic': 75397, 'Premium': 2324, 'Plus': 576})\n",
      "After enconding -> product_tier catergories: Counter({0: 75397, 2: 2324, 1: 576})\n"
     ]
    },
    {
     "data": {
      "text/html": [
       "<div>\n",
       "<style scoped>\n",
       "    .dataframe tbody tr th:only-of-type {\n",
       "        vertical-align: middle;\n",
       "    }\n",
       "\n",
       "    .dataframe tbody tr th {\n",
       "        vertical-align: top;\n",
       "    }\n",
       "\n",
       "    .dataframe thead th {\n",
       "        text-align: right;\n",
       "    }\n",
       "</style>\n",
       "<table border=\"1\" class=\"dataframe\">\n",
       "  <thead>\n",
       "    <tr style=\"text-align: right;\">\n",
       "      <th></th>\n",
       "      <th>product_tier</th>\n",
       "      <th>product_tier_enc</th>\n",
       "    </tr>\n",
       "  </thead>\n",
       "  <tbody>\n",
       "    <tr>\n",
       "      <th>0</th>\n",
       "      <td>Basic</td>\n",
       "      <td>0</td>\n",
       "    </tr>\n",
       "    <tr>\n",
       "      <th>1</th>\n",
       "      <td>Basic</td>\n",
       "      <td>0</td>\n",
       "    </tr>\n",
       "    <tr>\n",
       "      <th>2</th>\n",
       "      <td>Basic</td>\n",
       "      <td>0</td>\n",
       "    </tr>\n",
       "    <tr>\n",
       "      <th>3</th>\n",
       "      <td>Basic</td>\n",
       "      <td>0</td>\n",
       "    </tr>\n",
       "    <tr>\n",
       "      <th>4</th>\n",
       "      <td>Basic</td>\n",
       "      <td>0</td>\n",
       "    </tr>\n",
       "    <tr>\n",
       "      <th>5</th>\n",
       "      <td>Basic</td>\n",
       "      <td>0</td>\n",
       "    </tr>\n",
       "    <tr>\n",
       "      <th>6</th>\n",
       "      <td>Basic</td>\n",
       "      <td>0</td>\n",
       "    </tr>\n",
       "    <tr>\n",
       "      <th>7</th>\n",
       "      <td>Basic</td>\n",
       "      <td>0</td>\n",
       "    </tr>\n",
       "    <tr>\n",
       "      <th>8</th>\n",
       "      <td>Basic</td>\n",
       "      <td>0</td>\n",
       "    </tr>\n",
       "    <tr>\n",
       "      <th>9</th>\n",
       "      <td>Basic</td>\n",
       "      <td>0</td>\n",
       "    </tr>\n",
       "    <tr>\n",
       "      <th>10</th>\n",
       "      <td>Basic</td>\n",
       "      <td>0</td>\n",
       "    </tr>\n",
       "  </tbody>\n",
       "</table>\n",
       "</div>"
      ],
      "text/plain": [
       "   product_tier  product_tier_enc\n",
       "0         Basic                 0\n",
       "1         Basic                 0\n",
       "2         Basic                 0\n",
       "3         Basic                 0\n",
       "4         Basic                 0\n",
       "5         Basic                 0\n",
       "6         Basic                 0\n",
       "7         Basic                 0\n",
       "8         Basic                 0\n",
       "9         Basic                 0\n",
       "10        Basic                 0"
      ]
     },
     "execution_count": 8,
     "metadata": {},
     "output_type": "execute_result"
    }
   ],
   "source": [
    "le = preprocessing.LabelEncoder()\n",
    "le.fit(data['product_tier'])\n",
    "data['product_tier_enc'] = le.transform(data['product_tier'])\n",
    "print('Before encoding -> product_tier catergories:',Counter(data['product_tier']))\n",
    "print('After enconding -> product_tier catergories:',Counter(data['product_tier_enc']))\n",
    "data[[\"product_tier\", \"product_tier_enc\"]].head(11)"
   ]
  },
  {
   "cell_type": "code",
   "execution_count": 9,
   "metadata": {},
   "outputs": [
    {
     "data": {
      "text/plain": [
       "article_id                          int64\n",
       "product_tier                       object\n",
       "make_name                        category\n",
       "price                               int64\n",
       "first_zip_digit                     int64\n",
       "first_registration_year             int64\n",
       "created_date               datetime64[ns]\n",
       "deleted_date               datetime64[ns]\n",
       "search_views                      float64\n",
       "detail_views                      float64\n",
       "stock_days                          int64\n",
       "ctr                                object\n",
       "created_day                         int64\n",
       "created_month                       int64\n",
       "created_year                        int64\n",
       "deleted_day                         int64\n",
       "deleted_month                       int64\n",
       "deleted_year                        int64\n",
       "make_id                             int64\n",
       "ctr_new                           float64\n",
       "adj_price                         float64\n",
       "product_tier_enc                    int64\n",
       "dtype: object"
      ]
     },
     "execution_count": 9,
     "metadata": {},
     "output_type": "execute_result"
    }
   ],
   "source": [
    "data.dtypes"
   ]
  },
  {
   "cell_type": "markdown",
   "metadata": {},
   "source": [
    "# <font color='blue'>Preparing training and test data</font>"
   ]
  },
  {
   "cell_type": "code",
   "execution_count": 10,
   "metadata": {},
   "outputs": [
    {
     "name": "stdout",
     "output_type": "stream",
     "text": [
      "X size: (78297, 13)\n",
      "y size: (78297, 1)\n"
     ]
    }
   ],
   "source": [
    "# Initialize feature list\n",
    "feature_list = ['search_views','stock_days','product_tier_enc','deleted_year','first_registration_year','ctr_new',\\\n",
    "'make_id','deleted_day','deleted_month','adj_price','created_month','first_zip_digit','created_day']\n",
    "#feature_list = ['search_views','stock_days','adj_price',\"ctr_new\"]\n",
    "no_views = ['detail_views']\n",
    "# split input data and labels\n",
    "X = data[feature_list]\n",
    "print('X size:',X.shape)\n",
    "y = data[no_views]\n",
    "print('y size:',y.shape)"
   ]
  },
  {
   "cell_type": "markdown",
   "metadata": {},
   "source": [
    "### A. Split case study data into 67% training and 33% test"
   ]
  },
  {
   "cell_type": "code",
   "execution_count": 11,
   "metadata": {},
   "outputs": [],
   "source": [
    "X_train, X_test, y_train, y_test = train_test_split(X, y, test_size=0.33, random_state=42)"
   ]
  },
  {
   "cell_type": "markdown",
   "metadata": {},
   "source": [
    "### B. Feature scoring and selection"
   ]
  },
  {
   "cell_type": "code",
   "execution_count": 12,
   "metadata": {},
   "outputs": [],
   "source": [
    "## Feature scoring and selection function\n",
    "def select_features(X_train, y_train, X_test,func='f_regression', k_val='all'):\n",
    "    \n",
    "    if func == 'mutual_info':\n",
    "        fs = SelectKBest(score_func=mutual_info_regression, k=k_val)\n",
    "    else:\n",
    "        fs = SelectKBest(score_func=f_regression, k=k_val)\n",
    "        \n",
    "    # learn from training data\n",
    "    fs.fit(X_train, y_train)\n",
    "    \n",
    "    X_train_fs = fs.transform(X_train)\n",
    "    X_test_fs = fs.transform(X_test)\n",
    "    return X_train_fs, X_test_fs, fs"
   ]
  },
  {
   "cell_type": "markdown",
   "metadata": {},
   "source": [
    "#### B.1 Mutual information feature scoring and selection"
   ]
  },
  {
   "cell_type": "code",
   "execution_count": 13,
   "metadata": {},
   "outputs": [
    {
     "name": "stderr",
     "output_type": "stream",
     "text": [
      "/Users/isra/anaconda/envs/python36/lib/python3.6/site-packages/sklearn/utils/validation.py:72: DataConversionWarning: A column-vector y was passed when a 1d array was expected. Please change the shape of y to (n_samples, ), for example using ravel().\n",
      "  return f(**kwargs)\n"
     ]
    },
    {
     "name": "stdout",
     "output_type": "stream",
     "text": [
      "                    Feature  Score (Mutual information)\n",
      "0              search_views                    0.798933\n",
      "1                stock_days                    0.195499\n",
      "2          product_tier_enc                    0.028436\n",
      "3              deleted_year                    0.041279\n",
      "4   first_registration_year                    0.025353\n",
      "5                   ctr_new                    0.396128\n",
      "6                   make_id                    0.032242\n",
      "7               deleted_day                    0.033625\n",
      "8             deleted_month                    0.031450\n",
      "9                 adj_price                    0.017888\n",
      "10            created_month                    0.003071\n",
      "11          first_zip_digit                    0.001955\n",
      "12              created_day                    0.013093\n"
     ]
    },
    {
     "data": {
      "image/png": "[encoded data removed]",
      "text/plain": [
       "<Figure size 432x288 with 1 Axes>"
      ]
     },
     "metadata": {
      "needs_background": "light"
     },
     "output_type": "display_data"
    }
   ],
   "source": [
    "X_train_fs, X_test_fs, fs = select_features(X_train, y_train, X_test,func='mutual_info')\n",
    "\n",
    "feature_scores = []\n",
    "for i in range(len(feature_list)):\n",
    "    feature_scores.append([feature_list[i],fs.scores_[i]])\n",
    "\n",
    "df = pd.DataFrame(feature_scores)\n",
    "df.columns = ['Feature', 'Score (Mutual information)']\n",
    "print(df)\n",
    "\n",
    "# plot the scores\n",
    "pyplot.bar([i for i in range(len(feature_list))], fs.scores_)\n",
    "pyplot.show()"
   ]
  },
  {
   "cell_type": "markdown",
   "metadata": {},
   "source": [
    "#### B.2 Correlation feature scoring and selection"
   ]
  },
  {
   "cell_type": "code",
   "execution_count": 14,
   "metadata": {},
   "outputs": [
    {
     "name": "stderr",
     "output_type": "stream",
     "text": [
      "/Users/isra/anaconda/envs/python36/lib/python3.6/site-packages/sklearn/utils/validation.py:72: DataConversionWarning: A column-vector y was passed when a 1d array was expected. Please change the shape of y to (n_samples, ), for example using ravel().\n",
      "  return f(**kwargs)\n"
     ]
    },
    {
     "data": {
      "text/html": [
       "<div>\n",
       "<style scoped>\n",
       "    .dataframe tbody tr th:only-of-type {\n",
       "        vertical-align: middle;\n",
       "    }\n",
       "\n",
       "    .dataframe tbody tr th {\n",
       "        vertical-align: top;\n",
       "    }\n",
       "\n",
       "    .dataframe thead th {\n",
       "        text-align: right;\n",
       "    }\n",
       "</style>\n",
       "<table border=\"1\" class=\"dataframe\">\n",
       "  <thead>\n",
       "    <tr style=\"text-align: right;\">\n",
       "      <th></th>\n",
       "      <th>Feature</th>\n",
       "      <th>Score (Correlation)</th>\n",
       "    </tr>\n",
       "  </thead>\n",
       "  <tbody>\n",
       "    <tr>\n",
       "      <th>0</th>\n",
       "      <td>search_views</td>\n",
       "      <td>119358.803594</td>\n",
       "    </tr>\n",
       "    <tr>\n",
       "      <th>1</th>\n",
       "      <td>stock_days</td>\n",
       "      <td>5294.348169</td>\n",
       "    </tr>\n",
       "    <tr>\n",
       "      <th>2</th>\n",
       "      <td>product_tier_enc</td>\n",
       "      <td>3743.329359</td>\n",
       "    </tr>\n",
       "    <tr>\n",
       "      <th>3</th>\n",
       "      <td>deleted_year</td>\n",
       "      <td>1921.062879</td>\n",
       "    </tr>\n",
       "    <tr>\n",
       "      <th>4</th>\n",
       "      <td>first_registration_year</td>\n",
       "      <td>919.482961</td>\n",
       "    </tr>\n",
       "    <tr>\n",
       "      <th>5</th>\n",
       "      <td>ctr_new</td>\n",
       "      <td>672.500541</td>\n",
       "    </tr>\n",
       "    <tr>\n",
       "      <th>6</th>\n",
       "      <td>make_id</td>\n",
       "      <td>258.472664</td>\n",
       "    </tr>\n",
       "    <tr>\n",
       "      <th>7</th>\n",
       "      <td>deleted_day</td>\n",
       "      <td>124.059764</td>\n",
       "    </tr>\n",
       "    <tr>\n",
       "      <th>8</th>\n",
       "      <td>deleted_month</td>\n",
       "      <td>112.199881</td>\n",
       "    </tr>\n",
       "    <tr>\n",
       "      <th>9</th>\n",
       "      <td>adj_price</td>\n",
       "      <td>53.116052</td>\n",
       "    </tr>\n",
       "    <tr>\n",
       "      <th>10</th>\n",
       "      <td>created_month</td>\n",
       "      <td>22.553256</td>\n",
       "    </tr>\n",
       "    <tr>\n",
       "      <th>11</th>\n",
       "      <td>first_zip_digit</td>\n",
       "      <td>2.707196</td>\n",
       "    </tr>\n",
       "    <tr>\n",
       "      <th>12</th>\n",
       "      <td>created_day</td>\n",
       "      <td>0.035218</td>\n",
       "    </tr>\n",
       "  </tbody>\n",
       "</table>\n",
       "</div>"
      ],
      "text/plain": [
       "                    Feature  Score (Correlation)\n",
       "0              search_views        119358.803594\n",
       "1                stock_days          5294.348169\n",
       "2          product_tier_enc          3743.329359\n",
       "3              deleted_year          1921.062879\n",
       "4   first_registration_year           919.482961\n",
       "5                   ctr_new           672.500541\n",
       "6                   make_id           258.472664\n",
       "7               deleted_day           124.059764\n",
       "8             deleted_month           112.199881\n",
       "9                 adj_price            53.116052\n",
       "10            created_month            22.553256\n",
       "11          first_zip_digit             2.707196\n",
       "12              created_day             0.035218"
      ]
     },
     "execution_count": 14,
     "metadata": {},
     "output_type": "execute_result"
    }
   ],
   "source": [
    "X_train_fs, X_test_fs, fs = select_features(X_train, y_train, X_test,func='f_regression')\n",
    "feature_scores = []\n",
    "for i in range(len(feature_list)):\n",
    "    feature_scores.append([feature_list[i],fs.scores_[i]])\n",
    "\n",
    "df = pd.DataFrame(feature_scores)\n",
    "df.columns = ['Feature', 'Score (Correlation)']\n",
    "df"
   ]
  },
  {
   "cell_type": "code",
   "execution_count": 15,
   "metadata": {},
   "outputs": [],
   "source": [
    "# from pandas.plotting import scatter_matrix\n",
    "# scatter_matrix(data[['detail_views','search_views','ctr_new','stock_days']],\n",
    "#     alpha=0.3, figsize=(10,10))"
   ]
  },
  {
   "cell_type": "markdown",
   "metadata": {},
   "source": [
    "# <font color='blue'>Fit Linear Regression Model</font>"
   ]
  },
  {
   "cell_type": "markdown",
   "metadata": {},
   "source": [
    "### A. Using all features"
   ]
  },
  {
   "cell_type": "code",
   "execution_count": 16,
   "metadata": {},
   "outputs": [
    {
     "name": "stdout",
     "output_type": "stream",
     "text": [
      "Mean Absolute Error (MAE): 38.701\n",
      "Mean Squared Error (MSE): 18586.834 \n",
      "Model score: 0.725\n"
     ]
    }
   ],
   "source": [
    "from sklearn.linear_model import LinearRegression\n",
    "from sklearn.linear_model import LogisticRegression\n",
    "from sklearn.metrics import mean_absolute_error\n",
    "\n",
    "model = LinearRegression()\n",
    "model.fit(X_train, y_train)\n",
    "\n",
    "yhat = model.predict(X_test)\n",
    "mae = mean_absolute_error(y_test, yhat)\n",
    "# Mean Absolute Error\n",
    "print('Mean Absolute Error (MAE): %.3f' % mae)\n",
    "# Mean squared error\n",
    "print('Mean Squared Error (MSE): %.3f '%mean_squared_error(y_test,yhat))\n",
    "#print('MSE: %.3f '% np.mean(yhat- y_test)**2)\n",
    "\n",
    "print('Model score: %.3f'%model.score(X_test, y_test))\n"
   ]
  },
  {
   "cell_type": "markdown",
   "metadata": {},
   "source": [
    "#### <font color='red'> Note: </font>model.score returns the coefficient of determination R^2 of the prediction. The best possible score is 1.0"
   ]
  },
  {
   "cell_type": "markdown",
   "metadata": {},
   "source": [
    "### B. Using top 5 features selected by  mutual information scoring function"
   ]
  },
  {
   "cell_type": "code",
   "execution_count": 17,
   "metadata": {},
   "outputs": [
    {
     "name": "stderr",
     "output_type": "stream",
     "text": [
      "/Users/isra/anaconda/envs/python36/lib/python3.6/site-packages/sklearn/utils/validation.py:72: DataConversionWarning: A column-vector y was passed when a 1d array was expected. Please change the shape of y to (n_samples, ), for example using ravel().\n",
      "  return f(**kwargs)\n"
     ]
    },
    {
     "name": "stdout",
     "output_type": "stream",
     "text": [
      "MAE: 38.390\n",
      "MSE: 18673.152 \n",
      "Model score: 0.724\n"
     ]
    }
   ],
   "source": [
    "# feature selection\n",
    "X_train_fs, X_test_fs, fs = select_features(X_train, y_train, X_test,func='mutual_info', k_val=5)\n",
    "\n",
    "model = LinearRegression()\n",
    "model.fit(X_train_fs, y_train)\n",
    "\n",
    "yhat = model.predict(X_test_fs)\n",
    "mae = mean_absolute_error(y_test, yhat)\n",
    "print('MAE: %.3f' % mae)\n",
    "#print('MSE: %.3f'% np.mean(yhat- y_test)**2)\n",
    "print('MSE: %.3f '%mean_squared_error(y_test,yhat))\n",
    "print('Model score: %.3f'%model.score(X_test_fs, y_test))"
   ]
  },
  {
   "cell_type": "markdown",
   "metadata": {},
   "source": [
    "### B. Using top 5 features selected by f_regression scoring function"
   ]
  },
  {
   "cell_type": "code",
   "execution_count": 18,
   "metadata": {},
   "outputs": [
    {
     "name": "stdout",
     "output_type": "stream",
     "text": [
      "MAE: 44.387\n",
      "MSE: 19942.129 \n",
      "Model score: 0.705\n"
     ]
    },
    {
     "name": "stderr",
     "output_type": "stream",
     "text": [
      "/Users/isra/anaconda/envs/python36/lib/python3.6/site-packages/sklearn/utils/validation.py:72: DataConversionWarning: A column-vector y was passed when a 1d array was expected. Please change the shape of y to (n_samples, ), for example using ravel().\n",
      "  return f(**kwargs)\n"
     ]
    }
   ],
   "source": [
    "# feature selection\n",
    "X_train_fs, X_test_fs, fs = select_features(X_train, y_train, X_test,func='f_regression', k_val=5)\n",
    "\n",
    "\n",
    "model = LinearRegression()\n",
    "model.fit(X_train_fs, y_train)\n",
    "\n",
    "yhat = model.predict(X_test_fs)\n",
    "mae = mean_absolute_error(y_test, yhat)\n",
    "print('MAE: %.3f' % mae)\n",
    "#print('MSE: %.3f '%np.mean(yhat- y_test)**2)\n",
    "print('MSE: %.3f '%mean_squared_error(y_test,yhat))\n",
    "print('Model score: %.3f'%model.score(X_test_fs, y_test))"
   ]
  },
  {
   "cell_type": "markdown",
   "metadata": {},
   "source": [
    "#### <font color=red> Note: </font> Linear Regression model does not provide good results, I'd assume the underlying relationship between features is non-linear. Selecting a subset of features did not improve the model's predictions either."
   ]
  },
  {
   "cell_type": "markdown",
   "metadata": {},
   "source": [
    "# Gradient Boosting Regressor"
   ]
  },
  {
   "cell_type": "markdown",
   "metadata": {},
   "source": [
    "### A. All features\n",
    "#### A.1 Evaluating the model using cross validation"
   ]
  },
  {
   "cell_type": "code",
   "execution_count": 19,
   "metadata": {},
   "outputs": [
    {
     "name": "stdout",
     "output_type": "stream",
     "text": [
      "MAE: -7.907 (0.580)\n"
     ]
    }
   ],
   "source": [
    "#from sklearn.datasets import make_regression\n",
    "from sklearn.model_selection import cross_val_score\n",
    "from sklearn.model_selection import RepeatedKFold\n",
    "from sklearn.ensemble import GradientBoostingRegressor\n",
    "\n",
    "## define the model and evaluate based on cross validation\n",
    "model = GradientBoostingRegressor()\n",
    "cv = RepeatedKFold(n_splits=10, n_repeats=3, random_state=1)\n",
    "n_scores = cross_val_score(model, X, y, scoring='neg_mean_absolute_error', cv=cv, n_jobs=-1)\n",
    "# report performance\n",
    "print('MAE: %.3f (%.3f)' % (np.mean(n_scores), np.std(n_scores)))"
   ]
  },
  {
   "cell_type": "markdown",
   "metadata": {},
   "source": [
    "#### A.2 Fit the model using all training data and evaluate on test data"
   ]
  },
  {
   "cell_type": "code",
   "execution_count": 20,
   "metadata": {},
   "outputs": [
    {
     "name": "stderr",
     "output_type": "stream",
     "text": [
      "/Users/isra/anaconda/envs/python36/lib/python3.6/site-packages/sklearn/utils/validation.py:72: DataConversionWarning: A column-vector y was passed when a 1d array was expected. Please change the shape of y to (n_samples, ), for example using ravel().\n",
      "  return f(**kwargs)\n"
     ]
    },
    {
     "name": "stdout",
     "output_type": "stream",
     "text": [
      "MSE: 4808.787 \n",
      "Model score: 0.929\n"
     ]
    }
   ],
   "source": [
    "model.fit(X_train, y_train)\n",
    "yhat = model.predict(X_test)\n",
    "print('MSE: %.3f '%mean_squared_error(y_test,yhat))\n",
    "print('Model score: %.3f'%model.score(X_test, y_test))\n",
    "\n",
    "#yhat = yhat.reshape(yhat.shape[0],1)\n",
    "#print('MSE: %.3f'%np.mean(yhat- y_test)**2)"
   ]
  },
  {
   "cell_type": "markdown",
   "metadata": {},
   "source": [
    "### B. Using top 5 features selected by  mutual information scoring function"
   ]
  },
  {
   "cell_type": "code",
   "execution_count": 26,
   "metadata": {},
   "outputs": [
    {
     "name": "stderr",
     "output_type": "stream",
     "text": [
      "/Users/isra/anaconda/envs/python36/lib/python3.6/site-packages/sklearn/utils/validation.py:72: DataConversionWarning: A column-vector y was passed when a 1d array was expected. Please change the shape of y to (n_samples, ), for example using ravel().\n",
      "  return f(**kwargs)\n",
      "/Users/isra/anaconda/envs/python36/lib/python3.6/site-packages/sklearn/utils/validation.py:72: DataConversionWarning: A column-vector y was passed when a 1d array was expected. Please change the shape of y to (n_samples, ), for example using ravel().\n",
      "  return f(**kwargs)\n"
     ]
    },
    {
     "name": "stdout",
     "output_type": "stream",
     "text": [
      "MSE: 4262.802 \n",
      "Model score: 0.937\n"
     ]
    }
   ],
   "source": [
    "# feature selection\n",
    "X_train_fs, X_test_fs, fs = select_features(X_train, y_train, X_test,func='mutual_info', k_val=5)\n",
    "\n",
    "model = GradientBoostingRegressor()\n",
    "model.fit(X_train_fs, y_train)\n",
    "\n",
    "yhat = model.predict(X_test_fs)\n",
    "mae = mean_absolute_error(y_test, yhat)\n",
    "print('MSE: %.3f '%mean_squared_error(y_test,yhat))\n",
    "print('Model score: %.3f'%model.score(X_test_fs, y_test))"
   ]
  },
  {
   "cell_type": "markdown",
   "metadata": {},
   "source": [
    "### B. Using top 5 features selected by f_regression scoring function"
   ]
  },
  {
   "cell_type": "code",
   "execution_count": 23,
   "metadata": {},
   "outputs": [
    {
     "name": "stderr",
     "output_type": "stream",
     "text": [
      "/Users/isra/anaconda/envs/python36/lib/python3.6/site-packages/sklearn/utils/validation.py:72: DataConversionWarning: A column-vector y was passed when a 1d array was expected. Please change the shape of y to (n_samples, ), for example using ravel().\n",
      "  return f(**kwargs)\n",
      "/Users/isra/anaconda/envs/python36/lib/python3.6/site-packages/sklearn/utils/validation.py:72: DataConversionWarning: A column-vector y was passed when a 1d array was expected. Please change the shape of y to (n_samples, ), for example using ravel().\n",
      "  return f(**kwargs)\n"
     ]
    },
    {
     "name": "stdout",
     "output_type": "stream",
     "text": [
      "MSE: 19194.135 \n",
      "Model score: 0.716\n"
     ]
    }
   ],
   "source": [
    "# feature selection\n",
    "X_train_fs, X_test_fs, fs = select_features(X_train, y_train, X_test,func='f_regression', k_val=5)\n",
    "\n",
    "model = GradientBoostingRegressor()\n",
    "model.fit(X_train_fs, y_train)\n",
    "\n",
    "yhat = model.predict(X_test_fs)\n",
    "mae = mean_absolute_error(y_test, yhat)\n",
    "print('MSE: %.3f '%mean_squared_error(y_test,yhat))\n",
    "print('Model score: %.3f'%model.score(X_test_fs, y_test))"
   ]
  },
  {
   "cell_type": "markdown",
   "metadata": {},
   "source": [
    "#### <font color='green'>Notes:</font> \n",
    "* Using mutual_info as a scoring function improves the MSE and the model's accuracy. \n",
    "* f_regression scoring function tests for linear regression hence it did not do well even when using a non-linear regression model, i.e., Gradient Boosting."
   ]
  },
  {
   "cell_type": "markdown",
   "metadata": {},
   "source": [
    "### Resources:\n",
    "* https://machinelearningmastery.com/feature-selection-for-regression-data/\n",
    "* https://scikit-learn.org/\n",
    "* https://en.wikipedia.org/wiki/Gradient_boosting"
   ]
  }
 ],
 "metadata": {
  "kernelspec": {
   "display_name": "Python 3",
   "language": "python",
   "name": "python3"
  },
  "language_info": {
   "codemirror_mode": {
    "name": "ipython",
    "version": 3
   },
   "file_extension": ".py",
   "mimetype": "text/x-python",
   "name": "python",
   "nbconvert_exporter": "python",
   "pygments_lexer": "ipython3",
   "version": "3.6.12"
  }
 },
 "nbformat": 4,
 "nbformat_minor": 4
}
