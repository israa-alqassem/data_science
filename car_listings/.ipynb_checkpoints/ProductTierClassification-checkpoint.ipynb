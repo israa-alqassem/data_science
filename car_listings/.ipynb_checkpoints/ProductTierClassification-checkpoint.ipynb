{
 "cells": [
  {
   "cell_type": "code",
   "execution_count": 1,
   "metadata": {},
   "outputs": [],
   "source": [
    "import csv\n",
    "import numpy as np\n",
    "import pandas as pd\n",
    "from collections import Counter\n",
    "import sklearn, matplotlib\n",
    "from sklearn.datasets import fetch_openml\n",
    "from sklearn import preprocessing\n",
    "from sklearn.preprocessing import OrdinalEncoder\n",
    "from sklearn.model_selection import train_test_split\n",
    "from sklearn import metrics\n",
    "from sklearn.metrics import confusion_matrix"
   ]
  },
  {
   "cell_type": "code",
   "execution_count": 2,
   "metadata": {},
   "outputs": [
    {
     "name": "stdout",
     "output_type": "stream",
     "text": [
      "numpy: 1.19.2\n",
      "pandas: 1.1.5\n",
      "sklearn: 0.23.2\n",
      "matplotlib: 3.3.2\n"
     ]
    }
   ],
   "source": [
    "print('numpy:',np.__version__)\n",
    "print('pandas:',pd.__version__)\n",
    "print('sklearn:',sklearn.__version__)\n",
    "print('matplotlib:',matplotlib.__version__)"
   ]
  },
  {
   "cell_type": "markdown",
   "metadata": {},
   "source": [
    "### Read case study data into Pandas dataframe"
   ]
  },
  {
   "cell_type": "code",
   "execution_count": 3,
   "metadata": {},
   "outputs": [
    {
     "name": "stdout",
     "output_type": "stream",
     "text": [
      "Dataset size:\n",
      "\t78321 rows x 12 columns\n",
      "Size after dropping rows with NA records:\n",
      "\t78297 rows x 12 columns\n"
     ]
    },
    {
     "data": {
      "text/html": [
       "<div>\n",
       "<style scoped>\n",
       "    .dataframe tbody tr th:only-of-type {\n",
       "        vertical-align: middle;\n",
       "    }\n",
       "\n",
       "    .dataframe tbody tr th {\n",
       "        vertical-align: top;\n",
       "    }\n",
       "\n",
       "    .dataframe thead th {\n",
       "        text-align: right;\n",
       "    }\n",
       "</style>\n",
       "<table border=\"1\" class=\"dataframe\">\n",
       "  <thead>\n",
       "    <tr style=\"text-align: right;\">\n",
       "      <th></th>\n",
       "      <th>article_id</th>\n",
       "      <th>product_tier</th>\n",
       "      <th>make_name</th>\n",
       "      <th>price</th>\n",
       "      <th>first_zip_digit</th>\n",
       "      <th>first_registration_year</th>\n",
       "      <th>created_date</th>\n",
       "      <th>deleted_date</th>\n",
       "      <th>search_views</th>\n",
       "      <th>detail_views</th>\n",
       "      <th>stock_days</th>\n",
       "      <th>ctr</th>\n",
       "    </tr>\n",
       "  </thead>\n",
       "  <tbody>\n",
       "    <tr>\n",
       "      <th>0</th>\n",
       "      <td>350625839</td>\n",
       "      <td>Basic</td>\n",
       "      <td>Mitsubishi</td>\n",
       "      <td>16750</td>\n",
       "      <td>5</td>\n",
       "      <td>2013</td>\n",
       "      <td>24.07.18</td>\n",
       "      <td>24.08.18</td>\n",
       "      <td>3091.0</td>\n",
       "      <td>123.0</td>\n",
       "      <td>30</td>\n",
       "      <td>0.03780329990294403</td>\n",
       "    </tr>\n",
       "    <tr>\n",
       "      <th>1</th>\n",
       "      <td>354412280</td>\n",
       "      <td>Basic</td>\n",
       "      <td>Mercedes-Benz</td>\n",
       "      <td>35950</td>\n",
       "      <td>4</td>\n",
       "      <td>2015</td>\n",
       "      <td>16.08.18</td>\n",
       "      <td>07.10.18</td>\n",
       "      <td>3283.0</td>\n",
       "      <td>223.0</td>\n",
       "      <td>52</td>\n",
       "      <td>0.06792567773378008</td>\n",
       "    </tr>\n",
       "    <tr>\n",
       "      <th>2</th>\n",
       "      <td>349572992</td>\n",
       "      <td>Basic</td>\n",
       "      <td>Mercedes-Benz</td>\n",
       "      <td>11950</td>\n",
       "      <td>3</td>\n",
       "      <td>1998</td>\n",
       "      <td>16.07.18</td>\n",
       "      <td>05.09.18</td>\n",
       "      <td>3247.0</td>\n",
       "      <td>265.0</td>\n",
       "      <td>51</td>\n",
       "      <td>0.0816137973514013</td>\n",
       "    </tr>\n",
       "    <tr>\n",
       "      <th>3</th>\n",
       "      <td>350266763</td>\n",
       "      <td>Basic</td>\n",
       "      <td>Ford</td>\n",
       "      <td>1750</td>\n",
       "      <td>6</td>\n",
       "      <td>2003</td>\n",
       "      <td>20.07.18</td>\n",
       "      <td>29.10.18</td>\n",
       "      <td>1856.0</td>\n",
       "      <td>26.0</td>\n",
       "      <td>101</td>\n",
       "      <td>0.014008620689655173</td>\n",
       "    </tr>\n",
       "    <tr>\n",
       "      <th>4</th>\n",
       "      <td>355688985</td>\n",
       "      <td>Basic</td>\n",
       "      <td>Mercedes-Benz</td>\n",
       "      <td>26500</td>\n",
       "      <td>3</td>\n",
       "      <td>2014</td>\n",
       "      <td>28.08.18</td>\n",
       "      <td>08.09.18</td>\n",
       "      <td>490.0</td>\n",
       "      <td>20.0</td>\n",
       "      <td>12</td>\n",
       "      <td>0.04081632653061224</td>\n",
       "    </tr>\n",
       "    <tr>\n",
       "      <th>5</th>\n",
       "      <td>361204569</td>\n",
       "      <td>Basic</td>\n",
       "      <td>Volkswagen</td>\n",
       "      <td>24890</td>\n",
       "      <td>6</td>\n",
       "      <td>2017</td>\n",
       "      <td>20.10.18</td>\n",
       "      <td>22.10.18</td>\n",
       "      <td>125.0</td>\n",
       "      <td>6.0</td>\n",
       "      <td>2</td>\n",
       "      <td>0.048</td>\n",
       "    </tr>\n",
       "    <tr>\n",
       "      <th>6</th>\n",
       "      <td>362784907</td>\n",
       "      <td>Basic</td>\n",
       "      <td>Fiat</td>\n",
       "      <td>2850</td>\n",
       "      <td>7</td>\n",
       "      <td>2008</td>\n",
       "      <td>08.11.18</td>\n",
       "      <td>09.11.18</td>\n",
       "      <td>172.0</td>\n",
       "      <td>4.0</td>\n",
       "      <td>1</td>\n",
       "      <td>0.022093023255813953</td>\n",
       "    </tr>\n",
       "    <tr>\n",
       "      <th>7</th>\n",
       "      <td>363942101</td>\n",
       "      <td>Basic</td>\n",
       "      <td>Renault</td>\n",
       "      <td>23740</td>\n",
       "      <td>2</td>\n",
       "      <td>2018</td>\n",
       "      <td>20.11.18</td>\n",
       "      <td>15.02.19</td>\n",
       "      <td>1499.0</td>\n",
       "      <td>99.0</td>\n",
       "      <td>87</td>\n",
       "      <td>0.06274182788525684</td>\n",
       "    </tr>\n",
       "    <tr>\n",
       "      <th>8</th>\n",
       "      <td>358875204</td>\n",
       "      <td>Basic</td>\n",
       "      <td>Renault</td>\n",
       "      <td>7850</td>\n",
       "      <td>6</td>\n",
       "      <td>2016</td>\n",
       "      <td>24.09.18</td>\n",
       "      <td>08.12.18</td>\n",
       "      <td>4329.0</td>\n",
       "      <td>133.0</td>\n",
       "      <td>75</td>\n",
       "      <td>0.030723030723030724</td>\n",
       "    </tr>\n",
       "    <tr>\n",
       "      <th>9</th>\n",
       "      <td>357547566</td>\n",
       "      <td>Basic</td>\n",
       "      <td>Mazda</td>\n",
       "      <td>13950</td>\n",
       "      <td>3</td>\n",
       "      <td>2016</td>\n",
       "      <td>08.09.18</td>\n",
       "      <td>10.10.18</td>\n",
       "      <td>2257.0</td>\n",
       "      <td>89.0</td>\n",
       "      <td>32</td>\n",
       "      <td>0.03943287549844927</td>\n",
       "    </tr>\n",
       "    <tr>\n",
       "      <th>10</th>\n",
       "      <td>354745488</td>\n",
       "      <td>Basic</td>\n",
       "      <td>Peugeot</td>\n",
       "      <td>12425</td>\n",
       "      <td>2</td>\n",
       "      <td>2017</td>\n",
       "      <td>20.08.18</td>\n",
       "      <td>19.11.18</td>\n",
       "      <td>639.0</td>\n",
       "      <td>6.0</td>\n",
       "      <td>92</td>\n",
       "      <td>0.00892018779342723</td>\n",
       "    </tr>\n",
       "  </tbody>\n",
       "</table>\n",
       "</div>"
      ],
      "text/plain": [
       "    article_id product_tier      make_name  price  first_zip_digit  \\\n",
       "0    350625839        Basic     Mitsubishi  16750                5   \n",
       "1    354412280        Basic  Mercedes-Benz  35950                4   \n",
       "2    349572992        Basic  Mercedes-Benz  11950                3   \n",
       "3    350266763        Basic           Ford   1750                6   \n",
       "4    355688985        Basic  Mercedes-Benz  26500                3   \n",
       "5    361204569        Basic     Volkswagen  24890                6   \n",
       "6    362784907        Basic           Fiat   2850                7   \n",
       "7    363942101        Basic        Renault  23740                2   \n",
       "8    358875204        Basic        Renault   7850                6   \n",
       "9    357547566        Basic          Mazda  13950                3   \n",
       "10   354745488        Basic        Peugeot  12425                2   \n",
       "\n",
       "    first_registration_year created_date deleted_date  search_views  \\\n",
       "0                      2013     24.07.18     24.08.18        3091.0   \n",
       "1                      2015     16.08.18     07.10.18        3283.0   \n",
       "2                      1998     16.07.18     05.09.18        3247.0   \n",
       "3                      2003     20.07.18     29.10.18        1856.0   \n",
       "4                      2014     28.08.18     08.09.18         490.0   \n",
       "5                      2017     20.10.18     22.10.18         125.0   \n",
       "6                      2008     08.11.18     09.11.18         172.0   \n",
       "7                      2018     20.11.18     15.02.19        1499.0   \n",
       "8                      2016     24.09.18     08.12.18        4329.0   \n",
       "9                      2016     08.09.18     10.10.18        2257.0   \n",
       "10                     2017     20.08.18     19.11.18         639.0   \n",
       "\n",
       "    detail_views  stock_days                   ctr  \n",
       "0          123.0          30   0.03780329990294403  \n",
       "1          223.0          52   0.06792567773378008  \n",
       "2          265.0          51    0.0816137973514013  \n",
       "3           26.0         101  0.014008620689655173  \n",
       "4           20.0          12   0.04081632653061224  \n",
       "5            6.0           2                 0.048  \n",
       "6            4.0           1  0.022093023255813953  \n",
       "7           99.0          87   0.06274182788525684  \n",
       "8          133.0          75  0.030723030723030724  \n",
       "9           89.0          32   0.03943287549844927  \n",
       "10           6.0          92   0.00892018779342723  "
      ]
     },
     "execution_count": 3,
     "metadata": {},
     "output_type": "execute_result"
    }
   ],
   "source": [
    "in_file = 'Case_Study_Data.csv'\n",
    "data = pd.read_csv(in_file,sep=';')\n",
    "print('Dataset size:\\n\\t%d rows x %d columns'%(data.shape[0],data.shape[1]))\n",
    "data = data.dropna()\n",
    "print('Size after dropping rows with NA records:\\n\\t%d rows x %d columns'%(data.shape[0],data.shape[1]))\n",
    "data.head(11)"
   ]
  },
  {
   "cell_type": "markdown",
   "metadata": {},
   "source": [
    "#### <font color=red> Note: </font>I discared rows with missing values, since we only have 24 such rows out of 78321. Other possibilitiy is to replace missing value with the average of that fearure column."
   ]
  },
  {
   "cell_type": "markdown",
   "metadata": {},
   "source": [
    "### Check the data types of input features"
   ]
  },
  {
   "cell_type": "code",
   "execution_count": 4,
   "metadata": {},
   "outputs": [
    {
     "data": {
      "text/plain": [
       "article_id                   int64\n",
       "product_tier                object\n",
       "make_name                   object\n",
       "price                        int64\n",
       "first_zip_digit              int64\n",
       "first_registration_year      int64\n",
       "created_date                object\n",
       "deleted_date                object\n",
       "search_views               float64\n",
       "detail_views               float64\n",
       "stock_days                   int64\n",
       "ctr                         object\n",
       "dtype: object"
      ]
     },
     "execution_count": 4,
     "metadata": {},
     "output_type": "execute_result"
    }
   ],
   "source": [
    "data.dtypes"
   ]
  },
  {
   "cell_type": "markdown",
   "metadata": {},
   "source": [
    "# <font color='blue'>Data preprocessing</font> "
   ]
  },
  {
   "cell_type": "markdown",
   "metadata": {},
   "source": [
    "### A. Convert created_date and deleted_date from object type to datetime"
   ]
  },
  {
   "cell_type": "code",
   "execution_count": 5,
   "metadata": {},
   "outputs": [],
   "source": [
    "data[\"created_date\"] = pd.to_datetime(data[\"created_date\"])\n",
    "data[\"deleted_date\"] = pd.to_datetime(data[\"deleted_date\"])"
   ]
  },
  {
   "cell_type": "markdown",
   "metadata": {},
   "source": [
    "### B. Split created_date feature column into 3 columns for day, month, and year"
   ]
  },
  {
   "cell_type": "code",
   "execution_count": 6,
   "metadata": {},
   "outputs": [
    {
     "name": "stdout",
     "output_type": "stream",
     "text": [
      "Distinct created days = [24, 16, 20, 28, 11, 9, 7, 8, 10]\n",
      "Distinct created months = [7, 8, 10, 11, 9, 4, 12]\n",
      "Distinct created years = [2018]\n"
     ]
    },
    {
     "data": {
      "text/html": [
       "<div>\n",
       "<style scoped>\n",
       "    .dataframe tbody tr th:only-of-type {\n",
       "        vertical-align: middle;\n",
       "    }\n",
       "\n",
       "    .dataframe tbody tr th {\n",
       "        vertical-align: top;\n",
       "    }\n",
       "\n",
       "    .dataframe thead th {\n",
       "        text-align: right;\n",
       "    }\n",
       "</style>\n",
       "<table border=\"1\" class=\"dataframe\">\n",
       "  <thead>\n",
       "    <tr style=\"text-align: right;\">\n",
       "      <th></th>\n",
       "      <th>created_date</th>\n",
       "      <th>created_year</th>\n",
       "      <th>created_month</th>\n",
       "      <th>created_day</th>\n",
       "    </tr>\n",
       "  </thead>\n",
       "  <tbody>\n",
       "    <tr>\n",
       "      <th>0</th>\n",
       "      <td>2018-07-24</td>\n",
       "      <td>2018</td>\n",
       "      <td>7</td>\n",
       "      <td>24</td>\n",
       "    </tr>\n",
       "    <tr>\n",
       "      <th>1</th>\n",
       "      <td>2018-08-16</td>\n",
       "      <td>2018</td>\n",
       "      <td>8</td>\n",
       "      <td>16</td>\n",
       "    </tr>\n",
       "    <tr>\n",
       "      <th>2</th>\n",
       "      <td>2018-07-16</td>\n",
       "      <td>2018</td>\n",
       "      <td>7</td>\n",
       "      <td>16</td>\n",
       "    </tr>\n",
       "    <tr>\n",
       "      <th>3</th>\n",
       "      <td>2018-07-20</td>\n",
       "      <td>2018</td>\n",
       "      <td>7</td>\n",
       "      <td>20</td>\n",
       "    </tr>\n",
       "    <tr>\n",
       "      <th>4</th>\n",
       "      <td>2018-08-28</td>\n",
       "      <td>2018</td>\n",
       "      <td>8</td>\n",
       "      <td>28</td>\n",
       "    </tr>\n",
       "    <tr>\n",
       "      <th>5</th>\n",
       "      <td>2018-10-20</td>\n",
       "      <td>2018</td>\n",
       "      <td>10</td>\n",
       "      <td>20</td>\n",
       "    </tr>\n",
       "    <tr>\n",
       "      <th>6</th>\n",
       "      <td>2018-08-11</td>\n",
       "      <td>2018</td>\n",
       "      <td>8</td>\n",
       "      <td>11</td>\n",
       "    </tr>\n",
       "    <tr>\n",
       "      <th>7</th>\n",
       "      <td>2018-11-20</td>\n",
       "      <td>2018</td>\n",
       "      <td>11</td>\n",
       "      <td>20</td>\n",
       "    </tr>\n",
       "    <tr>\n",
       "      <th>8</th>\n",
       "      <td>2018-09-24</td>\n",
       "      <td>2018</td>\n",
       "      <td>9</td>\n",
       "      <td>24</td>\n",
       "    </tr>\n",
       "    <tr>\n",
       "      <th>9</th>\n",
       "      <td>2018-08-09</td>\n",
       "      <td>2018</td>\n",
       "      <td>8</td>\n",
       "      <td>9</td>\n",
       "    </tr>\n",
       "    <tr>\n",
       "      <th>10</th>\n",
       "      <td>2018-08-20</td>\n",
       "      <td>2018</td>\n",
       "      <td>8</td>\n",
       "      <td>20</td>\n",
       "    </tr>\n",
       "  </tbody>\n",
       "</table>\n",
       "</div>"
      ],
      "text/plain": [
       "   created_date  created_year  created_month  created_day\n",
       "0    2018-07-24          2018              7           24\n",
       "1    2018-08-16          2018              8           16\n",
       "2    2018-07-16          2018              7           16\n",
       "3    2018-07-20          2018              7           20\n",
       "4    2018-08-28          2018              8           28\n",
       "5    2018-10-20          2018             10           20\n",
       "6    2018-08-11          2018              8           11\n",
       "7    2018-11-20          2018             11           20\n",
       "8    2018-09-24          2018              9           24\n",
       "9    2018-08-09          2018              8            9\n",
       "10   2018-08-20          2018              8           20"
      ]
     },
     "execution_count": 6,
     "metadata": {},
     "output_type": "execute_result"
    }
   ],
   "source": [
    "data[\"created_day\"] = data['created_date'].map(lambda x: x.day)\n",
    "data[\"created_month\"] = data['created_date'].map(lambda x: x.month)\n",
    "data[\"created_year\"] = data['created_date'].map(lambda x: x.year)\n",
    "\n",
    "\n",
    "print('Distinct created days =',list(Counter(data[\"created_day\"]).keys()))\n",
    "print('Distinct created months =',list(Counter(data[\"created_month\"]).keys()))\n",
    "print('Distinct created years =',list(Counter(data[\"created_year\"]).keys()))\n",
    "\n",
    "data[[\"created_date\",\"created_year\",\"created_month\",\"created_day\"]].head(11)"
   ]
  },
  {
   "cell_type": "markdown",
   "metadata": {},
   "source": [
    "#### <font color='red'>We notice from the output of the cell above that all datapoints (rows) were created in the year 2018, we can discard this feature since it does not have valuable information to predict product tier or price.</font>"
   ]
  },
  {
   "cell_type": "markdown",
   "metadata": {},
   "source": [
    "### C. Similarly, split deleted_day feature into 3 columns for day, month, and year"
   ]
  },
  {
   "cell_type": "code",
   "execution_count": 7,
   "metadata": {},
   "outputs": [
    {
     "name": "stdout",
     "output_type": "stream",
     "text": [
      "Distinct deleted days = [24, 10, 9, 29, 22, 11, 15, 12, 19, 28, 8, 31, 17, 27, 26, 21, 1, 23, 13, 25, 18, 16, 20, 30, 14, 2, 3, 7, 4]\n",
      "Distinct deleted months = [8, 7, 5, 10, 9, 2, 11, 1, 3, 12, 4, 6]\n",
      "Distinct deleted years = [2018, 2019]\n"
     ]
    },
    {
     "data": {
      "text/html": [
       "<div>\n",
       "<style scoped>\n",
       "    .dataframe tbody tr th:only-of-type {\n",
       "        vertical-align: middle;\n",
       "    }\n",
       "\n",
       "    .dataframe tbody tr th {\n",
       "        vertical-align: top;\n",
       "    }\n",
       "\n",
       "    .dataframe thead th {\n",
       "        text-align: right;\n",
       "    }\n",
       "</style>\n",
       "<table border=\"1\" class=\"dataframe\">\n",
       "  <thead>\n",
       "    <tr style=\"text-align: right;\">\n",
       "      <th></th>\n",
       "      <th>deleted_date</th>\n",
       "      <th>deleted_year</th>\n",
       "      <th>deleted_month</th>\n",
       "      <th>deleted_day</th>\n",
       "    </tr>\n",
       "  </thead>\n",
       "  <tbody>\n",
       "    <tr>\n",
       "      <th>0</th>\n",
       "      <td>2018-08-24</td>\n",
       "      <td>2018</td>\n",
       "      <td>8</td>\n",
       "      <td>24</td>\n",
       "    </tr>\n",
       "    <tr>\n",
       "      <th>1</th>\n",
       "      <td>2018-07-10</td>\n",
       "      <td>2018</td>\n",
       "      <td>7</td>\n",
       "      <td>10</td>\n",
       "    </tr>\n",
       "    <tr>\n",
       "      <th>2</th>\n",
       "      <td>2018-05-09</td>\n",
       "      <td>2018</td>\n",
       "      <td>5</td>\n",
       "      <td>9</td>\n",
       "    </tr>\n",
       "    <tr>\n",
       "      <th>3</th>\n",
       "      <td>2018-10-29</td>\n",
       "      <td>2018</td>\n",
       "      <td>10</td>\n",
       "      <td>29</td>\n",
       "    </tr>\n",
       "    <tr>\n",
       "      <th>4</th>\n",
       "      <td>2018-08-09</td>\n",
       "      <td>2018</td>\n",
       "      <td>8</td>\n",
       "      <td>9</td>\n",
       "    </tr>\n",
       "    <tr>\n",
       "      <th>5</th>\n",
       "      <td>2018-10-22</td>\n",
       "      <td>2018</td>\n",
       "      <td>10</td>\n",
       "      <td>22</td>\n",
       "    </tr>\n",
       "    <tr>\n",
       "      <th>6</th>\n",
       "      <td>2018-09-11</td>\n",
       "      <td>2018</td>\n",
       "      <td>9</td>\n",
       "      <td>11</td>\n",
       "    </tr>\n",
       "    <tr>\n",
       "      <th>7</th>\n",
       "      <td>2019-02-15</td>\n",
       "      <td>2019</td>\n",
       "      <td>2</td>\n",
       "      <td>15</td>\n",
       "    </tr>\n",
       "    <tr>\n",
       "      <th>8</th>\n",
       "      <td>2018-08-12</td>\n",
       "      <td>2018</td>\n",
       "      <td>8</td>\n",
       "      <td>12</td>\n",
       "    </tr>\n",
       "    <tr>\n",
       "      <th>9</th>\n",
       "      <td>2018-10-10</td>\n",
       "      <td>2018</td>\n",
       "      <td>10</td>\n",
       "      <td>10</td>\n",
       "    </tr>\n",
       "    <tr>\n",
       "      <th>10</th>\n",
       "      <td>2018-11-19</td>\n",
       "      <td>2018</td>\n",
       "      <td>11</td>\n",
       "      <td>19</td>\n",
       "    </tr>\n",
       "  </tbody>\n",
       "</table>\n",
       "</div>"
      ],
      "text/plain": [
       "   deleted_date  deleted_year  deleted_month  deleted_day\n",
       "0    2018-08-24          2018              8           24\n",
       "1    2018-07-10          2018              7           10\n",
       "2    2018-05-09          2018              5            9\n",
       "3    2018-10-29          2018             10           29\n",
       "4    2018-08-09          2018              8            9\n",
       "5    2018-10-22          2018             10           22\n",
       "6    2018-09-11          2018              9           11\n",
       "7    2019-02-15          2019              2           15\n",
       "8    2018-08-12          2018              8           12\n",
       "9    2018-10-10          2018             10           10\n",
       "10   2018-11-19          2018             11           19"
      ]
     },
     "execution_count": 7,
     "metadata": {},
     "output_type": "execute_result"
    }
   ],
   "source": [
    "\n",
    "data[\"deleted_day\"] = data['deleted_date'].map(lambda x: x.day)\n",
    "data[\"deleted_month\"] = data['deleted_date'].map(lambda x: x.month)\n",
    "data[\"deleted_year\"] = data['deleted_date'].map(lambda x: x.year)\n",
    "\n",
    "#number of distinct days, months, and years\n",
    "print('Distinct deleted days =',list(Counter(data[\"deleted_day\"]).keys()))\n",
    "print('Distinct deleted months =',list(Counter(data[\"deleted_month\"]).keys()))\n",
    "print('Distinct deleted years =',list(Counter(data[\"deleted_year\"]).keys()))\n",
    "data[[\"deleted_date\",\"deleted_year\",\"deleted_month\",\"deleted_day\"]].head(11)"
   ]
  },
  {
   "cell_type": "markdown",
   "metadata": {},
   "source": [
    "### D. Encode product manufacturer (make_name) by mapping each manufacturer (make_name) to a unique value and transform the data to an ordinal encoding"
   ]
  },
  {
   "cell_type": "code",
   "execution_count": 8,
   "metadata": {},
   "outputs": [
    {
     "data": {
      "text/html": [
       "<div>\n",
       "<style scoped>\n",
       "    .dataframe tbody tr th:only-of-type {\n",
       "        vertical-align: middle;\n",
       "    }\n",
       "\n",
       "    .dataframe tbody tr th {\n",
       "        vertical-align: top;\n",
       "    }\n",
       "\n",
       "    .dataframe thead th {\n",
       "        text-align: right;\n",
       "    }\n",
       "</style>\n",
       "<table border=\"1\" class=\"dataframe\">\n",
       "  <thead>\n",
       "    <tr style=\"text-align: right;\">\n",
       "      <th></th>\n",
       "      <th>make_id</th>\n",
       "      <th>make_name</th>\n",
       "    </tr>\n",
       "  </thead>\n",
       "  <tbody>\n",
       "    <tr>\n",
       "      <th>0</th>\n",
       "      <td>62.0</td>\n",
       "      <td>Mitsubishi</td>\n",
       "    </tr>\n",
       "    <tr>\n",
       "      <th>1</th>\n",
       "      <td>60.0</td>\n",
       "      <td>Mercedes-Benz</td>\n",
       "    </tr>\n",
       "    <tr>\n",
       "      <th>2</th>\n",
       "      <td>60.0</td>\n",
       "      <td>Mercedes-Benz</td>\n",
       "    </tr>\n",
       "    <tr>\n",
       "      <th>3</th>\n",
       "      <td>33.0</td>\n",
       "      <td>Ford</td>\n",
       "    </tr>\n",
       "    <tr>\n",
       "      <th>4</th>\n",
       "      <td>60.0</td>\n",
       "      <td>Mercedes-Benz</td>\n",
       "    </tr>\n",
       "    <tr>\n",
       "      <th>5</th>\n",
       "      <td>88.0</td>\n",
       "      <td>Volkswagen</td>\n",
       "    </tr>\n",
       "    <tr>\n",
       "      <th>6</th>\n",
       "      <td>32.0</td>\n",
       "      <td>Fiat</td>\n",
       "    </tr>\n",
       "    <tr>\n",
       "      <th>7</th>\n",
       "      <td>73.0</td>\n",
       "      <td>Renault</td>\n",
       "    </tr>\n",
       "    <tr>\n",
       "      <th>8</th>\n",
       "      <td>73.0</td>\n",
       "      <td>Renault</td>\n",
       "    </tr>\n",
       "    <tr>\n",
       "      <th>9</th>\n",
       "      <td>58.0</td>\n",
       "      <td>Mazda</td>\n",
       "    </tr>\n",
       "    <tr>\n",
       "      <th>10</th>\n",
       "      <td>69.0</td>\n",
       "      <td>Peugeot</td>\n",
       "    </tr>\n",
       "  </tbody>\n",
       "</table>\n",
       "</div>"
      ],
      "text/plain": [
       "    make_id      make_name\n",
       "0      62.0     Mitsubishi\n",
       "1      60.0  Mercedes-Benz\n",
       "2      60.0  Mercedes-Benz\n",
       "3      33.0           Ford\n",
       "4      60.0  Mercedes-Benz\n",
       "5      88.0     Volkswagen\n",
       "6      32.0           Fiat\n",
       "7      73.0        Renault\n",
       "8      73.0        Renault\n",
       "9      58.0          Mazda\n",
       "10     69.0        Peugeot"
      ]
     },
     "execution_count": 8,
     "metadata": {},
     "output_type": "execute_result"
    }
   ],
   "source": [
    "# convert the manufacturer names to categorical data\n",
    "data[\"make_name\"] = data[\"make_name\"].astype('category')\n",
    "#Encode product manufacturer (make_name), map each manufacturer (make_name) to unique value and transform the data to an ordinal encoding\n",
    "ord_enc = OrdinalEncoder()\n",
    "data[\"make_id\"] = ord_enc.fit_transform(data[[\"make_name\"]])\n",
    "data[[\"make_id\", \"make_name\"]].head(11)"
   ]
  },
  {
   "cell_type": "markdown",
   "metadata": {},
   "source": [
    "### E. Conver ctr feature to float64"
   ]
  },
  {
   "cell_type": "markdown",
   "metadata": {},
   "source": [
    "\n",
    "\n",
    "When trying to convert ctr column values to float, I got the error message (copied below).\n",
    "\n",
    "`data[\"ctr\"] = data[\"ctr\"].astype('float64')`\n",
    "\n",
    "<font color='red'>ValueError:</font> could not convert string to float: '27.624.309.392.265.100'\n",
    "\n",
    "\n",
    "I worked around this by recomputing the Click Through Rate based on the description provided in AS24_Data_Description.csv"
   ]
  },
  {
   "cell_type": "code",
   "execution_count": 9,
   "metadata": {},
   "outputs": [
    {
     "data": {
      "text/html": [
       "<div>\n",
       "<style scoped>\n",
       "    .dataframe tbody tr th:only-of-type {\n",
       "        vertical-align: middle;\n",
       "    }\n",
       "\n",
       "    .dataframe tbody tr th {\n",
       "        vertical-align: top;\n",
       "    }\n",
       "\n",
       "    .dataframe thead th {\n",
       "        text-align: right;\n",
       "    }\n",
       "</style>\n",
       "<table border=\"1\" class=\"dataframe\">\n",
       "  <thead>\n",
       "    <tr style=\"text-align: right;\">\n",
       "      <th></th>\n",
       "      <th>ctr</th>\n",
       "      <th>ctr_new</th>\n",
       "    </tr>\n",
       "  </thead>\n",
       "  <tbody>\n",
       "    <tr>\n",
       "      <th>0</th>\n",
       "      <td>0.03780329990294403</td>\n",
       "      <td>0.039793</td>\n",
       "    </tr>\n",
       "    <tr>\n",
       "      <th>1</th>\n",
       "      <td>0.06792567773378008</td>\n",
       "      <td>0.067926</td>\n",
       "    </tr>\n",
       "    <tr>\n",
       "      <th>2</th>\n",
       "      <td>0.0816137973514013</td>\n",
       "      <td>0.081614</td>\n",
       "    </tr>\n",
       "    <tr>\n",
       "      <th>3</th>\n",
       "      <td>0.014008620689655173</td>\n",
       "      <td>0.014009</td>\n",
       "    </tr>\n",
       "    <tr>\n",
       "      <th>4</th>\n",
       "      <td>0.04081632653061224</td>\n",
       "      <td>0.040816</td>\n",
       "    </tr>\n",
       "    <tr>\n",
       "      <th>5</th>\n",
       "      <td>0.048</td>\n",
       "      <td>0.048000</td>\n",
       "    </tr>\n",
       "    <tr>\n",
       "      <th>6</th>\n",
       "      <td>0.022093023255813953</td>\n",
       "      <td>0.023256</td>\n",
       "    </tr>\n",
       "    <tr>\n",
       "      <th>7</th>\n",
       "      <td>0.06274182788525684</td>\n",
       "      <td>0.066044</td>\n",
       "    </tr>\n",
       "    <tr>\n",
       "      <th>8</th>\n",
       "      <td>0.030723030723030724</td>\n",
       "      <td>0.030723</td>\n",
       "    </tr>\n",
       "    <tr>\n",
       "      <th>9</th>\n",
       "      <td>0.03943287549844927</td>\n",
       "      <td>0.039433</td>\n",
       "    </tr>\n",
       "    <tr>\n",
       "      <th>10</th>\n",
       "      <td>0.00892018779342723</td>\n",
       "      <td>0.009390</td>\n",
       "    </tr>\n",
       "  </tbody>\n",
       "</table>\n",
       "</div>"
      ],
      "text/plain": [
       "                     ctr   ctr_new\n",
       "0    0.03780329990294403  0.039793\n",
       "1    0.06792567773378008  0.067926\n",
       "2     0.0816137973514013  0.081614\n",
       "3   0.014008620689655173  0.014009\n",
       "4    0.04081632653061224  0.040816\n",
       "5                  0.048  0.048000\n",
       "6   0.022093023255813953  0.023256\n",
       "7    0.06274182788525684  0.066044\n",
       "8   0.030723030723030724  0.030723\n",
       "9    0.03943287549844927  0.039433\n",
       "10   0.00892018779342723  0.009390"
      ]
     },
     "execution_count": 9,
     "metadata": {},
     "output_type": "execute_result"
    }
   ],
   "source": [
    "#Click through rate calculated as the quotient of detail_views over search_views\n",
    "data[\"ctr_new\"] = data[\"detail_views\"]/data[\"search_views\"]\n",
    "data[[\"ctr\", \"ctr_new\"]].head(11)"
   ]
  },
  {
   "cell_type": "code",
   "execution_count": 10,
   "metadata": {},
   "outputs": [],
   "source": [
    "# print('Click Through Rate feature stats:')\n",
    "# print('\\tMin CTR =',min(data[\"ctr_new\"]))\n",
    "# print('\\tMax CTR =',max(data[\"ctr_new\"]))\n",
    "# CTR_mean = np.mean(data[\"ctr_new\"])\n",
    "# CTR_std = np.std(data[\"ctr_new\"])\n",
    "# print(\"\\tMean CTR = %0.2f\"%CTR_mean)\n",
    "# print(\"\\tStandard deviation = %.2f\"%CTR_std)\n",
    "\n",
    "# # Normalize\n",
    "# data[\"adj_ctr_new\"] = (data[\"ctr_new\"] - price_mean)/price_std\n",
    "# data[[\"adj_ctr_new\"]].head(11)"
   ]
  },
  {
   "cell_type": "markdown",
   "metadata": {},
   "source": [
    "### F. Scale price feature values "
   ]
  },
  {
   "cell_type": "code",
   "execution_count": 11,
   "metadata": {},
   "outputs": [
    {
     "name": "stdout",
     "output_type": "stream",
     "text": [
      "Price feature stats:\n",
      "\tMin price = 50\n",
      "\tMax price = 249888\n",
      "\tMean price = 15069.67\n",
      "\tStandard deviation = 16375.49\n"
     ]
    },
    {
     "data": {
      "text/html": [
       "<div>\n",
       "<style scoped>\n",
       "    .dataframe tbody tr th:only-of-type {\n",
       "        vertical-align: middle;\n",
       "    }\n",
       "\n",
       "    .dataframe tbody tr th {\n",
       "        vertical-align: top;\n",
       "    }\n",
       "\n",
       "    .dataframe thead th {\n",
       "        text-align: right;\n",
       "    }\n",
       "</style>\n",
       "<table border=\"1\" class=\"dataframe\">\n",
       "  <thead>\n",
       "    <tr style=\"text-align: right;\">\n",
       "      <th></th>\n",
       "      <th>price</th>\n",
       "      <th>adj_price</th>\n",
       "    </tr>\n",
       "  </thead>\n",
       "  <tbody>\n",
       "    <tr>\n",
       "      <th>0</th>\n",
       "      <td>16750</td>\n",
       "      <td>0.102612</td>\n",
       "    </tr>\n",
       "    <tr>\n",
       "      <th>1</th>\n",
       "      <td>35950</td>\n",
       "      <td>1.275096</td>\n",
       "    </tr>\n",
       "    <tr>\n",
       "      <th>2</th>\n",
       "      <td>11950</td>\n",
       "      <td>-0.190508</td>\n",
       "    </tr>\n",
       "    <tr>\n",
       "      <th>3</th>\n",
       "      <td>1750</td>\n",
       "      <td>-0.813390</td>\n",
       "    </tr>\n",
       "    <tr>\n",
       "      <th>4</th>\n",
       "      <td>26500</td>\n",
       "      <td>0.698014</td>\n",
       "    </tr>\n",
       "    <tr>\n",
       "      <th>5</th>\n",
       "      <td>24890</td>\n",
       "      <td>0.599697</td>\n",
       "    </tr>\n",
       "    <tr>\n",
       "      <th>6</th>\n",
       "      <td>2850</td>\n",
       "      <td>-0.746217</td>\n",
       "    </tr>\n",
       "    <tr>\n",
       "      <th>7</th>\n",
       "      <td>23740</td>\n",
       "      <td>0.529470</td>\n",
       "    </tr>\n",
       "    <tr>\n",
       "      <th>8</th>\n",
       "      <td>7850</td>\n",
       "      <td>-0.440883</td>\n",
       "    </tr>\n",
       "    <tr>\n",
       "      <th>9</th>\n",
       "      <td>13950</td>\n",
       "      <td>-0.068375</td>\n",
       "    </tr>\n",
       "    <tr>\n",
       "      <th>10</th>\n",
       "      <td>12425</td>\n",
       "      <td>-0.161502</td>\n",
       "    </tr>\n",
       "  </tbody>\n",
       "</table>\n",
       "</div>"
      ],
      "text/plain": [
       "    price  adj_price\n",
       "0   16750   0.102612\n",
       "1   35950   1.275096\n",
       "2   11950  -0.190508\n",
       "3    1750  -0.813390\n",
       "4   26500   0.698014\n",
       "5   24890   0.599697\n",
       "6    2850  -0.746217\n",
       "7   23740   0.529470\n",
       "8    7850  -0.440883\n",
       "9   13950  -0.068375\n",
       "10  12425  -0.161502"
      ]
     },
     "execution_count": 11,
     "metadata": {},
     "output_type": "execute_result"
    }
   ],
   "source": [
    "# takes a wide range of values, therefore I normalize it by subtracting the mean of the input feature and divide by the standard deviation.\n",
    "print('Price feature stats:')\n",
    "print('\\tMin price =',min(data[\"price\"]))\n",
    "print('\\tMax price =',max(data[\"price\"]))\n",
    "price_mean = np.mean(data[\"price\"])\n",
    "price_std = np.std(data[\"price\"])\n",
    "print(\"\\tMean price = %0.2f\"%price_mean)\n",
    "print(\"\\tStandard deviation = %.2f\"%price_std)\n",
    "\n",
    "# Normalize\n",
    "data[\"adj_price\"] = (data[\"price\"] - price_mean)/price_std\n",
    "data[[\"price\", \"adj_price\"]].head(11)"
   ]
  },
  {
   "cell_type": "code",
   "execution_count": 12,
   "metadata": {},
   "outputs": [
    {
     "data": {
      "text/plain": [
       "article_id                          int64\n",
       "product_tier                       object\n",
       "make_name                        category\n",
       "price                               int64\n",
       "first_zip_digit                     int64\n",
       "first_registration_year             int64\n",
       "created_date               datetime64[ns]\n",
       "deleted_date               datetime64[ns]\n",
       "search_views                      float64\n",
       "detail_views                      float64\n",
       "stock_days                          int64\n",
       "ctr                                object\n",
       "created_day                         int64\n",
       "created_month                       int64\n",
       "created_year                        int64\n",
       "deleted_day                         int64\n",
       "deleted_month                       int64\n",
       "deleted_year                        int64\n",
       "make_id                           float64\n",
       "ctr_new                           float64\n",
       "adj_price                         float64\n",
       "dtype: object"
      ]
     },
     "execution_count": 12,
     "metadata": {},
     "output_type": "execute_result"
    }
   ],
   "source": [
    "data.dtypes"
   ]
  },
  {
   "cell_type": "markdown",
   "metadata": {},
   "source": [
    "\n",
    "# <font color='blue'>Preparing training and test data</font>"
   ]
  },
  {
   "cell_type": "code",
   "execution_count": 13,
   "metadata": {},
   "outputs": [
    {
     "name": "stdout",
     "output_type": "stream",
     "text": [
      "Data size: (78297, 13)\n",
      "Labels size: (78297, 1)\n"
     ]
    }
   ],
   "source": [
    "# Select feature list\n",
    "feature_list = ['first_zip_digit','first_registration_year','search_views','detail_views','stock_days',\\\n",
    "               'created_day','created_month','deleted_day','deleted_month','deleted_year','adj_price','make_id',\"ctr_new\"]\n",
    "label = ['product_tier']\n",
    "# split input data and labels\n",
    "X = data[feature_list]\n",
    "print('Data size:',X.shape)\n",
    "y = data[label]\n",
    "print('Labels size:',y.shape)"
   ]
  },
  {
   "cell_type": "markdown",
   "metadata": {},
   "source": [
    "### A. Split case study data to 67% training and 33% test"
   ]
  },
  {
   "cell_type": "code",
   "execution_count": 14,
   "metadata": {},
   "outputs": [],
   "source": [
    "#stratify=y will make sure that your random split has equal proportion of each class label\n",
    "x_train, x_test, y_train, y_test = train_test_split(X, y, test_size=0.33, random_state=42, stratify=y)"
   ]
  },
  {
   "cell_type": "markdown",
   "metadata": {},
   "source": [
    "### B. Encode target labels with value [0, n_classes-1], i.e., 0, 1, 2."
   ]
  },
  {
   "cell_type": "code",
   "execution_count": 15,
   "metadata": {},
   "outputs": [
    {
     "name": "stdout",
     "output_type": "stream",
     "text": [
      "All: Counter({'Basic': 75397, 'Premium': 2324, 'Plus': 576})\n",
      "Train: Counter({'Basic': 50515, 'Premium': 1557, 'Plus': 386})\n",
      "Test: Counter({'Basic': 24882, 'Premium': 767, 'Plus': 190})\n"
     ]
    }
   ],
   "source": [
    "print('All:',Counter(y['product_tier']))\n",
    "print('Train:',Counter(y_train['product_tier']))\n",
    "print('Test:',Counter(y_test['product_tier']))"
   ]
  },
  {
   "cell_type": "code",
   "execution_count": 16,
   "metadata": {},
   "outputs": [
    {
     "name": "stderr",
     "output_type": "stream",
     "text": [
      "/Users/isra/anaconda/envs/python36/lib/python3.6/site-packages/sklearn/utils/validation.py:72: DataConversionWarning: A column-vector y was passed when a 1d array was expected. Please change the shape of y to (n_samples, ), for example using ravel().\n",
      "  return f(**kwargs)\n"
     ]
    }
   ],
   "source": [
    "le = preprocessing.LabelEncoder()\n",
    "le.fit(y_train)\n",
    "y_train_enc = le.transform(y_train)\n",
    "y_test_enc = le.transform(y_test)"
   ]
  },
  {
   "cell_type": "markdown",
   "metadata": {},
   "source": [
    "# <font color='blue'>Create a Random Forest Classifier</font>\n",
    "\n",
    "#### The Random forest classifier is flexible and easy to use, basically it is composed of decision trees, it selects the best prediction by means of voting. Further, it can provide feature importance score. One of its main application is recommendation engines."
   ]
  },
  {
   "cell_type": "markdown",
   "metadata": {},
   "source": [
    "### A. Train the model using the training set"
   ]
  },
  {
   "cell_type": "code",
   "execution_count": 17,
   "metadata": {},
   "outputs": [
    {
     "data": {
      "text/plain": [
       "RandomForestClassifier(n_estimators=50)"
      ]
     },
     "execution_count": 17,
     "metadata": {},
     "output_type": "execute_result"
    }
   ],
   "source": [
    "from sklearn.ensemble import RandomForestClassifier\n",
    "clf=RandomForestClassifier(n_estimators=50)\n",
    "#clf = RandomForestClassifier(n_estimators = 10, criterion = 'entropy', random_state = 42)\n",
    "clf.fit(x_train,y_train_enc)"
   ]
  },
  {
   "cell_type": "markdown",
   "metadata": {},
   "source": [
    "### B. Evaluate model Accuracy"
   ]
  },
  {
   "cell_type": "code",
   "execution_count": 18,
   "metadata": {},
   "outputs": [
    {
     "name": "stdout",
     "output_type": "stream",
     "text": [
      "Accuracy: 97.113%\n",
      "Confusion matrix:\n",
      "[[24801     0    81]\n",
      " [  179     0    11]\n",
      " [  475     0   292]]\n"
     ]
    }
   ],
   "source": [
    "y_pred = clf.predict(x_test)\n",
    "acc = metrics.accuracy_score(y_test_enc, y_pred)*100\n",
    "print(\"Accuracy: %.3f%%\" %acc)\n",
    "\n",
    "print('Confusion matrix:')\n",
    "print(confusion_matrix(y_test_enc, y_pred))"
   ]
  },
  {
   "cell_type": "code",
   "execution_count": 19,
   "metadata": {},
   "outputs": [
    {
     "name": "stdout",
     "output_type": "stream",
     "text": [
      "Counter({0: 25455, 2: 384})\n",
      "Counter({0: 24882, 2: 767, 1: 190})\n"
     ]
    }
   ],
   "source": [
    "# just to check the label counts that the model predicted compared to ground truth label counts\n",
    "print(Counter(y_pred))\n",
    "print(Counter(y_test_enc))"
   ]
  },
  {
   "cell_type": "markdown",
   "metadata": {},
   "source": [
    "### C. Get and visulaize feature importance score"
   ]
  },
  {
   "cell_type": "code",
   "execution_count": 20,
   "metadata": {},
   "outputs": [
    {
     "data": {
      "text/plain": [
       "search_views               0.221063\n",
       "stock_days                 0.140328\n",
       "detail_views               0.127836\n",
       "ctr_new                    0.108834\n",
       "adj_price                  0.086361\n",
       "first_registration_year    0.055054\n",
       "deleted_day                0.052577\n",
       "make_id                    0.052338\n",
       "first_zip_digit            0.042598\n",
       "deleted_month              0.038047\n",
       "created_day                0.034532\n",
       "created_month              0.031616\n",
       "deleted_year               0.008815\n",
       "dtype: float64"
      ]
     },
     "execution_count": 20,
     "metadata": {},
     "output_type": "execute_result"
    }
   ],
   "source": [
    "feature_imp = pd.Series(clf.feature_importances_,index=X.columns).sort_values(ascending=False)\n",
    "feature_imp"
   ]
  },
  {
   "cell_type": "code",
   "execution_count": 21,
   "metadata": {},
   "outputs": [
    {
     "data": {
      "image/png": "[encoded data removed]",
      "text/plain": [
       "<Figure size 792x576 with 1 Axes>"
      ]
     },
     "metadata": {},
     "output_type": "display_data"
    }
   ],
   "source": [
    "import matplotlib.pyplot as plt\n",
    "import seaborn as sns\n",
    "%matplotlib inline\n",
    "\n",
    "#plt.rcParams[\"font.family\"] = 'Comic Sans MS'\n",
    "\n",
    "\n",
    "sns.set_style('ticks')\n",
    "fig, ax = plt.subplots()\n",
    "fig.set_size_inches(11, 8)\n",
    "sns.despine()\n",
    "sns.set(font_scale = 1)\n",
    "# Creating a bar plot\n",
    "b = sns.barplot(x=feature_imp, y=feature_imp.index, palette=\"rocket\")\n",
    "b.set_yticklabels(feature_imp.index, size = 14)\n",
    "#b.set_xticklabels(['%.2f' % v for v in feature_imp.values], size=14)\n",
    "#b.set_xticklabels(np.arange(0.,0.35,0.05), size=14)\n",
    "plt.xlim(0.0,0.25)\n",
    "plt.xlabel('Feature Importance Score',fontsize=14)\n",
    "plt.ylabel('',fontsize=14)\n",
    "plt.title(\"All Features\",fontsize=14)\n",
    "plt.show()"
   ]
  },
  {
   "cell_type": "markdown",
   "metadata": {},
   "source": [
    "### D. Re-run the model on the most important features (out of curiosity)"
   ]
  },
  {
   "cell_type": "code",
   "execution_count": 22,
   "metadata": {},
   "outputs": [
    {
     "name": "stderr",
     "output_type": "stream",
     "text": [
      "/Users/isra/anaconda/envs/python36/lib/python3.6/site-packages/sklearn/utils/validation.py:72: DataConversionWarning: A column-vector y was passed when a 1d array was expected. Please change the shape of y to (n_samples, ), for example using ravel().\n",
      "  return f(**kwargs)\n"
     ]
    },
    {
     "name": "stdout",
     "output_type": "stream",
     "text": [
      "Accuracy: 95.286%\n",
      "Confusion matrix:\n",
      "[[24477    67   338]\n",
      " [  167     3    20]\n",
      " [  606    20   141]]\n"
     ]
    }
   ],
   "source": [
    "feature_list = ['search_views']#,'detail_views','stock_days','adj_price',\"ctr_new\"]\n",
    "label = ['product_tier']\n",
    "\n",
    "# split input data and labels\n",
    "#stratify=y will make sure that your random split has equal proportion of each class label\n",
    "X2 = data[feature_list]\n",
    "y2 = data[label]\n",
    "x_train2, x_test2, y_train2, y_test2 = train_test_split(X2, y2, test_size=0.33, random_state=42, stratify=y)\n",
    "\n",
    "le = preprocessing.LabelEncoder()\n",
    "le.fit(y_train2)\n",
    "y_train_enc2 = le.transform(y_train2)\n",
    "y_test_enc2 = le.transform(y_test2)\n",
    "\n",
    "clf2=RandomForestClassifier(n_estimators=50, verbose=0)\n",
    "clf2.fit(x_train2,y_train_enc2)\n",
    "\n",
    "y_pred2 = clf2.predict(x_test2)\n",
    "acc2 = metrics.accuracy_score(y_test_enc2, y_pred2)*100\n",
    "print(\"Accuracy: %.3f%%\" %acc2)\n",
    "\n",
    "print('Confusion matrix:')\n",
    "print(confusion_matrix(y_test_enc2,y_pred2))"
   ]
  },
  {
   "cell_type": "code",
   "execution_count": 23,
   "metadata": {},
   "outputs": [
    {
     "name": "stdout",
     "output_type": "stream",
     "text": [
      "Counter({0: 25250, 2: 499, 1: 90})\n",
      "Counter({0: 24882, 2: 767, 1: 190})\n"
     ]
    }
   ],
   "source": [
    "# just to check the label counts that the model predicted compared to ground truth label counts\n",
    "# I was afraid that the model would predicts all label as 0 since its the dominant class label\n",
    "print(Counter(y_pred2))\n",
    "print(Counter(y_test_enc2))"
   ]
  },
  {
   "cell_type": "markdown",
   "metadata": {},
   "source": [
    "### <font color='green'>Notes:</font> \n",
    "\n",
    "* Using all features, the classifiers achieves accuracy of approx. 97%\n",
    "* Using the top 5 feature achieves approx. 96.9% prediction accuracy.\n",
    "* It was enough to have the single feature 'search_views'  to get approx. 95.3% prediction accuracy."
   ]
  },
  {
   "cell_type": "markdown",
   "metadata": {},
   "source": [
    "### Resources\n",
    "* https://scikit-learn.org/\n",
    "* https://machinelearningmastery.com/\n",
    "* https://www.datacamp.com/community/tutorials/random-forests-classifier-python"
   ]
  }
 ],
 "metadata": {
  "kernelspec": {
   "display_name": "Python 3",
   "language": "python",
   "name": "python3"
  },
  "language_info": {
   "codemirror_mode": {
    "name": "ipython",
    "version": 3
   },
   "file_extension": ".py",
   "mimetype": "text/x-python",
   "name": "python",
   "nbconvert_exporter": "python",
   "pygments_lexer": "ipython3",
   "version": "3.6.12"
  }
 },
 "nbformat": 4,
 "nbformat_minor": 4
}
