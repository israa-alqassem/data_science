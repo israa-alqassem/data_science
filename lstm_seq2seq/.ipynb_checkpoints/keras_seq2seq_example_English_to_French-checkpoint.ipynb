{
 "cells": [
  {
   "cell_type": "markdown",
   "id": "grave-letters",
   "metadata": {},
   "source": [
    "# Character-level recurrent sequence-to-sequence model"
   ]
  },
  {
   "cell_type": "markdown",
   "id": "invisible-payroll",
   "metadata": {},
   "source": [
    "This is an example of character-level model which translates short English sentences to short French sentences (charachter-by-character instead of word-level model). The author of this code is Francois Chollet, the creater of Keras."
   ]
  },
  {
   "cell_type": "code",
   "execution_count": 1,
   "id": "static-warren",
   "metadata": {},
   "outputs": [],
   "source": [
    "import tensorflow as tf\n",
    "physical_devices = tf.config.list_physical_devices('GPU')\n",
    "tf.config.experimental.set_memory_growth(physical_devices[0], enable=True)\n",
    "\n",
    "import numpy as np\n",
    "from tensorflow import keras\n",
    "from tensorflow.keras.models import Model"
   ]
  },
  {
   "cell_type": "markdown",
   "id": "mineral-backing",
   "metadata": {},
   "source": [
    "### Model configuration"
   ]
  },
  {
   "cell_type": "code",
   "execution_count": 2,
   "id": "increased-prospect",
   "metadata": {},
   "outputs": [],
   "source": [
    "batch_size = 64  # Batch size for training.\n",
    "epochs = 100  # Number of epochs to train for.\n",
    "latent_dim = 256  # Latent dimensionality of the encoding space.\n",
    "num_samples = 10000  # Number of samples to train on.\n",
    "# Path to the data txt file on disk.\n"
   ]
  },
  {
   "cell_type": "markdown",
   "id": "violent-mediterranean",
   "metadata": {},
   "source": [
    "### Data path"
   ]
  },
  {
   "cell_type": "code",
   "execution_count": 4,
   "id": "brave-equivalent",
   "metadata": {},
   "outputs": [],
   "source": [
    "data_path = \"./fra.txt\""
   ]
  },
  {
   "cell_type": "markdown",
   "id": "communist-alberta",
   "metadata": {},
   "source": [
    "### Data preparation"
   ]
  },
  {
   "cell_type": "code",
   "execution_count": 8,
   "id": "removed-mattress",
   "metadata": {},
   "outputs": [
    {
     "name": "stdout",
     "output_type": "stream",
     "text": [
      "Number of samples: 10000\n",
      "Number of unique input characters (i.e., input tokens): 71\n",
      "Number of unique output characters (i.e., output tokens ): 93\n",
      "Input max sequence length: 15\n",
      "Output sequence length for outputs: 59\n"
     ]
    }
   ],
   "source": [
    "\n",
    "input_texts = []\n",
    "target_texts = []\n",
    "input_characters = set()\n",
    "target_characters = set()\n",
    "with open(data_path, \"r\", encoding=\"utf-8\") as f:\n",
    "    lines = f.read().split(\"\\n\")\n",
    "for line in lines[: min(num_samples, len(lines) - 1)]:\n",
    "    input_text, target_text, _ = line.split(\"\\t\")\n",
    "    # \"tab\" --> remarks the start of a sequence character\n",
    "    # \"\\n\" --> remarks the end of a sequence character.\n",
    "    target_text = \"\\t\" + target_text + \"\\n\"\n",
    "    input_texts.append(input_text)\n",
    "    target_texts.append(target_text)\n",
    "    for char in input_text:\n",
    "        if char not in input_characters:\n",
    "            input_characters.add(char)\n",
    "    for char in target_text:\n",
    "        if char not in target_characters:\n",
    "            target_characters.add(char)\n",
    "\n",
    "input_characters = sorted(list(input_characters))\n",
    "target_characters = sorted(list(target_characters))\n",
    "num_encoder_tokens = len(input_characters)\n",
    "num_decoder_tokens = len(target_characters)\n",
    "max_encoder_seq_length = max([len(txt) for txt in input_texts])\n",
    "max_decoder_seq_length = max([len(txt) for txt in target_texts])\n",
    "\n",
    "print(\"Number of samples:\", len(input_texts))\n",
    "print(\"Number of unique input characters (i.e., input tokens):\", num_encoder_tokens)\n",
    "print(\"Number of unique output characters (i.e., output tokens ):\", num_decoder_tokens)\n",
    "print(\"Input max sequence length:\", max_encoder_seq_length)\n",
    "print(\"Output sequence length for outputs:\", max_decoder_seq_length)"
   ]
  },
  {
   "cell_type": "markdown",
   "id": "hawaiian-kelly",
   "metadata": {},
   "source": [
    "<font color='red'>Note</font> the number of input and output characters exceeds the 26 Latin alphabets, because lower and upper cases are considered here plus some special charachters like !, ?, -, \", etc. Note that for target sequences tab \"\\t\" is used to indicate the start of a sequence and \"\\n\" as the \"end\" of sequence.\n"
   ]
  },
  {
   "cell_type": "markdown",
   "id": "warming-bahrain",
   "metadata": {},
   "source": [
    "### Vectorize input and output sentences"
   ]
  },
  {
   "cell_type": "code",
   "execution_count": 9,
   "id": "quality-chest",
   "metadata": {},
   "outputs": [],
   "source": [
    "input_token_index = dict([(char, i) for i, char in enumerate(input_characters)])\n",
    "target_token_index = dict([(char, i) for i, char in enumerate(target_characters)])"
   ]
  },
  {
   "cell_type": "code",
   "execution_count": 10,
   "id": "daily-carroll",
   "metadata": {},
   "outputs": [],
   "source": [
    "encoder_input_data = np.zeros(\n",
    "    (len(input_texts), max_encoder_seq_length, num_encoder_tokens), dtype=\"float32\"\n",
    ")\n",
    "decoder_input_data = np.zeros(\n",
    "    (len(input_texts), max_decoder_seq_length, num_decoder_tokens), dtype=\"float32\"\n",
    ")\n",
    "decoder_target_data = np.zeros(\n",
    "    (len(input_texts), max_decoder_seq_length, num_decoder_tokens), dtype=\"float32\"\n",
    ")\n"
   ]
  },
  {
   "cell_type": "code",
   "execution_count": 11,
   "id": "latter-harrison",
   "metadata": {},
   "outputs": [],
   "source": [
    "for i, (input_text, target_text) in enumerate(zip(input_texts, target_texts)):\n",
    "    for t, char in enumerate(input_text):\n",
    "        encoder_input_data[i, t, input_token_index[char]] = 1.0\n",
    "    encoder_input_data[i, t + 1 :, input_token_index[\" \"]] = 1.0\n",
    "    for t, char in enumerate(target_text):\n",
    "        # decoder_target_data is ahead of decoder_input_data by one timestep\n",
    "        decoder_input_data[i, t, target_token_index[char]] = 1.0\n",
    "        if t > 0:\n",
    "            # decoder_target_data will be ahead by one timestep\n",
    "            # and will not include the start character.\n",
    "            decoder_target_data[i, t - 1, target_token_index[char]] = 1.0\n",
    "    decoder_input_data[i, t + 1 :, target_token_index[\" \"]] = 1.0\n",
    "    decoder_target_data[i, t:, target_token_index[\" \"]] = 1.0"
   ]
  },
  {
   "cell_type": "code",
   "execution_count": 12,
   "id": "pleasant-laser",
   "metadata": {},
   "outputs": [
    {
     "name": "stdout",
     "output_type": "stream",
     "text": [
      "encoder_input_data.shape: (10000, 15, 71)\n",
      "decoder_input_data.shape: (10000, 59, 93)\n",
      "decoder_target_data.shape: (10000, 59, 93)\n"
     ]
    }
   ],
   "source": [
    "print(\"encoder_input_data.shape:\",encoder_input_data.shape)\n",
    "print(\"decoder_input_data.shape:\",decoder_input_data.shape)\n",
    "print(\"decoder_target_data.shape:\",decoder_target_data.shape)"
   ]
  },
  {
   "cell_type": "markdown",
   "id": "framed-wedding",
   "metadata": {},
   "source": [
    "### Build the model using Keras"
   ]
  },
  {
   "cell_type": "code",
   "execution_count": 14,
   "id": "answering-norman",
   "metadata": {},
   "outputs": [],
   "source": [
    "# Define an input sequence and process it.\n",
    "encoder_inputs = keras.Input(shape=(None, num_encoder_tokens))\n",
    "encoder = keras.layers.LSTM(latent_dim, return_state=True)\n",
    "encoder_outputs, state_h, state_c = encoder(encoder_inputs)\n",
    "\n",
    "# We discard `encoder_outputs` and only keep the states.\n",
    "encoder_states = [state_h, state_c]\n",
    "\n",
    "# Set up the decoder, using `encoder_states` as initial state.\n",
    "decoder_inputs = keras.Input(shape=(None, num_decoder_tokens))\n",
    "\n",
    "# We set up our decoder to return full output sequences,\n",
    "# and to return internal states as well. We don't use the\n",
    "# return states in the training model, but we will use them in inference.\n",
    "decoder_lstm = keras.layers.LSTM(latent_dim, return_sequences=True, return_state=True)\n",
    "decoder_outputs, _, _ = decoder_lstm(decoder_inputs, initial_state=encoder_states)\n",
    "decoder_dense = keras.layers.Dense(num_decoder_tokens, activation=\"softmax\")\n",
    "decoder_outputs = decoder_dense(decoder_outputs)\n",
    "\n",
    "# Define the model that will turn\n",
    "# `encoder_input_data` & `decoder_input_data` into `decoder_target_data`\n",
    "model = keras.Model([encoder_inputs, decoder_inputs], decoder_outputs)"
   ]
  },
  {
   "cell_type": "markdown",
   "id": "designing-rendering",
   "metadata": {},
   "source": [
    "### Visualize the model"
   ]
  },
  {
   "cell_type": "code",
   "execution_count": 15,
   "id": "intense-myrtle",
   "metadata": {},
   "outputs": [
    {
     "data": {
      "image/png": "[encoded data removed]",
      "text/plain": [
       "<IPython.core.display.Image object>"
      ]
     },
     "execution_count": 15,
     "metadata": {},
     "output_type": "execute_result"
    }
   ],
   "source": [
    "from keras.utils.vis_utils import plot_model\n",
    "plot_model(model, to_file='model.png', show_shapes=True)"
   ]
  },
  {
   "cell_type": "code",
   "execution_count": 16,
   "id": "purple-sheep",
   "metadata": {},
   "outputs": [
    {
     "name": "stdout",
     "output_type": "stream",
     "text": [
      "Model: \"model\"\n",
      "__________________________________________________________________________________________________\n",
      "Layer (type)                    Output Shape         Param #     Connected to                     \n",
      "==================================================================================================\n",
      "input_1 (InputLayer)            [(None, None, 71)]   0                                            \n",
      "__________________________________________________________________________________________________\n",
      "input_2 (InputLayer)            [(None, None, 93)]   0                                            \n",
      "__________________________________________________________________________________________________\n",
      "lstm (LSTM)                     [(None, 256), (None, 335872      input_1[0][0]                    \n",
      "__________________________________________________________________________________________________\n",
      "lstm_1 (LSTM)                   [(None, None, 256),  358400      input_2[0][0]                    \n",
      "                                                                 lstm[0][1]                       \n",
      "                                                                 lstm[0][2]                       \n",
      "__________________________________________________________________________________________________\n",
      "dense (Dense)                   (None, None, 93)     23901       lstm_1[0][0]                     \n",
      "==================================================================================================\n",
      "Total params: 718,173\n",
      "Trainable params: 718,173\n",
      "Non-trainable params: 0\n",
      "__________________________________________________________________________________________________\n"
     ]
    }
   ],
   "source": [
    "model.summary()"
   ]
  },
  {
   "cell_type": "markdown",
   "id": "pointed-extension",
   "metadata": {},
   "source": [
    "### Model training"
   ]
  },
  {
   "cell_type": "code",
   "execution_count": 17,
   "id": "political-lightweight",
   "metadata": {},
   "outputs": [
    {
     "name": "stdout",
     "output_type": "stream",
     "text": [
      "Epoch 1/100\n",
      "125/125 [==============================] - 4s 28ms/step - loss: 1.1323 - accuracy: 0.7354 - val_loss: 1.0324 - val_accuracy: 0.7084\n",
      "Epoch 2/100\n",
      "125/125 [==============================] - 3s 23ms/step - loss: 0.8216 - accuracy: 0.7781 - val_loss: 0.8080 - val_accuracy: 0.7758\n",
      "Epoch 3/100\n",
      "125/125 [==============================] - 3s 21ms/step - loss: 0.6563 - accuracy: 0.8148 - val_loss: 0.7078 - val_accuracy: 0.7948\n",
      "Epoch 4/100\n",
      "125/125 [==============================] - 3s 21ms/step - loss: 0.5903 - accuracy: 0.8283 - val_loss: 0.6439 - val_accuracy: 0.8103\n",
      "Epoch 5/100\n",
      "125/125 [==============================] - 3s 21ms/step - loss: 0.5313 - accuracy: 0.8442 - val_loss: 0.5948 - val_accuracy: 0.8252\n",
      "Epoch 6/100\n",
      "125/125 [==============================] - 3s 21ms/step - loss: 0.4938 - accuracy: 0.8553 - val_loss: 0.5686 - val_accuracy: 0.8349\n",
      "Epoch 7/100\n",
      "125/125 [==============================] - 3s 21ms/step - loss: 0.4643 - accuracy: 0.8630 - val_loss: 0.5474 - val_accuracy: 0.8395\n",
      "Epoch 8/100\n",
      "125/125 [==============================] - 3s 21ms/step - loss: 0.4392 - accuracy: 0.8701 - val_loss: 0.5207 - val_accuracy: 0.8473\n",
      "Epoch 9/100\n",
      "125/125 [==============================] - 3s 21ms/step - loss: 0.4178 - accuracy: 0.8754 - val_loss: 0.5034 - val_accuracy: 0.8519\n",
      "Epoch 10/100\n",
      "125/125 [==============================] - 3s 21ms/step - loss: 0.3992 - accuracy: 0.8807 - val_loss: 0.4999 - val_accuracy: 0.8508\n",
      "Epoch 11/100\n",
      "125/125 [==============================] - 3s 20ms/step - loss: 0.3816 - accuracy: 0.8856 - val_loss: 0.4850 - val_accuracy: 0.8576\n",
      "Epoch 12/100\n",
      "125/125 [==============================] - 3s 22ms/step - loss: 0.3655 - accuracy: 0.8902 - val_loss: 0.4757 - val_accuracy: 0.8590\n",
      "Epoch 13/100\n",
      "125/125 [==============================] - 3s 21ms/step - loss: 0.3507 - accuracy: 0.8943 - val_loss: 0.4684 - val_accuracy: 0.8624\n",
      "Epoch 14/100\n",
      "125/125 [==============================] - 3s 21ms/step - loss: 0.3367 - accuracy: 0.8987 - val_loss: 0.4690 - val_accuracy: 0.8618\n",
      "Epoch 15/100\n",
      "125/125 [==============================] - 3s 21ms/step - loss: 0.3237 - accuracy: 0.9026 - val_loss: 0.4596 - val_accuracy: 0.8645\n",
      "Epoch 16/100\n",
      "125/125 [==============================] - 3s 21ms/step - loss: 0.3112 - accuracy: 0.9067 - val_loss: 0.4559 - val_accuracy: 0.8678\n",
      "Epoch 17/100\n",
      "125/125 [==============================] - 3s 22ms/step - loss: 0.2989 - accuracy: 0.9099 - val_loss: 0.4508 - val_accuracy: 0.8695\n",
      "Epoch 18/100\n",
      "125/125 [==============================] - 3s 23ms/step - loss: 0.2881 - accuracy: 0.9133 - val_loss: 0.4546 - val_accuracy: 0.8690\n",
      "Epoch 19/100\n",
      "125/125 [==============================] - 3s 21ms/step - loss: 0.2775 - accuracy: 0.9162 - val_loss: 0.4494 - val_accuracy: 0.8709\n",
      "Epoch 20/100\n",
      "125/125 [==============================] - 3s 23ms/step - loss: 0.2676 - accuracy: 0.9193 - val_loss: 0.4485 - val_accuracy: 0.8716\n",
      "Epoch 21/100\n",
      "125/125 [==============================] - 3s 22ms/step - loss: 0.2576 - accuracy: 0.9223 - val_loss: 0.4503 - val_accuracy: 0.8719\n",
      "Epoch 22/100\n",
      "125/125 [==============================] - 3s 22ms/step - loss: 0.2487 - accuracy: 0.9249 - val_loss: 0.4495 - val_accuracy: 0.8733\n",
      "Epoch 23/100\n",
      "125/125 [==============================] - 3s 22ms/step - loss: 0.2401 - accuracy: 0.9273 - val_loss: 0.4537 - val_accuracy: 0.8732\n",
      "Epoch 24/100\n",
      "125/125 [==============================] - 3s 22ms/step - loss: 0.2315 - accuracy: 0.9302 - val_loss: 0.4555 - val_accuracy: 0.8734\n",
      "Epoch 25/100\n",
      "125/125 [==============================] - 3s 21ms/step - loss: 0.2235 - accuracy: 0.9322 - val_loss: 0.4574 - val_accuracy: 0.8740\n",
      "Epoch 26/100\n",
      "125/125 [==============================] - 3s 22ms/step - loss: 0.2159 - accuracy: 0.9346 - val_loss: 0.4602 - val_accuracy: 0.8752\n",
      "Epoch 27/100\n",
      "125/125 [==============================] - 3s 22ms/step - loss: 0.2086 - accuracy: 0.9370 - val_loss: 0.4588 - val_accuracy: 0.8748\n",
      "Epoch 28/100\n",
      "125/125 [==============================] - 3s 22ms/step - loss: 0.2017 - accuracy: 0.9387 - val_loss: 0.4682 - val_accuracy: 0.8732\n",
      "Epoch 29/100\n",
      "125/125 [==============================] - 3s 22ms/step - loss: 0.1953 - accuracy: 0.9404 - val_loss: 0.4701 - val_accuracy: 0.8737\n",
      "Epoch 30/100\n",
      "125/125 [==============================] - 3s 23ms/step - loss: 0.1885 - accuracy: 0.9426 - val_loss: 0.4703 - val_accuracy: 0.8744\n",
      "Epoch 31/100\n",
      "125/125 [==============================] - 3s 22ms/step - loss: 0.1824 - accuracy: 0.9444 - val_loss: 0.4729 - val_accuracy: 0.8758\n",
      "Epoch 32/100\n",
      "125/125 [==============================] - 3s 22ms/step - loss: 0.1767 - accuracy: 0.9462 - val_loss: 0.4779 - val_accuracy: 0.8744\n",
      "Epoch 33/100\n",
      "125/125 [==============================] - 3s 22ms/step - loss: 0.1711 - accuracy: 0.9475 - val_loss: 0.4806 - val_accuracy: 0.8748\n",
      "Epoch 34/100\n",
      "125/125 [==============================] - 3s 23ms/step - loss: 0.1653 - accuracy: 0.9495 - val_loss: 0.4838 - val_accuracy: 0.8757\n",
      "Epoch 35/100\n",
      "125/125 [==============================] - 3s 22ms/step - loss: 0.1609 - accuracy: 0.9506 - val_loss: 0.4913 - val_accuracy: 0.8741\n",
      "Epoch 36/100\n",
      "125/125 [==============================] - 3s 23ms/step - loss: 0.1555 - accuracy: 0.9524 - val_loss: 0.4947 - val_accuracy: 0.8744\n",
      "Epoch 37/100\n",
      "125/125 [==============================] - 3s 22ms/step - loss: 0.1511 - accuracy: 0.9537 - val_loss: 0.5013 - val_accuracy: 0.8739\n",
      "Epoch 38/100\n",
      "125/125 [==============================] - 3s 22ms/step - loss: 0.1468 - accuracy: 0.9549 - val_loss: 0.4996 - val_accuracy: 0.8754\n",
      "Epoch 39/100\n",
      "125/125 [==============================] - 3s 22ms/step - loss: 0.1418 - accuracy: 0.9562 - val_loss: 0.5123 - val_accuracy: 0.8742\n",
      "Epoch 40/100\n",
      "125/125 [==============================] - 3s 23ms/step - loss: 0.1380 - accuracy: 0.9574 - val_loss: 0.5120 - val_accuracy: 0.8745\n",
      "Epoch 41/100\n",
      "125/125 [==============================] - 3s 22ms/step - loss: 0.1340 - accuracy: 0.9586 - val_loss: 0.5258 - val_accuracy: 0.8730\n",
      "Epoch 42/100\n",
      "125/125 [==============================] - 3s 22ms/step - loss: 0.1303 - accuracy: 0.9599 - val_loss: 0.5254 - val_accuracy: 0.8743\n",
      "Epoch 43/100\n",
      "125/125 [==============================] - 3s 22ms/step - loss: 0.1268 - accuracy: 0.9606 - val_loss: 0.5307 - val_accuracy: 0.8744\n",
      "Epoch 44/100\n",
      "125/125 [==============================] - 3s 22ms/step - loss: 0.1233 - accuracy: 0.9616 - val_loss: 0.5377 - val_accuracy: 0.8735\n",
      "Epoch 45/100\n",
      "125/125 [==============================] - 3s 22ms/step - loss: 0.1202 - accuracy: 0.9628 - val_loss: 0.5382 - val_accuracy: 0.8739\n",
      "Epoch 46/100\n",
      "125/125 [==============================] - 3s 22ms/step - loss: 0.1169 - accuracy: 0.9636 - val_loss: 0.5438 - val_accuracy: 0.8736\n",
      "Epoch 47/100\n",
      "125/125 [==============================] - 3s 22ms/step - loss: 0.1137 - accuracy: 0.9647 - val_loss: 0.5490 - val_accuracy: 0.8741\n",
      "Epoch 48/100\n",
      "125/125 [==============================] - 3s 22ms/step - loss: 0.1108 - accuracy: 0.9653 - val_loss: 0.5491 - val_accuracy: 0.8746\n",
      "Epoch 49/100\n",
      "125/125 [==============================] - 3s 22ms/step - loss: 0.1080 - accuracy: 0.9663 - val_loss: 0.5623 - val_accuracy: 0.8736\n",
      "Epoch 50/100\n",
      "125/125 [==============================] - 3s 23ms/step - loss: 0.1054 - accuracy: 0.9667 - val_loss: 0.5649 - val_accuracy: 0.8734\n",
      "Epoch 51/100\n",
      "125/125 [==============================] - 3s 22ms/step - loss: 0.1024 - accuracy: 0.9678 - val_loss: 0.5691 - val_accuracy: 0.8740\n",
      "Epoch 52/100\n",
      "125/125 [==============================] - 3s 22ms/step - loss: 0.1003 - accuracy: 0.9685 - val_loss: 0.5746 - val_accuracy: 0.8728\n",
      "Epoch 53/100\n",
      "125/125 [==============================] - 3s 22ms/step - loss: 0.0974 - accuracy: 0.9693 - val_loss: 0.5805 - val_accuracy: 0.8729\n",
      "Epoch 54/100\n",
      "125/125 [==============================] - 3s 22ms/step - loss: 0.0954 - accuracy: 0.9699 - val_loss: 0.5842 - val_accuracy: 0.8736\n",
      "Epoch 55/100\n",
      "125/125 [==============================] - 3s 22ms/step - loss: 0.0935 - accuracy: 0.9705 - val_loss: 0.5874 - val_accuracy: 0.8730\n",
      "Epoch 56/100\n",
      "125/125 [==============================] - 3s 22ms/step - loss: 0.0914 - accuracy: 0.9710 - val_loss: 0.5969 - val_accuracy: 0.8731\n",
      "Epoch 57/100\n",
      "125/125 [==============================] - 3s 22ms/step - loss: 0.0893 - accuracy: 0.9716 - val_loss: 0.5993 - val_accuracy: 0.8734\n",
      "Epoch 58/100\n",
      "125/125 [==============================] - 3s 23ms/step - loss: 0.0874 - accuracy: 0.9721 - val_loss: 0.6034 - val_accuracy: 0.8724\n",
      "Epoch 59/100\n",
      "125/125 [==============================] - 3s 22ms/step - loss: 0.0852 - accuracy: 0.9728 - val_loss: 0.6051 - val_accuracy: 0.8732\n",
      "Epoch 60/100\n",
      "125/125 [==============================] - 3s 23ms/step - loss: 0.0835 - accuracy: 0.9732 - val_loss: 0.6099 - val_accuracy: 0.8733\n",
      "Epoch 61/100\n",
      "125/125 [==============================] - 3s 22ms/step - loss: 0.0818 - accuracy: 0.9739 - val_loss: 0.6190 - val_accuracy: 0.8721\n",
      "Epoch 62/100\n",
      "125/125 [==============================] - 3s 21ms/step - loss: 0.0801 - accuracy: 0.9741 - val_loss: 0.6195 - val_accuracy: 0.8720\n",
      "Epoch 63/100\n",
      "125/125 [==============================] - 3s 22ms/step - loss: 0.0787 - accuracy: 0.9746 - val_loss: 0.6219 - val_accuracy: 0.8716\n",
      "Epoch 64/100\n",
      "125/125 [==============================] - 3s 22ms/step - loss: 0.0768 - accuracy: 0.9752 - val_loss: 0.6270 - val_accuracy: 0.8721\n",
      "Epoch 65/100\n",
      "125/125 [==============================] - 3s 22ms/step - loss: 0.0752 - accuracy: 0.9753 - val_loss: 0.6339 - val_accuracy: 0.8731\n",
      "Epoch 66/100\n",
      "125/125 [==============================] - 3s 22ms/step - loss: 0.0739 - accuracy: 0.9761 - val_loss: 0.6362 - val_accuracy: 0.8728\n",
      "Epoch 67/100\n",
      "125/125 [==============================] - 3s 21ms/step - loss: 0.0723 - accuracy: 0.9764 - val_loss: 0.6373 - val_accuracy: 0.8720\n",
      "Epoch 68/100\n",
      "125/125 [==============================] - 3s 22ms/step - loss: 0.0711 - accuracy: 0.9768 - val_loss: 0.6463 - val_accuracy: 0.8728\n",
      "Epoch 69/100\n",
      "125/125 [==============================] - 3s 22ms/step - loss: 0.0695 - accuracy: 0.9771 - val_loss: 0.6488 - val_accuracy: 0.8726\n",
      "Epoch 70/100\n",
      "125/125 [==============================] - 3s 22ms/step - loss: 0.0684 - accuracy: 0.9774 - val_loss: 0.6532 - val_accuracy: 0.8721\n",
      "Epoch 71/100\n",
      "125/125 [==============================] - 3s 22ms/step - loss: 0.0673 - accuracy: 0.9777 - val_loss: 0.6540 - val_accuracy: 0.8730\n",
      "Epoch 72/100\n",
      "125/125 [==============================] - 3s 22ms/step - loss: 0.0660 - accuracy: 0.9782 - val_loss: 0.6512 - val_accuracy: 0.8729\n",
      "Epoch 73/100\n",
      "125/125 [==============================] - 3s 22ms/step - loss: 0.0647 - accuracy: 0.9785 - val_loss: 0.6619 - val_accuracy: 0.8728\n",
      "Epoch 74/100\n",
      "125/125 [==============================] - 3s 23ms/step - loss: 0.0636 - accuracy: 0.9787 - val_loss: 0.6734 - val_accuracy: 0.8721\n",
      "Epoch 75/100\n",
      "125/125 [==============================] - 3s 22ms/step - loss: 0.0626 - accuracy: 0.9791 - val_loss: 0.6750 - val_accuracy: 0.8716\n",
      "Epoch 76/100\n",
      "125/125 [==============================] - 3s 22ms/step - loss: 0.0615 - accuracy: 0.9792 - val_loss: 0.6799 - val_accuracy: 0.8723\n",
      "Epoch 77/100\n",
      "125/125 [==============================] - 3s 22ms/step - loss: 0.0604 - accuracy: 0.9796 - val_loss: 0.6788 - val_accuracy: 0.8719\n",
      "Epoch 78/100\n",
      "125/125 [==============================] - 3s 22ms/step - loss: 0.0596 - accuracy: 0.9800 - val_loss: 0.6854 - val_accuracy: 0.8716\n",
      "Epoch 79/100\n",
      "125/125 [==============================] - 3s 22ms/step - loss: 0.0586 - accuracy: 0.9799 - val_loss: 0.6907 - val_accuracy: 0.8719\n",
      "Epoch 80/100\n",
      "125/125 [==============================] - 3s 22ms/step - loss: 0.0579 - accuracy: 0.9803 - val_loss: 0.6951 - val_accuracy: 0.8709\n",
      "Epoch 81/100\n",
      "125/125 [==============================] - 3s 22ms/step - loss: 0.0570 - accuracy: 0.9806 - val_loss: 0.6949 - val_accuracy: 0.8712\n",
      "Epoch 82/100\n",
      "125/125 [==============================] - 3s 22ms/step - loss: 0.0556 - accuracy: 0.9810 - val_loss: 0.6996 - val_accuracy: 0.8713\n",
      "Epoch 83/100\n",
      "125/125 [==============================] - 3s 21ms/step - loss: 0.0548 - accuracy: 0.9811 - val_loss: 0.7067 - val_accuracy: 0.8699\n",
      "Epoch 84/100\n",
      "125/125 [==============================] - 3s 21ms/step - loss: 0.0541 - accuracy: 0.9814 - val_loss: 0.7079 - val_accuracy: 0.8703\n",
      "Epoch 85/100\n",
      "125/125 [==============================] - 3s 21ms/step - loss: 0.0533 - accuracy: 0.9816 - val_loss: 0.7101 - val_accuracy: 0.8703\n",
      "Epoch 86/100\n",
      "125/125 [==============================] - 3s 22ms/step - loss: 0.0528 - accuracy: 0.9818 - val_loss: 0.7170 - val_accuracy: 0.8711\n",
      "Epoch 87/100\n",
      "125/125 [==============================] - 3s 23ms/step - loss: 0.0516 - accuracy: 0.9820 - val_loss: 0.7210 - val_accuracy: 0.8708\n",
      "Epoch 88/100\n",
      "125/125 [==============================] - 3s 21ms/step - loss: 0.0510 - accuracy: 0.9822 - val_loss: 0.7170 - val_accuracy: 0.8719\n",
      "Epoch 89/100\n",
      "125/125 [==============================] - 3s 22ms/step - loss: 0.0505 - accuracy: 0.9824 - val_loss: 0.7226 - val_accuracy: 0.8706\n",
      "Epoch 90/100\n",
      "125/125 [==============================] - 3s 22ms/step - loss: 0.0500 - accuracy: 0.9824 - val_loss: 0.7261 - val_accuracy: 0.8710\n",
      "Epoch 91/100\n",
      "125/125 [==============================] - 3s 22ms/step - loss: 0.0492 - accuracy: 0.9828 - val_loss: 0.7277 - val_accuracy: 0.8708\n",
      "Epoch 92/100\n",
      "125/125 [==============================] - 3s 22ms/step - loss: 0.0489 - accuracy: 0.9828 - val_loss: 0.7362 - val_accuracy: 0.8699\n",
      "Epoch 93/100\n",
      "125/125 [==============================] - 3s 22ms/step - loss: 0.0477 - accuracy: 0.9833 - val_loss: 0.7388 - val_accuracy: 0.8702\n",
      "Epoch 94/100\n",
      "125/125 [==============================] - 3s 22ms/step - loss: 0.0473 - accuracy: 0.9833 - val_loss: 0.7335 - val_accuracy: 0.8710\n",
      "Epoch 95/100\n",
      "125/125 [==============================] - 3s 22ms/step - loss: 0.0468 - accuracy: 0.9834 - val_loss: 0.7380 - val_accuracy: 0.8712\n",
      "Epoch 96/100\n",
      "125/125 [==============================] - 3s 22ms/step - loss: 0.0463 - accuracy: 0.9836 - val_loss: 0.7433 - val_accuracy: 0.8703\n",
      "Epoch 97/100\n",
      "125/125 [==============================] - 3s 22ms/step - loss: 0.0457 - accuracy: 0.9838 - val_loss: 0.7434 - val_accuracy: 0.8704\n",
      "Epoch 98/100\n",
      "125/125 [==============================] - 3s 21ms/step - loss: 0.0451 - accuracy: 0.9837 - val_loss: 0.7501 - val_accuracy: 0.8701\n",
      "Epoch 99/100\n",
      "125/125 [==============================] - 3s 22ms/step - loss: 0.0445 - accuracy: 0.9840 - val_loss: 0.7560 - val_accuracy: 0.8702\n",
      "Epoch 100/100\n",
      "125/125 [==============================] - 3s 21ms/step - loss: 0.0444 - accuracy: 0.9840 - val_loss: 0.7506 - val_accuracy: 0.8714\n",
      "WARNING:tensorflow:From /home/ag_stigler/alqassem/anaconda3/envs/keras_tf/lib/python3.8/site-packages/tensorflow/python/ops/resource_variable_ops.py:1813: calling BaseResourceVariable.__init__ (from tensorflow.python.ops.resource_variable_ops) with constraint is deprecated and will be removed in a future version.\n",
      "Instructions for updating:\n",
      "If using Keras pass *_constraint arguments to layers.\n",
      "INFO:tensorflow:Assets written to: s2s/assets\n"
     ]
    }
   ],
   "source": [
    "model.compile(\n",
    "    optimizer=\"rmsprop\", loss=\"categorical_crossentropy\", metrics=[\"accuracy\"]\n",
    ")\n",
    "model.fit(\n",
    "    [encoder_input_data, decoder_input_data],\n",
    "    decoder_target_data,\n",
    "    batch_size=batch_size,\n",
    "    epochs=epochs,\n",
    "    validation_split=0.2,\n",
    ")\n",
    "# Save model\n",
    "model.save(\"s2s\")"
   ]
  },
  {
   "cell_type": "markdown",
   "id": "thirty-wireless",
   "metadata": {},
   "source": [
    "### Restore the model and construct the encoder and decoder"
   ]
  },
  {
   "cell_type": "code",
   "execution_count": 18,
   "id": "ultimate-williams",
   "metadata": {},
   "outputs": [],
   "source": [
    "# Define sampling models\n",
    "\n",
    "model = keras.models.load_model(\"s2s\")\n",
    "encoder_inputs = model.input[0]  # input_1\n",
    "encoder_outputs, state_h_enc, state_c_enc = model.layers[2].output  # lstm_1\n",
    "encoder_states = [state_h_enc, state_c_enc]\n",
    "encoder_model = keras.Model(encoder_inputs, encoder_states)"
   ]
  },
  {
   "cell_type": "code",
   "execution_count": 19,
   "id": "faced-narrative",
   "metadata": {},
   "outputs": [
    {
     "data": {
      "image/png": "[encoded data removed]",
      "text/plain": [
       "<IPython.core.display.Image object>"
      ]
     },
     "execution_count": 19,
     "metadata": {},
     "output_type": "execute_result"
    }
   ],
   "source": [
    "# summarize model\n",
    "plot_model(encoder_model, to_file='encoder_model.png', show_shapes=True)"
   ]
  },
  {
   "cell_type": "code",
   "execution_count": 20,
   "id": "purple-oakland",
   "metadata": {},
   "outputs": [],
   "source": [
    "decoder_inputs = model.input[1]  # input_2\n",
    "decoder_state_input_h = keras.Input(shape=(latent_dim,), name=\"input_3\")\n",
    "decoder_state_input_c = keras.Input(shape=(latent_dim,), name=\"input_4\")\n",
    "decoder_states_inputs = [decoder_state_input_h, decoder_state_input_c]\n",
    "decoder_lstm = model.layers[3]\n",
    "decoder_outputs, state_h_dec, state_c_dec = decoder_lstm(\n",
    "    decoder_inputs, initial_state=decoder_states_inputs\n",
    ")\n",
    "decoder_states = [state_h_dec, state_c_dec]\n",
    "decoder_dense = model.layers[4]\n",
    "decoder_outputs = decoder_dense(decoder_outputs)\n",
    "decoder_model = keras.Model(\n",
    "    [decoder_inputs] + decoder_states_inputs, [decoder_outputs] + decoder_states\n",
    ")"
   ]
  },
  {
   "cell_type": "code",
   "execution_count": 21,
   "id": "municipal-first",
   "metadata": {},
   "outputs": [
    {
     "data": {
      "image/png": "[encoded data removed]",
      "text/plain": [
       "<IPython.core.display.Image object>"
      ]
     },
     "execution_count": 21,
     "metadata": {},
     "output_type": "execute_result"
    }
   ],
   "source": [
    "plot_model(decoder_model, to_file='decoder_model.png', show_shapes=True)"
   ]
  },
  {
   "cell_type": "code",
   "execution_count": 22,
   "id": "unauthorized-trinity",
   "metadata": {},
   "outputs": [],
   "source": [
    "# Reverse-lookup token index to decode sequences back to\n",
    "# something readable.\n",
    "reverse_input_char_index = dict((i, char) for char, i in input_token_index.items())\n",
    "reverse_target_char_index = dict((i, char) for char, i in target_token_index.items())"
   ]
  },
  {
   "cell_type": "markdown",
   "id": "assumed-evaluation",
   "metadata": {},
   "source": [
    "### Use encoder_model and decoder_model to translate an input sentence from English to Frensh"
   ]
  },
  {
   "cell_type": "code",
   "execution_count": 23,
   "id": "secret-museum",
   "metadata": {},
   "outputs": [],
   "source": [
    "def decode_sequence(input_seq):\n",
    "    # Encode the input as state vectors.\n",
    "    states_value = encoder_model.predict(input_seq)\n",
    "\n",
    "    # Generate empty target sequence of length 1.\n",
    "    target_seq = np.zeros((1, 1, num_decoder_tokens))\n",
    "    # Populate the first character of target sequence with the start character.\n",
    "    target_seq[0, 0, target_token_index[\"\\t\"]] = 1.0\n",
    "\n",
    "    # Sampling loop for a batch of sequences\n",
    "    # (to simplify, here we assume a batch of size 1).\n",
    "    stop_condition = False\n",
    "    decoded_sentence = \"\"\n",
    "    while not stop_condition:\n",
    "        output_tokens, h, c = decoder_model.predict([target_seq] + states_value)\n",
    "\n",
    "        # Sample a token\n",
    "        sampled_token_index = np.argmax(output_tokens[0, -1, :])\n",
    "        sampled_char = reverse_target_char_index[sampled_token_index]\n",
    "        decoded_sentence += sampled_char\n",
    "\n",
    "        # Exit condition: either hit max length\n",
    "        # or find stop character.\n",
    "        if sampled_char == \"\\n\" or len(decoded_sentence) > max_decoder_seq_length:\n",
    "            stop_condition = True\n",
    "\n",
    "        # Update the target sequence (of length 1).\n",
    "        target_seq = np.zeros((1, 1, num_decoder_tokens))\n",
    "        target_seq[0, 0, sampled_token_index] = 1.0\n",
    "\n",
    "        # Update states\n",
    "        states_value = [h, c]\n",
    "    return decoded_sentence"
   ]
  },
  {
   "cell_type": "code",
   "execution_count": 24,
   "id": "afraid-operation",
   "metadata": {},
   "outputs": [
    {
     "name": "stdout",
     "output_type": "stream",
     "text": [
      "-\n",
      "Input sentence: Go.\n",
      "Decoded sentence: Bouge !\n",
      "\n",
      "-\n",
      "Input sentence: Go.\n",
      "Decoded sentence: Bouge !\n",
      "\n",
      "-\n",
      "Input sentence: Go.\n",
      "Decoded sentence: Bouge !\n",
      "\n",
      "-\n",
      "Input sentence: Hi.\n",
      "Decoded sentence: Salut.\n",
      "\n",
      "-\n",
      "Input sentence: Hi.\n",
      "Decoded sentence: Salut.\n",
      "\n",
      "-\n",
      "Input sentence: Run!\n",
      "Decoded sentence: Fuyons !\n",
      "\n",
      "-\n",
      "Input sentence: Run!\n",
      "Decoded sentence: Fuyons !\n",
      "\n",
      "-\n",
      "Input sentence: Run!\n",
      "Decoded sentence: Fuyons !\n",
      "\n",
      "-\n",
      "Input sentence: Run!\n",
      "Decoded sentence: Fuyons !\n",
      "\n",
      "-\n",
      "Input sentence: Run!\n",
      "Decoded sentence: Fuyons !\n",
      "\n",
      "-\n",
      "Input sentence: Run!\n",
      "Decoded sentence: Fuyons !\n",
      "\n",
      "-\n",
      "Input sentence: Run!\n",
      "Decoded sentence: Fuyons !\n",
      "\n",
      "-\n",
      "Input sentence: Run!\n",
      "Decoded sentence: Fuyons !\n",
      "\n",
      "-\n",
      "Input sentence: Run.\n",
      "Decoded sentence: Fuyons !\n",
      "\n",
      "-\n",
      "Input sentence: Run.\n",
      "Decoded sentence: Fuyons !\n",
      "\n",
      "-\n",
      "Input sentence: Run.\n",
      "Decoded sentence: Fuyons !\n",
      "\n",
      "-\n",
      "Input sentence: Run.\n",
      "Decoded sentence: Fuyons !\n",
      "\n",
      "-\n",
      "Input sentence: Run.\n",
      "Decoded sentence: Fuyons !\n",
      "\n",
      "-\n",
      "Input sentence: Run.\n",
      "Decoded sentence: Fuyons !\n",
      "\n",
      "-\n",
      "Input sentence: Run.\n",
      "Decoded sentence: Fuyons !\n",
      "\n",
      "-\n",
      "Input sentence: Run.\n",
      "Decoded sentence: Fuyons !\n",
      "\n",
      "-\n",
      "Input sentence: Who?\n",
      "Decoded sentence: Qui ?\n",
      "\n",
      "-\n",
      "Input sentence: Wow!\n",
      "Decoded sentence: Ça alors !\n",
      "\n",
      "-\n",
      "Input sentence: Fire!\n",
      "Decoded sentence: Au feu !\n",
      "\n",
      "-\n",
      "Input sentence: Help!\n",
      "Decoded sentence: À l'aide !\n",
      "\n",
      "-\n",
      "Input sentence: Jump!\n",
      "Decoded sentence: Saute.\n",
      "\n",
      "-\n",
      "Input sentence: Jump.\n",
      "Decoded sentence: Saute.\n",
      "\n",
      "-\n",
      "Input sentence: Stop!\n",
      "Decoded sentence: Stop !\n",
      "\n",
      "-\n",
      "Input sentence: Stop!\n",
      "Decoded sentence: Stop !\n",
      "\n",
      "-\n",
      "Input sentence: Stop!\n",
      "Decoded sentence: Stop !\n",
      "\n",
      "-\n",
      "Input sentence: Wait!\n",
      "Decoded sentence: Attends !\n",
      "\n",
      "-\n",
      "Input sentence: Wait!\n",
      "Decoded sentence: Attends !\n",
      "\n",
      "-\n",
      "Input sentence: Wait!\n",
      "Decoded sentence: Attends !\n",
      "\n",
      "-\n",
      "Input sentence: Wait.\n",
      "Decoded sentence: Attends !\n",
      "\n",
      "-\n",
      "Input sentence: Wait.\n",
      "Decoded sentence: Attends !\n",
      "\n",
      "-\n",
      "Input sentence: Wait.\n",
      "Decoded sentence: Attends !\n",
      "\n",
      "-\n",
      "Input sentence: Wait.\n",
      "Decoded sentence: Attends !\n",
      "\n",
      "-\n",
      "Input sentence: Begin.\n",
      "Decoded sentence: Commence.\n",
      "\n",
      "-\n",
      "Input sentence: Begin.\n",
      "Decoded sentence: Commence.\n",
      "\n",
      "-\n",
      "Input sentence: Go on.\n",
      "Decoded sentence: Poursuis.\n",
      "\n"
     ]
    }
   ],
   "source": [
    "for seq_index in range(40):\n",
    "    input_seq = encoder_input_data[seq_index : seq_index + 1]\n",
    "    decoded_sentence = decode_sequence(input_seq)\n",
    "    print(\"-\")\n",
    "    print(\"Input sentence:\", input_texts[seq_index])\n",
    "    print(\"Decoded sentence:\", decoded_sentence)"
   ]
  },
  {
   "cell_type": "markdown",
   "id": "raised-slave",
   "metadata": {},
   "source": [
    "### Sources:\n",
    "\n",
    "https://keras.io/examples/nlp/lstm_seq2seq/\n",
    "\n",
    "https://machinelearningmastery.com/develop-encoder-decoder-model-sequence-sequence-prediction-keras/"
   ]
  },
  {
   "cell_type": "code",
   "execution_count": null,
   "id": "spread-demonstration",
   "metadata": {},
   "outputs": [],
   "source": []
  }
 ],
 "metadata": {
  "kernelspec": {
   "display_name": "Python 3",
   "language": "python",
   "name": "python3"
  },
  "language_info": {
   "codemirror_mode": {
    "name": "ipython",
    "version": 3
   },
   "file_extension": ".py",
   "mimetype": "text/x-python",
   "name": "python",
   "nbconvert_exporter": "python",
   "pygments_lexer": "ipython3",
   "version": "3.8.8"
  }
 },
 "nbformat": 4,
 "nbformat_minor": 5
}
