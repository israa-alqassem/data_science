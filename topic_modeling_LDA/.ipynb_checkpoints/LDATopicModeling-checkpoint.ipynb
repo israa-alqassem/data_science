{
 "cells": [
  {
   "cell_type": "markdown",
   "id": "spread-turner",
   "metadata": {},
   "source": [
    "In this notebook, we are going to use Latent Dirichlet Allocation(LDA) for topic modeling to retrieve topics from 20K different Wikipedia abstracts in an unsuperivsed way.  Click here [here](https://raw.githubusercontent.com/vinid/data/master/dbpedia_sample_abstract_20k_unprep.txt) to download the data."
   ]
  },
  {
   "cell_type": "code",
   "execution_count": 1,
   "id": "identified-faculty",
   "metadata": {},
   "outputs": [],
   "source": [
    "import sys\n",
    "import re\n",
    "import nltk\n",
    "import string\n",
    "import pandas as pd\n",
    "import numpy as np\n",
    "import gensim\n",
    "from gensim.corpora import Dictionary\n",
    "import matplotlib.pyplot as plt\n",
    "import seaborn as sns\n",
    "from pprint import pprint\n",
    "import warnings\n",
    "import random\n",
    "from time import time\n",
    "\n",
    "\n",
    "\n",
    "warnings.filterwarnings('ignore')\n",
    "pd.set_option('display.max_colwidth', None)\n",
    "\n",
    "%matplotlib inline"
   ]
  },
  {
   "cell_type": "code",
   "execution_count": 2,
   "id": "cathedral-railway",
   "metadata": {},
   "outputs": [
    {
     "name": "stdout",
     "output_type": "stream",
     "text": [
      "3.8.8 (default, Feb 24 2021, 13:46:16) \n",
      "[Clang 10.0.0 ]\n",
      "numpy: 1.19.2\n",
      "pandas: 1.2.3\n",
      "nltk: 3.5\n",
      "gensim: 3.8.3\n"
     ]
    }
   ],
   "source": [
    "print(sys.version)\n",
    "print('numpy:',np.__version__)\n",
    "print('pandas:',pd.__version__)\n",
    "print('nltk:',nltk.__version__)\n",
    "print('gensim:',gensim.__version__)"
   ]
  },
  {
   "cell_type": "code",
   "execution_count": 3,
   "id": "complimentary-bench",
   "metadata": {},
   "outputs": [],
   "source": [
    "with open(\"./dbpedia_sample_abstract_20k_unprep.txt\", 'r') as fr_unprep:\n",
    "    text = [line.strip() for line in fr_unprep.readlines()]"
   ]
  },
  {
   "cell_type": "code",
   "execution_count": 4,
   "id": "general-halloween",
   "metadata": {},
   "outputs": [
    {
     "name": "stdout",
     "output_type": "stream",
     "text": [
      "total number of Wikipedia abstracts: 20000\n"
     ]
    }
   ],
   "source": [
    "random.shuffle(text)\n",
    "print('total number of Wikipedia abstracts:',len(text))"
   ]
  },
  {
   "cell_type": "code",
   "execution_count": 5,
   "id": "worthy-employee",
   "metadata": {},
   "outputs": [
    {
     "name": "stdout",
     "output_type": "stream",
     "text": [
      "('The Microregion of São José do Rio Preto (Portuguese: Microrregião de São '\n",
      " 'José do Rio Preto) is located on the north of São Paulo state, Brazil, and '\n",
      " 'is made up of 29 municipalities. It belongs to the Mesoregion of São José do '\n",
      " 'Rio Preto. The microregion has a population of')\n"
     ]
    }
   ],
   "source": [
    "# print the first sentence\n",
    "pprint(text[0])"
   ]
  },
  {
   "cell_type": "markdown",
   "id": "welsh-boston",
   "metadata": {},
   "source": [
    "### Data cleaning & preprocessing"
   ]
  },
  {
   "cell_type": "code",
   "execution_count": 6,
   "id": "purple-television",
   "metadata": {},
   "outputs": [],
   "source": [
    "def cleanPunc(sentence):\n",
    "    '''Clean a sentence of any punctuation or special characters'''\n",
    "    cleaned = re.sub(r'[?|!|\\'|\"|#|”|’]',r'',sentence)\n",
    "    cleaned = re.sub(r'[.|,|(|)|\\|/|-|–]',r' ',cleaned)\n",
    "    cleaned = cleaned.strip()\n",
    "    cleaned = cleaned.replace(\"\\n\",\"\")\n",
    "    cleaned = re.sub('\\s+',' ',cleaned) #replace multiple spaces with a single one\n",
    "    return cleaned"
   ]
  },
  {
   "cell_type": "code",
   "execution_count": 7,
   "id": "personalized-quantity",
   "metadata": {},
   "outputs": [],
   "source": [
    "def preprocess(sentence):\n",
    "    '''Preprocess text, get rid of special chars, convert to lower, remove stop words.'''\n",
    "    sentence = re.sub('[^a-zA-Z]', ' ', sentence)\n",
    "    sentence = re.sub('\\s+',' ',sentence)\n",
    "    sentence = sentence.replace(\"\\n\",\"\")\n",
    "    sentence = sentence.lower()\n",
    "    sentence = [word for word in sentence.split() if word not in stopwords and len(word) > 1]\n",
    "    return ' '.join(sentence)"
   ]
  },
  {
   "cell_type": "code",
   "execution_count": 8,
   "id": "latest-printer",
   "metadata": {},
   "outputs": [
    {
     "name": "stderr",
     "output_type": "stream",
     "text": [
      "[nltk_data] Downloading package stopwords to /Users/isra/nltk_data...\n",
      "[nltk_data]   Package stopwords is already up-to-date!\n"
     ]
    }
   ],
   "source": [
    "nltk.download('stopwords')\n",
    "stopwords = nltk.corpus.stopwords.words('english')\n",
    "stopwords = set(stopwords)"
   ]
  },
  {
   "cell_type": "code",
   "execution_count": 9,
   "id": "royal-matthew",
   "metadata": {},
   "outputs": [],
   "source": [
    "text = list(map(cleanPunc, text))\n",
    "text = list(map(preprocess, text))"
   ]
  },
  {
   "cell_type": "code",
   "execution_count": 10,
   "id": "dramatic-coordinator",
   "metadata": {},
   "outputs": [
    {
     "name": "stdout",
     "output_type": "stream",
     "text": [
      "('microregion jos rio preto portuguese microrregi de jos rio preto located '\n",
      " 'north paulo state brazil made municipalities belongs mesoregion jos rio '\n",
      " 'preto microregion population')\n"
     ]
    }
   ],
   "source": [
    "# print the first sentence again\n",
    "pprint(text[0])"
   ]
  },
  {
   "cell_type": "code",
   "execution_count": 11,
   "id": "intense-coral",
   "metadata": {},
   "outputs": [
    {
     "name": "stderr",
     "output_type": "stream",
     "text": [
      "[nltk_data] Downloading package punkt to /Users/isra/nltk_data...\n",
      "[nltk_data]   Package punkt is already up-to-date!\n"
     ]
    },
    {
     "data": {
      "text/plain": [
       "True"
      ]
     },
     "execution_count": 11,
     "metadata": {},
     "output_type": "execute_result"
    }
   ],
   "source": [
    "nltk.download('punkt')"
   ]
  },
  {
   "cell_type": "markdown",
   "id": "coordinated-reporter",
   "metadata": {},
   "source": [
    "#### Split sentences into tokens (words)"
   ]
  },
  {
   "cell_type": "code",
   "execution_count": 12,
   "id": "dynamic-jersey",
   "metadata": {},
   "outputs": [],
   "source": [
    "from nltk import word_tokenize\n",
    "tokens = list(map(word_tokenize, text))"
   ]
  },
  {
   "cell_type": "code",
   "execution_count": 13,
   "id": "outdoor-procedure",
   "metadata": {},
   "outputs": [
    {
     "data": {
      "text/html": [
       "<div>\n",
       "<style scoped>\n",
       "    .dataframe tbody tr th:only-of-type {\n",
       "        vertical-align: middle;\n",
       "    }\n",
       "\n",
       "    .dataframe tbody tr th {\n",
       "        vertical-align: top;\n",
       "    }\n",
       "\n",
       "    .dataframe thead th {\n",
       "        text-align: right;\n",
       "    }\n",
       "</style>\n",
       "<table border=\"1\" class=\"dataframe\">\n",
       "  <thead>\n",
       "    <tr style=\"text-align: right;\">\n",
       "      <th></th>\n",
       "      <th>abstract</th>\n",
       "      <th>tokens</th>\n",
       "    </tr>\n",
       "  </thead>\n",
       "  <tbody>\n",
       "    <tr>\n",
       "      <th>0</th>\n",
       "      <td>microregion jos rio preto portuguese microrregi de jos rio preto located north paulo state brazil made municipalities belongs mesoregion jos rio preto microregion population</td>\n",
       "      <td>[microregion, jos, rio, preto, portuguese, microrregi, de, jos, rio, preto, located, north, paulo, state, brazil, made, municipalities, belongs, mesoregion, jos, rio, preto, microregion, population]</td>\n",
       "    </tr>\n",
       "    <tr>\n",
       "      <th>1</th>\n",
       "      <td>ultra low floor tram ulf low floor tram operating vienna austria oradea romania lowest floor height vehicle contrast low floor trams floor interior ulf sidewalk height cm inches</td>\n",
       "      <td>[ultra, low, floor, tram, ulf, low, floor, tram, operating, vienna, austria, oradea, romania, lowest, floor, height, vehicle, contrast, low, floor, trams, floor, interior, ulf, sidewalk, height, cm, inches]</td>\n",
       "    </tr>\n",
       "    <tr>\n",
       "      <th>2</th>\n",
       "      <td>november german revolution german november eine deutsche revolution tetralogy novels german writer alfred blin german revolution four volumes vol rger und soldaten citizens soldiers vol ii verratenes volk people betrayed vol iii heimkehr der fronttruppen return</td>\n",
       "      <td>[november, german, revolution, german, november, eine, deutsche, revolution, tetralogy, novels, german, writer, alfred, blin, german, revolution, four, volumes, vol, rger, und, soldaten, citizens, soldiers, vol, ii, verratenes, volk, people, betrayed, vol, iii, heimkehr, der, fronttruppen, return]</td>\n",
       "    </tr>\n",
       "    <tr>\n",
       "      <th>3</th>\n",
       "      <td>livingnow australias largest holistic magazine measured distribution estimated readership magazine monthly independent periodical mainly local australian content international content magazines editor chief elizabeth jewell started magazine whole person predecessor livingnow estimated</td>\n",
       "      <td>[livingnow, australias, largest, holistic, magazine, measured, distribution, estimated, readership, magazine, monthly, independent, periodical, mainly, local, australian, content, international, content, magazines, editor, chief, elizabeth, jewell, started, magazine, whole, person, predecessor, livingnow, estimated]</td>\n",
       "    </tr>\n",
       "    <tr>\n",
       "      <th>4</th>\n",
       "      <td>dangerous seed denj rasu sh vertical scrolling shooter arcade game released namco japan runs namco system hardware later sega mega drive version also developed released like arcade original</td>\n",
       "      <td>[dangerous, seed, denj, rasu, sh, vertical, scrolling, shooter, arcade, game, released, namco, japan, runs, namco, system, hardware, later, sega, mega, drive, version, also, developed, released, like, arcade, original]</td>\n",
       "    </tr>\n",
       "  </tbody>\n",
       "</table>\n",
       "</div>"
      ],
      "text/plain": [
       "                                                                                                                                                                                                                                                                                        abstract  \\\n",
       "0                                                                                                                  microregion jos rio preto portuguese microrregi de jos rio preto located north paulo state brazil made municipalities belongs mesoregion jos rio preto microregion population   \n",
       "1                                                                                                              ultra low floor tram ulf low floor tram operating vienna austria oradea romania lowest floor height vehicle contrast low floor trams floor interior ulf sidewalk height cm inches   \n",
       "2                          november german revolution german november eine deutsche revolution tetralogy novels german writer alfred blin german revolution four volumes vol rger und soldaten citizens soldiers vol ii verratenes volk people betrayed vol iii heimkehr der fronttruppen return   \n",
       "3  livingnow australias largest holistic magazine measured distribution estimated readership magazine monthly independent periodical mainly local australian content international content magazines editor chief elizabeth jewell started magazine whole person predecessor livingnow estimated   \n",
       "4                                                                                                  dangerous seed denj rasu sh vertical scrolling shooter arcade game released namco japan runs namco system hardware later sega mega drive version also developed released like arcade original   \n",
       "\n",
       "                                                                                                                                                                                                                                                                                                                          tokens  \n",
       "0                                                                                                                         [microregion, jos, rio, preto, portuguese, microrregi, de, jos, rio, preto, located, north, paulo, state, brazil, made, municipalities, belongs, mesoregion, jos, rio, preto, microregion, population]  \n",
       "1                                                                                                                 [ultra, low, floor, tram, ulf, low, floor, tram, operating, vienna, austria, oradea, romania, lowest, floor, height, vehicle, contrast, low, floor, trams, floor, interior, ulf, sidewalk, height, cm, inches]  \n",
       "2                     [november, german, revolution, german, november, eine, deutsche, revolution, tetralogy, novels, german, writer, alfred, blin, german, revolution, four, volumes, vol, rger, und, soldaten, citizens, soldiers, vol, ii, verratenes, volk, people, betrayed, vol, iii, heimkehr, der, fronttruppen, return]  \n",
       "3  [livingnow, australias, largest, holistic, magazine, measured, distribution, estimated, readership, magazine, monthly, independent, periodical, mainly, local, australian, content, international, content, magazines, editor, chief, elizabeth, jewell, started, magazine, whole, person, predecessor, livingnow, estimated]  \n",
       "4                                                                                                     [dangerous, seed, denj, rasu, sh, vertical, scrolling, shooter, arcade, game, released, namco, japan, runs, namco, system, hardware, later, sega, mega, drive, version, also, developed, released, like, arcade, original]  "
      ]
     },
     "execution_count": 13,
     "metadata": {},
     "output_type": "execute_result"
    }
   ],
   "source": [
    "df=pd.DataFrame()\n",
    "df['abstract']=text\n",
    "df['tokens']=tokens\n",
    "df.head()"
   ]
  },
  {
   "cell_type": "code",
   "execution_count": 14,
   "id": "former-creator",
   "metadata": {},
   "outputs": [
    {
     "data": {
      "text/plain": [
       "<gensim.corpora.dictionary.Dictionary at 0x11a595f40>"
      ]
     },
     "execution_count": 14,
     "metadata": {},
     "output_type": "execute_result"
    }
   ],
   "source": [
    "# Create a dictionary representation of the documents.\n",
    "dictionary = Dictionary(df[\"tokens\"])\n",
    "dictionary"
   ]
  },
  {
   "cell_type": "code",
   "execution_count": 15,
   "id": "sought-confirmation",
   "metadata": {},
   "outputs": [
    {
     "data": {
      "text/plain": [
       "72883"
      ]
     },
     "execution_count": 15,
     "metadata": {},
     "output_type": "execute_result"
    }
   ],
   "source": [
    "len(dictionary)"
   ]
  },
  {
   "cell_type": "markdown",
   "id": "transparent-visitor",
   "metadata": {},
   "source": [
    "#### Filter out tokens that appear in less than no_below abstracts (absolute number) or more than no_above fraction of total abstracts"
   ]
  },
  {
   "cell_type": "code",
   "execution_count": 16,
   "id": "naughty-governor",
   "metadata": {},
   "outputs": [],
   "source": [
    "dictionary.filter_extremes(no_below=25, no_above=0.5)"
   ]
  },
  {
   "cell_type": "code",
   "execution_count": 17,
   "id": "exterior-deputy",
   "metadata": {},
   "outputs": [
    {
     "data": {
      "text/plain": [
       "3098"
      ]
     },
     "execution_count": 17,
     "metadata": {},
     "output_type": "execute_result"
    }
   ],
   "source": [
    "len(dictionary)"
   ]
  },
  {
   "cell_type": "code",
   "execution_count": 34,
   "id": "overhead-mathematics",
   "metadata": {},
   "outputs": [],
   "source": [
    "?Dictionary\n",
    "?dictionary.filter_extremes\n",
    "?dictionary.doc2bow"
   ]
  },
  {
   "cell_type": "markdown",
   "id": "proprietary-petersburg",
   "metadata": {},
   "source": [
    "####  Convert `document` into the bag-of-words (BoW) format = list of `(token_id, token_count)` tuples."
   ]
  },
  {
   "cell_type": "code",
   "execution_count": 18,
   "id": "allied-valuable",
   "metadata": {},
   "outputs": [],
   "source": [
    "corpus = [dictionary.doc2bow(abstract) for abstract in df[\"tokens\"]]"
   ]
  },
  {
   "cell_type": "markdown",
   "id": "caroline-symbol",
   "metadata": {},
   "source": [
    "### Apply LDA model"
   ]
  },
  {
   "cell_type": "code",
   "execution_count": null,
   "id": "seven-favorite",
   "metadata": {},
   "outputs": [],
   "source": [
    "from gensim.models import LdaModel\n",
    "\n",
    "# Build LDA model\n",
    "lda_model = LdaModel(corpus=corpus, id2word=dictionary, num_topics=50, random_state=43,\n",
    "                chunksize=200, passes=100)"
   ]
  },
  {
   "cell_type": "code",
   "execution_count": null,
   "id": "civilian-secretary",
   "metadata": {},
   "outputs": [],
   "source": [
    "lda_model.print_topics()[:10]"
   ]
  },
  {
   "cell_type": "code",
   "execution_count": null,
   "id": "through-comfort",
   "metadata": {},
   "outputs": [],
   "source": [
    "#https://www.kaggle.com/ktakuma/topic-modeling-of-ml-papers-with-lda\n",
    "#plot word cloud for each topic"
   ]
  }
 ],
 "metadata": {
  "kernelspec": {
   "display_name": "Python 3",
   "language": "python",
   "name": "python3"
  },
  "language_info": {
   "codemirror_mode": {
    "name": "ipython",
    "version": 3
   },
   "file_extension": ".py",
   "mimetype": "text/x-python",
   "name": "python",
   "nbconvert_exporter": "python",
   "pygments_lexer": "ipython3",
   "version": "3.8.8"
  }
 },
 "nbformat": 4,
 "nbformat_minor": 5
}
