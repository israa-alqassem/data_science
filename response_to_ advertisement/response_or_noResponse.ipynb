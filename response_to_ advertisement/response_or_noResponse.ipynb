{
 "cells": [
  {
   "cell_type": "markdown",
   "id": "understood-citizenship",
   "metadata": {},
   "source": [
    "## Task Overview\n",
    "\n",
    "Predicting whether a person will respond to a direct mailing advertisements. To build the model, we are using a sample data that contains various features about different people, e.g., age, income, lifestyle, etc., and their reaction, i.e., whether they respond or not to a sent mail advertisement. The data was collected from population in a residential area after receiving an advertisement by mail.\n"
   ]
  },
  {
   "cell_type": "markdown",
   "id": "native-internship",
   "metadata": {},
   "source": [
    "## Setup"
   ]
  },
  {
   "cell_type": "code",
   "execution_count": 1,
   "id": "thrown-bronze",
   "metadata": {},
   "outputs": [],
   "source": [
    "import sys\n",
    "import csv\n",
    "import pandas as pd\n",
    "import numpy as np\n",
    "import sklearn\n",
    "import matplotlib.pyplot as plt\n",
    "import seaborn as sns\n",
    "from collections import Counter\n",
    "import warnings\n",
    "from time import time\n",
    "import re\n",
    "\n",
    "warnings.filterwarnings('ignore')\n",
    "pd.set_option('display.max_colwidth', None)\n",
    "\n",
    "sns.set(rc={'axes.facecolor':'white', 'figure.facecolor':'white'},font_scale=1.5)\n",
    "\n",
    "\n",
    "sns.set(font_scale=1.35)\n",
    "%matplotlib inline"
   ]
  },
  {
   "cell_type": "code",
   "execution_count": 2,
   "id": "finnish-allergy",
   "metadata": {},
   "outputs": [
    {
     "name": "stdout",
     "output_type": "stream",
     "text": [
      "3.8.8 (default, Feb 24 2021, 13:46:16) \n",
      "[Clang 10.0.0 ]\n",
      "numpy: 1.19.2\n",
      "pandas: 1.2.3\n",
      "sklearn: 0.24.1\n",
      "seaborn: 0.11.1\n"
     ]
    }
   ],
   "source": [
    "print(sys.version)\n",
    "print('numpy:',np.__version__)\n",
    "print('pandas:',pd.__version__)\n",
    "print('sklearn:',sklearn.__version__)\n",
    "print('seaborn:',sns.__version__)"
   ]
  },
  {
   "cell_type": "code",
   "execution_count": 3,
   "id": "conventional-activity",
   "metadata": {},
   "outputs": [
    {
     "data": {
      "text/html": [
       "<div>\n",
       "<style scoped>\n",
       "    .dataframe tbody tr th:only-of-type {\n",
       "        vertical-align: middle;\n",
       "    }\n",
       "\n",
       "    .dataframe tbody tr th {\n",
       "        vertical-align: top;\n",
       "    }\n",
       "\n",
       "    .dataframe thead th {\n",
       "        text-align: right;\n",
       "    }\n",
       "</style>\n",
       "<table border=\"1\" class=\"dataframe\">\n",
       "  <thead>\n",
       "    <tr style=\"text-align: right;\">\n",
       "      <th></th>\n",
       "      <th>name</th>\n",
       "      <th>age</th>\n",
       "      <th>lifestyle</th>\n",
       "      <th>zip code</th>\n",
       "      <th>family status</th>\n",
       "      <th>car</th>\n",
       "      <th>sports</th>\n",
       "      <th>earnings</th>\n",
       "      <th>living area</th>\n",
       "      <th>label</th>\n",
       "    </tr>\n",
       "  </thead>\n",
       "  <tbody>\n",
       "    <tr>\n",
       "      <th>0</th>\n",
       "      <td>VnSEFOuL</td>\n",
       "      <td>62.0</td>\n",
       "      <td>cozily</td>\n",
       "      <td>50168.0</td>\n",
       "      <td>married</td>\n",
       "      <td>practical</td>\n",
       "      <td>athletics</td>\n",
       "      <td>102526.0</td>\n",
       "      <td>urban</td>\n",
       "      <td>no response</td>\n",
       "    </tr>\n",
       "    <tr>\n",
       "      <th>1</th>\n",
       "      <td>8Tv0hcce</td>\n",
       "      <td>34.0</td>\n",
       "      <td>active</td>\n",
       "      <td>66479.0</td>\n",
       "      <td>married</td>\n",
       "      <td>expensive</td>\n",
       "      <td>soccer</td>\n",
       "      <td>33006.0</td>\n",
       "      <td>urban</td>\n",
       "      <td>no response</td>\n",
       "    </tr>\n",
       "    <tr>\n",
       "      <th>2</th>\n",
       "      <td>Zny9ysbk</td>\n",
       "      <td>69.0</td>\n",
       "      <td>healthy</td>\n",
       "      <td>16592.0</td>\n",
       "      <td>single</td>\n",
       "      <td>expensive</td>\n",
       "      <td>badminton</td>\n",
       "      <td>118760.0</td>\n",
       "      <td>urban</td>\n",
       "      <td>response</td>\n",
       "    </tr>\n",
       "    <tr>\n",
       "      <th>3</th>\n",
       "      <td>HV3xCamM</td>\n",
       "      <td>57.0</td>\n",
       "      <td>cozily</td>\n",
       "      <td>50068.0</td>\n",
       "      <td>married</td>\n",
       "      <td>practical</td>\n",
       "      <td>soccer</td>\n",
       "      <td>131429.0</td>\n",
       "      <td>urban</td>\n",
       "      <td>response</td>\n",
       "    </tr>\n",
       "    <tr>\n",
       "      <th>4</th>\n",
       "      <td>sflRsQ6v</td>\n",
       "      <td>66.0</td>\n",
       "      <td>cozily</td>\n",
       "      <td>35988.0</td>\n",
       "      <td>single</td>\n",
       "      <td>practical</td>\n",
       "      <td>badminton</td>\n",
       "      <td>96003.0</td>\n",
       "      <td>urban</td>\n",
       "      <td>response</td>\n",
       "    </tr>\n",
       "  </tbody>\n",
       "</table>\n",
       "</div>"
      ],
      "text/plain": [
       "       name   age lifestyle  zip code family status        car     sports  \\\n",
       "0  VnSEFOuL  62.0    cozily   50168.0       married  practical  athletics   \n",
       "1  8Tv0hcce  34.0    active   66479.0       married  expensive     soccer   \n",
       "2  Zny9ysbk  69.0   healthy   16592.0        single  expensive  badminton   \n",
       "3  HV3xCamM  57.0    cozily   50068.0       married  practical     soccer   \n",
       "4  sflRsQ6v  66.0    cozily   35988.0        single  practical  badminton   \n",
       "\n",
       "   earnings living area        label  \n",
       "0  102526.0       urban  no response  \n",
       "1   33006.0       urban  no response  \n",
       "2  118760.0       urban     response  \n",
       "3  131429.0       urban     response  \n",
       "4   96003.0       urban     response  "
      ]
     },
     "execution_count": 3,
     "metadata": {},
     "output_type": "execute_result"
    }
   ],
   "source": [
    "df = pd.read_csv('./InputData.csv', delimiter = ',')\n",
    "df.head()"
   ]
  },
  {
   "cell_type": "markdown",
   "id": "vietnamese-discretion",
   "metadata": {},
   "source": [
    "### Data Exploration"
   ]
  },
  {
   "cell_type": "code",
   "execution_count": 4,
   "id": "positive-crowd",
   "metadata": {},
   "outputs": [
    {
     "name": "stdout",
     "output_type": "stream",
     "text": [
      "Number of rows = 10000\n",
      "Number of columns (features) = 9\n",
      "# respond to the sent advertisement = 3360\n",
      "# did not respond = 6640\n",
      "Any empty records?\n",
      "name                0\n",
      "age                 0\n",
      "lifestyle           0\n",
      "zip code            0\n",
      "family status       0\n",
      "car                 0\n",
      "sports           1500\n",
      "earnings            0\n",
      "living area         0\n",
      "label               0\n",
      "dtype: int64\n"
     ]
    }
   ],
   "source": [
    "print('Number of rows = %d'%(df.shape[0]))\n",
    "print('Number of columns (features) = %d'%(df.shape[1]-1))\n",
    "print('# respond to the sent advertisement = %d'%(df[\"label\"]=='response').sum())\n",
    "print('# did not respond = %d'%(df[\"label\"]=='no response').sum())\n",
    "print(\"Any empty records?\")\n",
    "print(df.isnull().sum())"
   ]
  },
  {
   "cell_type": "markdown",
   "id": "normal-cable",
   "metadata": {},
   "source": [
    "#### <font color=red> Notes: </font> \n",
    "* Only `sports` feature has 1500 missing values, \n",
    "* We can see that the dataset is unbalanced, we have roughly 2 times as many negative labels (no response) as positive ones (response)"
   ]
  },
  {
   "cell_type": "code",
   "execution_count": 5,
   "id": "infectious-seattle",
   "metadata": {},
   "outputs": [
    {
     "data": {
      "text/plain": [
       "name              object\n",
       "age              float64\n",
       "lifestyle         object\n",
       "zip code         float64\n",
       "family status     object\n",
       "car               object\n",
       "sports            object\n",
       "earnings         float64\n",
       "living area       object\n",
       "label             object\n",
       "dtype: object"
      ]
     },
     "execution_count": 5,
     "metadata": {},
     "output_type": "execute_result"
    }
   ],
   "source": [
    "df.dtypes"
   ]
  },
  {
   "cell_type": "code",
   "execution_count": 6,
   "id": "comparable-council",
   "metadata": {},
   "outputs": [
    {
     "name": "stdout",
     "output_type": "stream",
     "text": [
      "Distinct car types: ['practical' 'expensive']\n",
      "Distinct family status: ['married' 'single']\n",
      "Categories of living areas ['urban' 'rural']\n",
      "Different sport types: ['athletics' 'soccer' 'badminton' nan]\n",
      "Lifestyle categories: ['cozily' 'active' 'healthy']\n",
      "Distinct zip codes: 9450\n"
     ]
    }
   ],
   "source": [
    "print('Distinct car types:',df['car'].unique())\n",
    "print('Distinct family status:',df['family status'].unique())\n",
    "print('Categories of living areas',df['living area'].unique())\n",
    "print('Different sport types:',df['sports'].unique())\n",
    "print('Lifestyle categories:',df['lifestyle'].unique())\n",
    "print('Distinct zip codes:',len(df['zip code'].unique()))"
   ]
  },
  {
   "cell_type": "code",
   "execution_count": 7,
   "id": "czech-seeker",
   "metadata": {},
   "outputs": [
    {
     "data": {
      "text/html": [
       "<div>\n",
       "<style scoped>\n",
       "    .dataframe tbody tr th:only-of-type {\n",
       "        vertical-align: middle;\n",
       "    }\n",
       "\n",
       "    .dataframe tbody tr th {\n",
       "        vertical-align: top;\n",
       "    }\n",
       "\n",
       "    .dataframe thead th {\n",
       "        text-align: right;\n",
       "    }\n",
       "</style>\n",
       "<table border=\"1\" class=\"dataframe\">\n",
       "  <thead>\n",
       "    <tr style=\"text-align: right;\">\n",
       "      <th></th>\n",
       "      <th>age</th>\n",
       "      <th>earnings</th>\n",
       "      <th>zip code</th>\n",
       "    </tr>\n",
       "  </thead>\n",
       "  <tbody>\n",
       "    <tr>\n",
       "      <th>count</th>\n",
       "      <td>10000.000000</td>\n",
       "      <td>10000.000000</td>\n",
       "      <td>10000.000000</td>\n",
       "    </tr>\n",
       "    <tr>\n",
       "      <th>mean</th>\n",
       "      <td>42.090700</td>\n",
       "      <td>85337.799600</td>\n",
       "      <td>55227.270600</td>\n",
       "    </tr>\n",
       "    <tr>\n",
       "      <th>std</th>\n",
       "      <td>15.874416</td>\n",
       "      <td>37554.523323</td>\n",
       "      <td>26139.756227</td>\n",
       "    </tr>\n",
       "    <tr>\n",
       "      <th>min</th>\n",
       "      <td>15.000000</td>\n",
       "      <td>20006.000000</td>\n",
       "      <td>10003.000000</td>\n",
       "    </tr>\n",
       "    <tr>\n",
       "      <th>25%</th>\n",
       "      <td>28.000000</td>\n",
       "      <td>53237.250000</td>\n",
       "      <td>32708.250000</td>\n",
       "    </tr>\n",
       "    <tr>\n",
       "      <th>50%</th>\n",
       "      <td>42.000000</td>\n",
       "      <td>85617.500000</td>\n",
       "      <td>55290.000000</td>\n",
       "    </tr>\n",
       "    <tr>\n",
       "      <th>75%</th>\n",
       "      <td>56.000000</td>\n",
       "      <td>118111.000000</td>\n",
       "      <td>77967.750000</td>\n",
       "    </tr>\n",
       "    <tr>\n",
       "      <th>max</th>\n",
       "      <td>69.000000</td>\n",
       "      <td>149975.000000</td>\n",
       "      <td>99982.000000</td>\n",
       "    </tr>\n",
       "  </tbody>\n",
       "</table>\n",
       "</div>"
      ],
      "text/plain": [
       "                age       earnings      zip code\n",
       "count  10000.000000   10000.000000  10000.000000\n",
       "mean      42.090700   85337.799600  55227.270600\n",
       "std       15.874416   37554.523323  26139.756227\n",
       "min       15.000000   20006.000000  10003.000000\n",
       "25%       28.000000   53237.250000  32708.250000\n",
       "50%       42.000000   85617.500000  55290.000000\n",
       "75%       56.000000  118111.000000  77967.750000\n",
       "max       69.000000  149975.000000  99982.000000"
      ]
     },
     "execution_count": 7,
     "metadata": {},
     "output_type": "execute_result"
    }
   ],
   "source": [
    "df[[\"age\",\"earnings\",\"zip code\"]].describe()"
   ]
  },
  {
   "cell_type": "markdown",
   "id": "similar-croatia",
   "metadata": {},
   "source": [
    "### Exploratory Visualization"
   ]
  },
  {
   "cell_type": "code",
   "execution_count": 8,
   "id": "embedded-fifty",
   "metadata": {},
   "outputs": [],
   "source": [
    "# customized bar plot\n",
    "def make_bar_plot(df_col,title,color,figsize=(4,4)):\n",
    "    ax = df_col.value_counts().plot(kind='bar',edgecolor=\"black\",width=.35,\n",
    "                                    figsize=figsize,alpha=0.75, rot=0,\n",
    "                                    title=title, color=color)\n",
    "    ax.set_ylabel(\"frequency\")\n",
    "    ax.spines['right'].set_visible(False)\n",
    "    ax.spines['top'].set_visible(False)\n",
    "    ax.spines['bottom'].set_color('black')\n",
    "    ax.spines['left'].set_color('black')\n",
    "    plt.show()"
   ]
  },
  {
   "cell_type": "markdown",
   "id": "answering-psychiatry",
   "metadata": {},
   "source": [
    "#### Labels"
   ]
  },
  {
   "cell_type": "code",
   "execution_count": 9,
   "id": "junior-lancaster",
   "metadata": {},
   "outputs": [
    {
     "data": {
      "image/png": "[encoded data removed]",
      "text/plain": [
       "<Figure size 288x288 with 1 Axes>"
      ]
     },
     "metadata": {
      "needs_background": "light"
     },
     "output_type": "display_data"
    },
    {
     "name": "stdout",
     "output_type": "stream",
     "text": [
      "Distinct labels: Counter({'no response': 6640, 'response': 3360})\n"
     ]
    }
   ],
   "source": [
    "make_bar_plot(df['label'],'label',('lightskyblue','lightgreen')) #('orange','royalblue')\n",
    "print('Distinct labels:',Counter(df['label'])) "
   ]
  },
  {
   "cell_type": "markdown",
   "id": "outside-compromise",
   "metadata": {},
   "source": [
    "#### Family status"
   ]
  },
  {
   "cell_type": "code",
   "execution_count": 10,
   "id": "rental-retreat",
   "metadata": {},
   "outputs": [
    {
     "data": {
      "image/png": "[encoded data removed]",
      "text/plain": [
       "<Figure size 288x288 with 1 Axes>"
      ]
     },
     "metadata": {
      "needs_background": "light"
     },
     "output_type": "display_data"
    },
    {
     "name": "stdout",
     "output_type": "stream",
     "text": [
      "Distinct family status: Counter({'married': 5032, 'single': 4968})\n"
     ]
    }
   ],
   "source": [
    "make_bar_plot(df['family status'],'family status',('lightskyblue','lightgreen'))\n",
    "print('Distinct family status:',Counter(df['family status']))"
   ]
  },
  {
   "cell_type": "markdown",
   "id": "distant-radius",
   "metadata": {},
   "source": [
    "#### Living area"
   ]
  },
  {
   "cell_type": "code",
   "execution_count": 11,
   "id": "responsible-mississippi",
   "metadata": {},
   "outputs": [
    {
     "data": {
      "image/png": "[encoded data removed]",
      "text/plain": [
       "<Figure size 288x288 with 1 Axes>"
      ]
     },
     "metadata": {
      "needs_background": "light"
     },
     "output_type": "display_data"
    },
    {
     "name": "stdout",
     "output_type": "stream",
     "text": [
      "Categories of living areas: Counter({'urban': 6300, 'rural': 3700})\n"
     ]
    }
   ],
   "source": [
    "make_bar_plot(df['living area'],'living area',('lightskyblue','lightgreen'))\n",
    "print('Categories of living areas:',Counter(df['living area']))"
   ]
  },
  {
   "cell_type": "markdown",
   "id": "accessible-break",
   "metadata": {},
   "source": [
    "#### Car"
   ]
  },
  {
   "cell_type": "code",
   "execution_count": 12,
   "id": "tracked-membrane",
   "metadata": {},
   "outputs": [
    {
     "data": {
      "image/png": "[encoded data removed]",
      "text/plain": [
       "<Figure size 288x288 with 1 Axes>"
      ]
     },
     "metadata": {
      "needs_background": "light"
     },
     "output_type": "display_data"
    },
    {
     "name": "stdout",
     "output_type": "stream",
     "text": [
      "Distinct car types: Counter({'practical': 5051, 'expensive': 4949})\n"
     ]
    }
   ],
   "source": [
    "make_bar_plot(df['car'],'car',('lightskyblue','lightgreen'))\n",
    "print('Distinct car types:',Counter(df['car']))"
   ]
  },
  {
   "cell_type": "markdown",
   "id": "frequent-consolidation",
   "metadata": {},
   "source": [
    "#### Sports"
   ]
  },
  {
   "cell_type": "code",
   "execution_count": 13,
   "id": "optimum-spank",
   "metadata": {},
   "outputs": [
    {
     "data": {
      "image/png": "[encoded data removed]",
      "text/plain": [
       "<Figure size 432x288 with 1 Axes>"
      ]
     },
     "metadata": {
      "needs_background": "light"
     },
     "output_type": "display_data"
    },
    {
     "name": "stdout",
     "output_type": "stream",
     "text": [
      "Different sport types: Counter({'athletics': 2853, 'badminton': 2828, 'soccer': 2819, 'none': 1500})\n"
     ]
    }
   ],
   "source": [
    "## First, I replace `nan` values with the string none and treat it as a seperate category\n",
    "df['sports'] = df['sports'].replace(np.nan, 'none', regex=True)\n",
    "make_bar_plot(df['sports'],'sports','dodgerblue',figsize=(6,4))\n",
    "print('Different sport types:',Counter(df['sports']))"
   ]
  },
  {
   "cell_type": "markdown",
   "id": "cardiovascular-reading",
   "metadata": {},
   "source": [
    "#### Lifestyle"
   ]
  },
  {
   "cell_type": "code",
   "execution_count": 14,
   "id": "swiss-nerve",
   "metadata": {},
   "outputs": [
    {
     "data": {
      "image/png": "[encoded data removed]",
      "text/plain": [
       "<Figure size 432x288 with 1 Axes>"
      ]
     },
     "metadata": {
      "needs_background": "light"
     },
     "output_type": "display_data"
    },
    {
     "name": "stdout",
     "output_type": "stream",
     "text": [
      "Lifestyle categories: Counter({'active': 3375, 'cozily': 3346, 'healthy': 3279})\n"
     ]
    }
   ],
   "source": [
    "make_bar_plot(df['lifestyle'],'lifestyle','dodgerblue',figsize=(6,4))\n",
    "print('Lifestyle categories:',Counter(df['lifestyle']))"
   ]
  },
  {
   "cell_type": "code",
   "execution_count": 15,
   "id": "auburn-replacement",
   "metadata": {},
   "outputs": [],
   "source": [
    "def make_dist_plot(vals,title,xlabel,color):\n",
    "    \n",
    "    fig, ax = plt.subplots(1,1,figsize=(10, 6))\n",
    "    sns.distplot(vals,color=color,hist_kws=dict(edgecolor=\"black\", linewidth=1))#,kde= True\n",
    "    ax.set_title(title)\n",
    "    ax.set_xlabel(xlabel)\n",
    "    ax.spines['right'].set_visible(False)\n",
    "    ax.spines['top'].set_visible(False)\n",
    "    ax.spines['bottom'].set_color('black')\n",
    "    ax.spines['left'].set_color('black')\n",
    "    ax.tick_params(axis='x',which='both',bottom=True,top=False,labelbottom=True) \n",
    "    ax.tick_params(axis='y',which='both',left=True,right=False,labelleft=True)\n",
    "    plt.show()"
   ]
  },
  {
   "cell_type": "markdown",
   "id": "worthy-individual",
   "metadata": {},
   "source": [
    "#### Distribution of age"
   ]
  },
  {
   "cell_type": "code",
   "execution_count": 16,
   "id": "elegant-clinton",
   "metadata": {},
   "outputs": [
    {
     "data": {
      "image/png": "[encoded data removed]",
      "text/plain": [
       "<Figure size 720x432 with 1 Axes>"
      ]
     },
     "metadata": {
      "needs_background": "light"
     },
     "output_type": "display_data"
    }
   ],
   "source": [
    "make_dist_plot(df['age'],'Distribution of age','Age','blue')"
   ]
  },
  {
   "cell_type": "markdown",
   "id": "front-youth",
   "metadata": {},
   "source": [
    "##### The values for age feature follows more or less a uniform distribution"
   ]
  },
  {
   "cell_type": "code",
   "execution_count": 17,
   "id": "tropical-julian",
   "metadata": {},
   "outputs": [
    {
     "name": "stdout",
     "output_type": "stream",
     "text": [
      "min age = 15\n",
      "max age = 69\n"
     ]
    }
   ],
   "source": [
    "print('min age = %d'%df['age'].min())\n",
    "print('max age = %d'%df['age'].max())"
   ]
  },
  {
   "cell_type": "markdown",
   "id": "treated-willow",
   "metadata": {},
   "source": [
    "#### Distribution of earnings"
   ]
  },
  {
   "cell_type": "code",
   "execution_count": 18,
   "id": "soviet-turner",
   "metadata": {},
   "outputs": [
    {
     "data": {
      "image/png": "[encoded data removed]",
      "text/plain": [
       "<Figure size 720x432 with 1 Axes>"
      ]
     },
     "metadata": {
      "needs_background": "light"
     },
     "output_type": "display_data"
    }
   ],
   "source": [
    "make_dist_plot(df['earnings'],'Distribution of income','Earnings','green')"
   ]
  },
  {
   "cell_type": "code",
   "execution_count": 19,
   "id": "legendary-lotus",
   "metadata": {},
   "outputs": [
    {
     "name": "stdout",
     "output_type": "stream",
     "text": [
      "min earnings = $20,006.0\n",
      "max earnings = $149,975.0\n"
     ]
    }
   ],
   "source": [
    "print('min earnings = $'+f\"{df['earnings'].min():,}\")\n",
    "print('max earnings = $'+f\"{df['earnings'].max():,}\")"
   ]
  },
  {
   "cell_type": "markdown",
   "id": "criminal-security",
   "metadata": {},
   "source": [
    "##### The values for earnings feature follows approx. a uniform distribution"
   ]
  },
  {
   "cell_type": "markdown",
   "id": "roman-traffic",
   "metadata": {},
   "source": [
    "## Feature transformation"
   ]
  },
  {
   "cell_type": "markdown",
   "id": "baking-department",
   "metadata": {},
   "source": [
    "### Binary features"
   ]
  },
  {
   "cell_type": "markdown",
   "id": "facial-armor",
   "metadata": {},
   "source": [
    "#### The binary features, i.e., label, family status, living area, and car are mapped to 0-1 values."
   ]
  },
  {
   "cell_type": "code",
   "execution_count": 20,
   "id": "declared-convergence",
   "metadata": {},
   "outputs": [],
   "source": [
    "df[\"label\"] = df[\"label\"].map({'response': 1, 'no response': 0})\n",
    "df[\"family status\"] = df[\"family status\"].map({'married': 1, 'single': 0})\n",
    "df['living area'] = df['living area'].map({'urban':1, 'rural': 0})\n",
    "df['car'] = df['car'].map({'expensive':1, 'practical': 0})"
   ]
  },
  {
   "cell_type": "markdown",
   "id": "dress-principal",
   "metadata": {},
   "source": [
    "### Age feature"
   ]
  },
  {
   "cell_type": "markdown",
   "id": "bizarre-filter",
   "metadata": {},
   "source": [
    "#### Here, I'm binning the age feature into different intervales, e.g., (10,15] is the bucket where 10 < age <= 15"
   ]
  },
  {
   "cell_type": "code",
   "execution_count": 21,
   "id": "ignored-pleasure",
   "metadata": {},
   "outputs": [
    {
     "name": "stdout",
     "output_type": "stream",
     "text": [
      "min age = 15\n",
      "max age = 69\n"
     ]
    },
    {
     "data": {
      "text/html": [
       "<div>\n",
       "<style scoped>\n",
       "    .dataframe tbody tr th:only-of-type {\n",
       "        vertical-align: middle;\n",
       "    }\n",
       "\n",
       "    .dataframe tbody tr th {\n",
       "        vertical-align: top;\n",
       "    }\n",
       "\n",
       "    .dataframe thead th {\n",
       "        text-align: right;\n",
       "    }\n",
       "</style>\n",
       "<table border=\"1\" class=\"dataframe\">\n",
       "  <thead>\n",
       "    <tr style=\"text-align: right;\">\n",
       "      <th></th>\n",
       "      <th>age</th>\n",
       "      <th>binned_age</th>\n",
       "    </tr>\n",
       "  </thead>\n",
       "  <tbody>\n",
       "    <tr>\n",
       "      <th>0</th>\n",
       "      <td>62.0</td>\n",
       "      <td>(60, 65]</td>\n",
       "    </tr>\n",
       "    <tr>\n",
       "      <th>1</th>\n",
       "      <td>34.0</td>\n",
       "      <td>(30, 35]</td>\n",
       "    </tr>\n",
       "    <tr>\n",
       "      <th>2</th>\n",
       "      <td>69.0</td>\n",
       "      <td>(65, 70]</td>\n",
       "    </tr>\n",
       "    <tr>\n",
       "      <th>3</th>\n",
       "      <td>57.0</td>\n",
       "      <td>(55, 60]</td>\n",
       "    </tr>\n",
       "    <tr>\n",
       "      <th>4</th>\n",
       "      <td>66.0</td>\n",
       "      <td>(65, 70]</td>\n",
       "    </tr>\n",
       "  </tbody>\n",
       "</table>\n",
       "</div>"
      ],
      "text/plain": [
       "    age binned_age\n",
       "0  62.0   (60, 65]\n",
       "1  34.0   (30, 35]\n",
       "2  69.0   (65, 70]\n",
       "3  57.0   (55, 60]\n",
       "4  66.0   (65, 70]"
      ]
     },
     "execution_count": 21,
     "metadata": {},
     "output_type": "execute_result"
    }
   ],
   "source": [
    "print('min age = %d'%df['age'].min())\n",
    "print('max age = %d'%df['age'].max())\n",
    "age_bins = list(range(10,71,5))\n",
    "df['binned_age'] = pd.cut(df['age'], age_bins)\n",
    "df[['age','binned_age']].head()"
   ]
  },
  {
   "cell_type": "markdown",
   "id": "boring-belly",
   "metadata": {},
   "source": [
    "#### Show how many obserbations in each bin, then map the interval to an integer value, e.g., (10, 15] is mapped to 1, (15, 20] is mapped to 2, (25, 30] is mapped to 3 and so on..."
   ]
  },
  {
   "cell_type": "code",
   "execution_count": 22,
   "id": "stuffed-mission",
   "metadata": {},
   "outputs": [
    {
     "name": "stdout",
     "output_type": "stream",
     "text": [
      "\n",
      "  age    --> number of people\n",
      "(10, 15] --> 191\n",
      "(15, 20] --> 892\n",
      "(20, 25] --> 885\n",
      "(25, 30] --> 930\n",
      "(30, 35] --> 907\n",
      "(35, 40] --> 901\n",
      "(40, 45] --> 907\n",
      "(45, 50] --> 937\n",
      "(50, 55] --> 871\n",
      "(55, 60] --> 918\n",
      "(60, 65] --> 924\n",
      "(65, 70] --> 737\n"
     ]
    }
   ],
   "source": [
    "binned_age_dict = Counter(df[\"binned_age\"])\n",
    "print('\\n  age    --> number of people')\n",
    "for i,interval in enumerate(sorted(binned_age_dict.keys())):\n",
    "    print(interval,'-->',binned_age_dict[interval])\n",
    "    df['binned_age'] = df['binned_age'].replace(interval, i+1)"
   ]
  },
  {
   "cell_type": "markdown",
   "id": "suspended-police",
   "metadata": {},
   "source": [
    "### Lifestyle feature"
   ]
  },
  {
   "cell_type": "markdown",
   "id": "decreased-credit",
   "metadata": {},
   "source": [
    "#### Get one hot encoding of lifestyle column"
   ]
  },
  {
   "cell_type": "code",
   "execution_count": 23,
   "id": "champion-sequence",
   "metadata": {},
   "outputs": [],
   "source": [
    "one_hot = pd.get_dummies(df['lifestyle'])\n",
    "df = df.join(one_hot) # Join the encoded df"
   ]
  },
  {
   "cell_type": "markdown",
   "id": "upset-complexity",
   "metadata": {},
   "source": [
    "### Sports feature"
   ]
  },
  {
   "cell_type": "markdown",
   "id": "comparable-mechanics",
   "metadata": {},
   "source": [
    "#### Get one hot encoding of sports columns"
   ]
  },
  {
   "cell_type": "code",
   "execution_count": 24,
   "id": "atmospheric-words",
   "metadata": {},
   "outputs": [],
   "source": [
    "one_hot = pd.get_dummies(df['sports'])\n",
    "df = df.join(one_hot) # Join the encoded df"
   ]
  },
  {
   "cell_type": "markdown",
   "id": "likely-accused",
   "metadata": {},
   "source": [
    "# Model training"
   ]
  },
  {
   "cell_type": "code",
   "execution_count": 25,
   "id": "bearing-album",
   "metadata": {},
   "outputs": [],
   "source": [
    "from sklearn.naive_bayes import GaussianNB\n",
    "from sklearn.linear_model import LogisticRegression\n",
    "from sklearn.tree import DecisionTreeClassifier\n",
    "from sklearn.ensemble import AdaBoostClassifier\n",
    "from sklearn.ensemble import RandomForestClassifier\n",
    "from sklearn.model_selection import train_test_split\n",
    "from sklearn import metrics\n",
    "from sklearn.metrics import accuracy_score, f1_score, precision_score, recall_score\n",
    "from sklearn.metrics import classification_report, confusion_matrix\n",
    "from sklearn.metrics import roc_auc_score, roc_curve"
   ]
  },
  {
   "cell_type": "code",
   "execution_count": 26,
   "id": "varied-expansion",
   "metadata": {},
   "outputs": [],
   "source": [
    "RANDOM_STATE = 42 # random state used to replicate the results"
   ]
  },
  {
   "cell_type": "markdown",
   "id": "tamil-botswana",
   "metadata": {},
   "source": [
    "### Prepare the data"
   ]
  },
  {
   "cell_type": "code",
   "execution_count": 27,
   "id": "missing-shift",
   "metadata": {},
   "outputs": [
    {
     "name": "stdout",
     "output_type": "stream",
     "text": [
      "Data size: (10000, 13)\n",
      "Labels size: (10000, 1)\n"
     ]
    }
   ],
   "source": [
    "feature_list = ['age','family status','car','living area','earnings','zip code','active','cozily','healthy','athletics','badminton','soccer','none']\n",
    "X = df[feature_list]\n",
    "y = df[['label']]\n",
    "print('Data size:',X.shape)\n",
    "print('Labels size:',y.shape)"
   ]
  },
  {
   "cell_type": "markdown",
   "id": "asian-wallet",
   "metadata": {},
   "source": [
    "#### Estimate class weights for unbalanced data"
   ]
  },
  {
   "cell_type": "markdown",
   "id": "everyday-helen",
   "metadata": {},
   "source": [
    "#### Shuffle and split data into 75% training and 25% testing. \n",
    "I useed a stratified shuffle so that both labels have proportional representation in training and testing"
   ]
  },
  {
   "cell_type": "code",
   "execution_count": 28,
   "id": "collective-liver",
   "metadata": {},
   "outputs": [],
   "source": [
    "x_train, x_test, y_train, y_test = train_test_split(X, y, test_size=0.25, random_state=RANDOM_STATE, stratify=y,shuffle=True)"
   ]
  },
  {
   "cell_type": "markdown",
   "id": "individual-night",
   "metadata": {},
   "source": [
    "Just a sanity check..."
   ]
  },
  {
   "cell_type": "code",
   "execution_count": 29,
   "id": "reflected-newfoundland",
   "metadata": {},
   "outputs": [
    {
     "name": "stdout",
     "output_type": "stream",
     "text": [
      "How many 0-labels and 1-labels in all, train and test sets?\n",
      "All: Counter({0: 6640, 1: 3360})\n",
      "Train: Counter({0: 4980, 1: 2520})\n",
      "Test: Counter({0: 1660, 1: 840})\n"
     ]
    }
   ],
   "source": [
    "print('How many 0-labels and 1-labels in all, train and test sets?')\n",
    "print('All:',Counter(y['label']))\n",
    "print('Train:',Counter(y_train['label']))\n",
    "print('Test:',Counter(y_test['label']))"
   ]
  },
  {
   "cell_type": "markdown",
   "id": "floating-doctrine",
   "metadata": {},
   "source": [
    "### Train and test a bucket of classifiers and select the best one"
   ]
  },
  {
   "cell_type": "markdown",
   "id": "juvenile-builder",
   "metadata": {},
   "source": [
    "In order to establish a baseline for the project, we will look at the following out-of-box models from sklearn.\n",
    "\n",
    "\n",
    "* Gaussian Naive Bayes (GaussianNB)\n",
    "* Logistic Regression\n",
    "* Decision Trees\n",
    "* Ensemble Methods (AdaBoost and Random Forest)\n",
    "\n",
    "Since normalization and standardization are not required for the above models, I will use the transformed features without further processing\n"
   ]
  },
  {
   "cell_type": "code",
   "execution_count": 30,
   "id": "related-bottom",
   "metadata": {},
   "outputs": [],
   "source": [
    "def plot_confusion_matrix(cm,title=''):\n",
    "    #https://matplotlib.org/stable/tutorials/colors/colormaps.html\n",
    "    #plt.figure(dpi=600)\n",
    "    ax = plt.subplot()\n",
    "    sns.heatmap(cm, annot=True, ax=ax,cmap='BuPu',cbar=False,annot_kws={\"fontsize\":18},fmt='g');  #annot=True to annotate cells\n",
    "    ax.set_title(title,size=18)\n",
    "    ax.set_xlabel('Predicted labels',size=18)\n",
    "    ax.set_ylabel('True labels',size=18)\n",
    "    ax.xaxis.set_ticklabels(['0', '1'], size=18)\n",
    "    ax.yaxis.set_ticklabels(['0', '1'],size=18)\n",
    "    \n",
    "    plt.show()\n",
    "    \n",
    "\n",
    "def predict_prob(clf, features, target):\n",
    "    ''' Predict label probabilities and computes roc_auc score'''   \n",
    "    proba_arr = clf.predict_proba(features)\n",
    "    return roc_auc_score(target, proba_arr[:,1])\n",
    "\n",
    "def train_predict(clf, X_train, y_train, X_test, y_test):\n",
    "    ''' Fit a classifier then predict labels and compute ROC AUC score '''\n",
    "    \n",
    "    # split string on upper case to print classifier name\n",
    "    name = re.findall('[A-Z][^A-Z]*', clf.__class__.__name__)\n",
    "    name = ' '.join(name)\n",
    "    print (\"*** {} ***\".format(name))\n",
    "    \n",
    "    \n",
    "    start = time()\n",
    "    clf.fit(X_train, y_train)\n",
    "    \n",
    "    print(\"ROC AUC score:\")\n",
    "    print (\"\\ttraining set: {:.4f}\".format(predict_prob(clf, X_train, y_train)))\n",
    "    print (\"\\ttest set: {:.4f}\".format(predict_prob(clf, X_test, y_test)))\n",
    "    \n",
    "    \n",
    "    \n",
    "    y_pred = clf.predict(X_test)\n",
    "    plot_confusion_matrix(confusion_matrix(y_test, y_pred),name)\n",
    "    \n",
    "    print('f1_score = %.4f'%f1_score(y_test, y_pred, average=\"binary\"))\n",
    "    print('precision_score = %.4f'%precision_score(y_test, y_pred, average=\"binary\"))\n",
    "    print('recall_score = %.4f'%recall_score(y_test, y_pred, average=\"binary\")) \n",
    "    \n",
    "    end = time()\n",
    "    print (\"Total time in {:.4f} seconds\\n\".format(end - start))\n",
    "    print('_____________________________________________________\\n')\n",
    "    \n",
    "    \n"
   ]
  },
  {
   "cell_type": "code",
   "execution_count": 31,
   "id": "turkish-palace",
   "metadata": {},
   "outputs": [],
   "source": [
    "clf_list = [GaussianNB(),\n",
    "            LogisticRegression(random_state = RANDOM_STATE), \n",
    "            DecisionTreeClassifier(random_state = RANDOM_STATE), \n",
    "            RandomForestClassifier(random_state = RANDOM_STATE),\n",
    "            AdaBoostClassifier(random_state = RANDOM_STATE)]"
   ]
  },
  {
   "cell_type": "code",
   "execution_count": 32,
   "id": "attempted-bahrain",
   "metadata": {},
   "outputs": [
    {
     "name": "stdout",
     "output_type": "stream",
     "text": [
      "*** Gaussian N B ***\n",
      "ROC AUC score:\n",
      "\ttraining set: 0.8445\n",
      "\ttest set: 0.8287\n"
     ]
    },
    {
     "data": {
      "image/png": "[encoded data removed]",
      "text/plain": [
       "<Figure size 432x288 with 1 Axes>"
      ]
     },
     "metadata": {
      "needs_background": "light"
     },
     "output_type": "display_data"
    },
    {
     "name": "stdout",
     "output_type": "stream",
     "text": [
      "f1_score = 0.6980\n",
      "precision_score = 0.7602\n",
      "recall_score = 0.6452\n",
      "Total time in 0.1634 seconds\n",
      "\n",
      "_____________________________________________________\n",
      "\n",
      "*** Logistic Regression ***\n",
      "ROC AUC score:\n",
      "\ttraining set: 0.7074\n",
      "\ttest set: 0.6811\n"
     ]
    },
    {
     "data": {
      "image/png": "[encoded data removed]",
      "text/plain": [
       "<Figure size 432x288 with 1 Axes>"
      ]
     },
     "metadata": {
      "needs_background": "light"
     },
     "output_type": "display_data"
    },
    {
     "name": "stdout",
     "output_type": "stream",
     "text": [
      "f1_score = 0.4833\n",
      "precision_score = 0.5236\n",
      "recall_score = 0.4488\n",
      "Total time in 0.1545 seconds\n",
      "\n",
      "_____________________________________________________\n",
      "\n",
      "*** Decision Tree Classifier ***\n",
      "ROC AUC score:\n",
      "\ttraining set: 1.0000\n",
      "\ttest set: 0.8285\n"
     ]
    },
    {
     "data": {
      "image/png": "[encoded data removed]",
      "text/plain": [
       "<Figure size 432x288 with 1 Axes>"
      ]
     },
     "metadata": {
      "needs_background": "light"
     },
     "output_type": "display_data"
    },
    {
     "name": "stdout",
     "output_type": "stream",
     "text": [
      "f1_score = 0.7729\n",
      "precision_score = 0.7780\n",
      "recall_score = 0.7679\n",
      "Total time in 0.1902 seconds\n",
      "\n",
      "_____________________________________________________\n",
      "\n",
      "*** Random Forest Classifier ***\n",
      "ROC AUC score:\n",
      "\ttraining set: 1.0000\n",
      "\ttest set: 0.9236\n"
     ]
    },
    {
     "data": {
      "image/png": "[encoded data removed]",
      "text/plain": [
       "<Figure size 432x288 with 1 Axes>"
      ]
     },
     "metadata": {
      "needs_background": "light"
     },
     "output_type": "display_data"
    },
    {
     "name": "stdout",
     "output_type": "stream",
     "text": [
      "f1_score = 0.8802\n",
      "precision_score = 0.8602\n",
      "recall_score = 0.9012\n",
      "Total time in 0.9440 seconds\n",
      "\n",
      "_____________________________________________________\n",
      "\n",
      "*** Ada Boost Classifier ***\n",
      "ROC AUC score:\n",
      "\ttraining set: 0.9275\n",
      "\ttest set: 0.9134\n"
     ]
    },
    {
     "data": {
      "image/png": "[encoded data removed]",
      "text/plain": [
       "<Figure size 432x288 with 1 Axes>"
      ]
     },
     "metadata": {
      "needs_background": "light"
     },
     "output_type": "display_data"
    },
    {
     "name": "stdout",
     "output_type": "stream",
     "text": [
      "f1_score = 0.8639\n",
      "precision_score = 0.8588\n",
      "recall_score = 0.8690\n",
      "Total time in 0.4636 seconds\n",
      "\n",
      "_____________________________________________________\n",
      "\n"
     ]
    }
   ],
   "source": [
    "for clf in clf_list:\n",
    "    train_predict(clf, x_train, y_train, x_test, y_test)"
   ]
  },
  {
   "cell_type": "code",
   "execution_count": 33,
   "id": "young-denver",
   "metadata": {},
   "outputs": [],
   "source": [
    "def get_clf_f1_score_test_set(clf, X_train, y_train, X_test, y_test):\n",
    "    clf.fit(X_train, y_train)\n",
    "    y_pred = clf.predict(X_test)\n",
    "    return f1_score(y_test, y_pred, average=\"binary\")"
   ]
  },
  {
   "cell_type": "code",
   "execution_count": 34,
   "id": "casual-missouri",
   "metadata": {},
   "outputs": [
    {
     "data": {
      "image/png": "[encoded data removed]",
      "text/plain": [
       "<Figure size 510x340 with 1 Axes>"
      ]
     },
     "metadata": {},
     "output_type": "display_data"
    },
    {
     "data": {
      "text/plain": [
       "<Figure size 1008x576 with 0 Axes>"
      ]
     },
     "metadata": {},
     "output_type": "display_data"
    }
   ],
   "source": [
    "### Visualize all of the classifiers F1 scores   \n",
    "sns.set(rc={'axes.facecolor':'whitesmoke', 'figure.facecolor':'white'},font_scale=1.5)\n",
    "# Set up the training set sizes for 100, 200 and 300 respectively.\n",
    "train_feature_list = [x_train[0:2500],x_train[0:5000],x_train]\n",
    "train_target_list = [y_train[0:2500], y_train[0:5000], y_train]\n",
    "plt.figure(dpi=85)\n",
    "for clf in clf_list:\n",
    "    x_graph = []\n",
    "    y_graph = []\n",
    "    for a, b in zip(train_feature_list, train_target_list):\n",
    "        y_graph.append(get_clf_f1_score_test_set(clf, a, b, x_test, y_test))\n",
    "        x_graph.append(len(a))\n",
    "    plt.scatter(x_graph,y_graph)\n",
    "    clf_name = re.findall('[A-Z][^A-Z]*', clf.__class__.__name__)\n",
    "    plt.plot(x_graph,y_graph, label = ' '.join(clf_name))\n",
    "\n",
    "plt.title('Comparison of Different Classifiers')\n",
    "plt.xlabel('Training Size')\n",
    "plt.gca().set_xticks([2500,5000,7500])\n",
    "plt.ylabel('F1 score on test set')\n",
    "plt.legend(bbox_to_anchor=(1., 1.03),frameon=False)\n",
    "plt.figure(figsize=(14,8))             \n",
    "plt.show()"
   ]
  },
  {
   "cell_type": "markdown",
   "id": "corresponding-industry",
   "metadata": {},
   "source": [
    "It seems that the Random Forest Classifier did the best in our benchmark test"
   ]
  },
  {
   "cell_type": "markdown",
   "id": "welcome-twenty",
   "metadata": {},
   "source": [
    "### Train a Random Forest classifier"
   ]
  },
  {
   "cell_type": "markdown",
   "id": "french-lyric",
   "metadata": {},
   "source": [
    "class_weight is used to penalize the classifier more when it misclassifies a positive minority class"
   ]
  },
  {
   "cell_type": "code",
   "execution_count": 35,
   "id": "alive-alfred",
   "metadata": {},
   "outputs": [],
   "source": [
    "clf = RandomForestClassifier(n_estimators=100,class_weight={0:1,1:3}) "
   ]
  },
  {
   "cell_type": "code",
   "execution_count": 36,
   "id": "golden-insider",
   "metadata": {},
   "outputs": [
    {
     "name": "stdout",
     "output_type": "stream",
     "text": [
      "Averaging scores over 10 runs...\n",
      "confusion_matrix:\n",
      " [[1536.   124. ]\n",
      " [  88.4  751.6]]\n",
      "F1 score = 0.8762\n",
      "Precision score = 0.8584\n",
      "Recall score = 0.8948\n"
     ]
    }
   ],
   "source": [
    "RUNS = 10\n",
    "print('Averaging scores over %d runs...'%RUNS)\n",
    "f1_vals = []\n",
    "precision_vals = []\n",
    "recall_vals = []\n",
    "cm = [[0 for i in range(2)] for j in range(2)] \n",
    "for i in range(RUNS):\n",
    "    clf.fit(x_train,y_train)\n",
    "    y_pred = clf.predict(x_test)\n",
    "    cm += confusion_matrix(y_test, y_pred)\n",
    "    f1_vals.append(f1_score(y_test, y_pred, average=\"binary\"))\n",
    "    precision_vals.append(precision_score(y_test, y_pred, average=\"binary\"))\n",
    "    recall_vals.append(recall_score(y_test, y_pred, average=\"binary\"))\n",
    "\n",
    "print('confusion_matrix:\\n',cm/10)\n",
    "print('F1 score = %.4f'%np.mean(f1_vals))\n",
    "print('Precision score = %.4f'%np.mean(precision_vals))\n",
    "print('Recall score = %.4f'%np.mean(recall_vals))"
   ]
  },
  {
   "cell_type": "markdown",
   "id": "extraordinary-ebony",
   "metadata": {},
   "source": [
    "#### Plot feature importance scores according"
   ]
  },
  {
   "cell_type": "code",
   "execution_count": 37,
   "id": "spare-comfort",
   "metadata": {},
   "outputs": [
    {
     "data": {
      "image/png": "[encoded data removed]",
      "text/plain": [
       "<Figure size 800x480 with 1 Axes>"
      ]
     },
     "metadata": {},
     "output_type": "display_data"
    }
   ],
   "source": [
    "feature_imp = pd.Series(clf.feature_importances_,index=X.columns).sort_values(ascending=False)\n",
    "sns.set_style('ticks')\n",
    "fig, ax = plt.subplots(dpi=80)\n",
    "fig.set_size_inches(10, 6)\n",
    "sns.despine()\n",
    "sns.set(font_scale = 1)\n",
    "b = sns.barplot(x=feature_imp, y=feature_imp.index, palette=\"Spectral\")\n",
    "b.set_yticklabels(feature_imp.index, size = 14)\n",
    "plt.xlim(0.0,0.5)\n",
    "plt.xlabel('Feature Importance Score',fontsize=14)\n",
    "plt.ylabel('',fontsize=14)\n",
    "plt.title(\"All Features\",fontsize=14)\n",
    "plt.show()"
   ]
  },
  {
   "cell_type": "code",
   "execution_count": 38,
   "id": "martial-property",
   "metadata": {},
   "outputs": [
    {
     "name": "stdout",
     "output_type": "stream",
     "text": [
      "Current model's parameters:\n",
      "{'bootstrap': True,\n",
      " 'ccp_alpha': 0.0,\n",
      " 'class_weight': {0: 1, 1: 3},\n",
      " 'criterion': 'gini',\n",
      " 'max_depth': None,\n",
      " 'max_features': 'auto',\n",
      " 'max_leaf_nodes': None,\n",
      " 'max_samples': None,\n",
      " 'min_impurity_decrease': 0.0,\n",
      " 'min_impurity_split': None,\n",
      " 'min_samples_leaf': 1,\n",
      " 'min_samples_split': 2,\n",
      " 'min_weight_fraction_leaf': 0.0,\n",
      " 'n_estimators': 100,\n",
      " 'n_jobs': None,\n",
      " 'oob_score': False,\n",
      " 'random_state': None,\n",
      " 'verbose': 0,\n",
      " 'warm_start': False}\n"
     ]
    }
   ],
   "source": [
    "from pprint import pprint\n",
    "print(\"Current model's parameters:\")\n",
    "pprint(clf.get_params())"
   ]
  },
  {
   "cell_type": "markdown",
   "id": "extreme-induction",
   "metadata": {},
   "source": [
    "### Use random search to search for best hyperparameters for the Random Forest Classifier"
   ]
  },
  {
   "cell_type": "code",
   "execution_count": 39,
   "id": "quantitative-swing",
   "metadata": {},
   "outputs": [],
   "source": [
    "from sklearn.model_selection import RandomizedSearchCV\n",
    "\n",
    "# Parameters to tune\n",
    "n_estimators = [int(x) for x in np.linspace(start = 10, stop = 100, num = 10)] #Number of trees in random forest\n",
    "max_features = ['auto', 'sqrt',\"log2\",None] #Number of features to consider at every split\n",
    "max_depth = [int(x) for x in np.linspace(5, 50, num = 5)] #Maximum number of levels in tree\n",
    "max_depth.append(None)\n",
    "min_samples_split = [2, 5, 10] #Minimum number of samples required to split a node\n",
    "min_samples_leaf = [1, 2, 4] #Minimum number of samples required at each leaf node\n",
    "bootstrap = [True, False] #Method of selecting samples for training each tree\n",
    "scoreFunction = {\"recall\": \"recall\",\"f1\":\"f1\"} #scoring functions to maximize\n",
    "pos_weights = [{1: w} for w in [1, 2, 3, 4, 10]] # positive label weights\n",
    "\n",
    "# Create the random grid\n",
    "random_grid = {'n_estimators': n_estimators,\n",
    "               'max_features': max_features,\n",
    "               'max_depth': max_depth,\n",
    "               'min_samples_split': min_samples_split,\n",
    "               'min_samples_leaf': min_samples_leaf,\n",
    "               'class_weight':pos_weights, \n",
    "               'bootstrap': bootstrap}\n",
    "#pprint(random_grid)"
   ]
  },
  {
   "cell_type": "code",
   "execution_count": 40,
   "id": "stuck-transformation",
   "metadata": {},
   "outputs": [
    {
     "name": "stdout",
     "output_type": "stream",
     "text": [
      "Fitting 3 folds for each of 200 candidates, totalling 600 fits\n"
     ]
    },
    {
     "data": {
      "text/plain": [
       "RandomizedSearchCV(cv=3, estimator=RandomForestClassifier(), n_iter=200,\n",
       "                   n_jobs=-1,\n",
       "                   param_distributions={'bootstrap': [True, False],\n",
       "                                        'class_weight': [{1: 1}, {1: 2}, {1: 3},\n",
       "                                                         {1: 4}, {1: 10}],\n",
       "                                        'max_depth': [5, 16, 27, 38, 50, None],\n",
       "                                        'max_features': ['auto', 'sqrt', 'log2',\n",
       "                                                         None],\n",
       "                                        'min_samples_leaf': [1, 2, 4],\n",
       "                                        'min_samples_split': [2, 5, 10],\n",
       "                                        'n_estimators': [10, 20, 30, 40, 50, 60,\n",
       "                                                         70, 80, 90, 100]},\n",
       "                   random_state=42, refit='f1',\n",
       "                   scoring={'f1': 'f1', 'recall': 'recall'}, verbose=1)"
      ]
     },
     "execution_count": 40,
     "metadata": {},
     "output_type": "execute_result"
    }
   ],
   "source": [
    "#Base model to tune\n",
    "rf = RandomForestClassifier() \n",
    "# Random search of parameters, using 3 fold cross validation, \n",
    "# search across 200 different combinations, and use all available cores\n",
    "rf_random = RandomizedSearchCV(estimator = rf, \n",
    "                               param_distributions = random_grid,\n",
    "                               scoring = scoreFunction,               \n",
    "                               refit = \"f1\",\n",
    "                               n_iter = 200, \n",
    "                               cv = 3, \n",
    "                               verbose=1, \n",
    "                               random_state=42, \n",
    "                               n_jobs = -1)\n",
    "# Fit the random search model\n",
    "rf_random.fit(x_train, y_train)"
   ]
  },
  {
   "cell_type": "code",
   "execution_count": 41,
   "id": "seventh-hello",
   "metadata": {},
   "outputs": [
    {
     "data": {
      "text/plain": [
       "RandomForestClassifier(class_weight={1: 2}, max_features=None,\n",
       "                       min_samples_leaf=4, n_estimators=80)"
      ]
     },
     "execution_count": 41,
     "metadata": {},
     "output_type": "execute_result"
    }
   ],
   "source": [
    "rf_random.best_estimator_"
   ]
  },
  {
   "cell_type": "code",
   "execution_count": 42,
   "id": "studied-outside",
   "metadata": {},
   "outputs": [
    {
     "name": "stdout",
     "output_type": "stream",
     "text": [
      "f1_score = 0.8819\n",
      "precision_score = 0.8581\n",
      "recall_score = 0.9071\n"
     ]
    },
    {
     "data": {
      "image/png": "[encoded data removed]",
      "text/plain": [
       "<Figure size 432x288 with 1 Axes>"
      ]
     },
     "metadata": {},
     "output_type": "display_data"
    }
   ],
   "source": [
    "y_pred = rf_random.predict(x_test)\n",
    "print('f1_score = %.4f'%f1_score(y_test, y_pred, average=\"binary\"))\n",
    "print('precision_score = %.4f'%precision_score(y_test, y_pred, average=\"binary\"))\n",
    "print('recall_score = %.4f'%recall_score(y_test, y_pred, average=\"binary\")) \n",
    "plot_confusion_matrix(confusion_matrix(y_test,y_pred))"
   ]
  },
  {
   "cell_type": "markdown",
   "id": "thirty-leather",
   "metadata": {},
   "source": [
    "### References:\n",
    "* https://towardsdatascience.com/hyperparameter-tuning-the-random-forest-in-python-using-scikit-learn-28d2aa77dd74\n",
    "* https://scikit-learn.org/stable/modules/model_evaluation.html"
   ]
  }
 ],
 "metadata": {
  "kernelspec": {
   "display_name": "Python 3",
   "language": "python",
   "name": "python3"
  },
  "language_info": {
   "codemirror_mode": {
    "name": "ipython",
    "version": 3
   },
   "file_extension": ".py",
   "mimetype": "text/x-python",
   "name": "python",
   "nbconvert_exporter": "python",
   "pygments_lexer": "ipython3",
   "version": "3.8.8"
  }
 },
 "nbformat": 4,
 "nbformat_minor": 5
}
